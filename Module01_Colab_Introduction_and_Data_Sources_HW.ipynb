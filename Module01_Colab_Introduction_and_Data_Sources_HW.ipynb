{
  "nbformat": 4,
  "nbformat_minor": 0,
  "metadata": {
    "colab": {
      "provenance": [],
      "authorship_tag": "ABX9TyMOizfKec7XnLTDXS7ktx84",
      "include_colab_link": true
    },
    "kernelspec": {
      "name": "python3",
      "display_name": "Python 3"
    },
    "language_info": {
      "name": "python"
    }
  },
  "cells": [
    {
      "cell_type": "markdown",
      "metadata": {
        "id": "view-in-github",
        "colab_type": "text"
      },
      "source": [
        "<a href=\"https://colab.research.google.com/github/anilkulkarni87/stock-markets-analytics-zoomcamp/blob/main/Module01_Colab_Introduction_and_Data_Sources_HW.ipynb\" target=\"_parent\"><img src=\"https://colab.research.google.com/assets/colab-badge.svg\" alt=\"Open In Colab\"/></a>"
      ]
    },
    {
      "cell_type": "code",
      "execution_count": null,
      "metadata": {
        "colab": {
          "base_uri": "https://localhost:8080/"
        },
        "id": "ZMZSLW7Qk97f",
        "outputId": "ca7ebd9c-2540-412e-d15b-342a5b7fb175"
      },
      "outputs": [
        {
          "output_type": "stream",
          "name": "stdout",
          "text": [
            "Requirement already satisfied: yfinance in /usr/local/lib/python3.10/dist-packages (0.2.38)\n",
            "Requirement already satisfied: pandas>=1.3.0 in /usr/local/lib/python3.10/dist-packages (from yfinance) (2.0.3)\n",
            "Requirement already satisfied: numpy>=1.16.5 in /usr/local/lib/python3.10/dist-packages (from yfinance) (1.25.2)\n",
            "Requirement already satisfied: requests>=2.31 in /usr/local/lib/python3.10/dist-packages (from yfinance) (2.31.0)\n",
            "Requirement already satisfied: multitasking>=0.0.7 in /usr/local/lib/python3.10/dist-packages (from yfinance) (0.0.11)\n",
            "Requirement already satisfied: lxml>=4.9.1 in /usr/local/lib/python3.10/dist-packages (from yfinance) (4.9.4)\n",
            "Requirement already satisfied: appdirs>=1.4.4 in /usr/local/lib/python3.10/dist-packages (from yfinance) (1.4.4)\n",
            "Requirement already satisfied: pytz>=2022.5 in /usr/local/lib/python3.10/dist-packages (from yfinance) (2023.4)\n",
            "Requirement already satisfied: frozendict>=2.3.4 in /usr/local/lib/python3.10/dist-packages (from yfinance) (2.4.2)\n",
            "Requirement already satisfied: peewee>=3.16.2 in /usr/local/lib/python3.10/dist-packages (from yfinance) (3.17.2)\n",
            "Requirement already satisfied: beautifulsoup4>=4.11.1 in /usr/local/lib/python3.10/dist-packages (from yfinance) (4.12.3)\n",
            "Requirement already satisfied: html5lib>=1.1 in /usr/local/lib/python3.10/dist-packages (from yfinance) (1.1)\n",
            "Requirement already satisfied: soupsieve>1.2 in /usr/local/lib/python3.10/dist-packages (from beautifulsoup4>=4.11.1->yfinance) (2.5)\n",
            "Requirement already satisfied: six>=1.9 in /usr/local/lib/python3.10/dist-packages (from html5lib>=1.1->yfinance) (1.16.0)\n",
            "Requirement already satisfied: webencodings in /usr/local/lib/python3.10/dist-packages (from html5lib>=1.1->yfinance) (0.5.1)\n",
            "Requirement already satisfied: python-dateutil>=2.8.2 in /usr/local/lib/python3.10/dist-packages (from pandas>=1.3.0->yfinance) (2.8.2)\n",
            "Requirement already satisfied: tzdata>=2022.1 in /usr/local/lib/python3.10/dist-packages (from pandas>=1.3.0->yfinance) (2024.1)\n",
            "Requirement already satisfied: charset-normalizer<4,>=2 in /usr/local/lib/python3.10/dist-packages (from requests>=2.31->yfinance) (3.3.2)\n",
            "Requirement already satisfied: idna<4,>=2.5 in /usr/local/lib/python3.10/dist-packages (from requests>=2.31->yfinance) (3.7)\n",
            "Requirement already satisfied: urllib3<3,>=1.21.1 in /usr/local/lib/python3.10/dist-packages (from requests>=2.31->yfinance) (2.0.7)\n",
            "Requirement already satisfied: certifi>=2017.4.17 in /usr/local/lib/python3.10/dist-packages (from requests>=2.31->yfinance) (2024.2.2)\n"
          ]
        }
      ],
      "source": [
        "# install main library YFinance\n",
        "!pip install yfinance"
      ]
    },
    {
      "cell_type": "code",
      "source": [
        "# IMPORTS\n",
        "import numpy as np\n",
        "import pandas as pd\n",
        "\n",
        "#Fin Data Sources\n",
        "import yfinance as yf\n",
        "import pandas_datareader as pdr\n",
        "\n",
        "#Data viz\n",
        "import plotly.graph_objs as go\n",
        "import plotly.express as px\n",
        "\n",
        "import time\n",
        "from datetime import date\n"
      ],
      "metadata": {
        "id": "C8WZv2eelC56"
      },
      "execution_count": null,
      "outputs": []
    },
    {
      "cell_type": "code",
      "source": [
        "end = date.today()\n",
        "print(f'Year = {end.year}; month= {end.month}; day={end.day}')\n",
        "\n",
        "start = date(year=end.year-70, month=end.month, day=end.day)\n",
        "print(f'Period for indexes: {start} to {end} ')"
      ],
      "metadata": {
        "colab": {
          "base_uri": "https://localhost:8080/"
        },
        "id": "hQor4R-ylGPw",
        "outputId": "82b4bc82-411c-4ec3-8611-23a3ba300c29"
      },
      "execution_count": null,
      "outputs": [
        {
          "output_type": "stream",
          "name": "stdout",
          "text": [
            "Year = 2024; month= 4; day=19\n",
            "Period for indexes: 1954-04-19 to 2024-04-19 \n"
          ]
        }
      ]
    },
    {
      "cell_type": "markdown",
      "source": [
        "## Question 1"
      ],
      "metadata": {
        "id": "RY1QG4_IlIFl"
      }
    },
    {
      "cell_type": "code",
      "source": [
        "# Real Potential Gross Domestic Product (GDPPOT), Billions of Chained 2012 Dollars, QUARTERLY\n",
        "# https://fred.stlouisfed.org/series/GDPPOT\n",
        "gdpc1 = pdr.DataReader(\"GDPC1\", \"fred\", start=start)\n",
        "gdpc1['gdpc1_us_yoy'] = (gdpc1.GDPC1/gdpc1.GDPC1.shift(4)-1)*100\n",
        "gdpc1.tail(10)\n",
        "yoy_2023 = gdpc1['gdpc1_us_yoy']['2023']\n",
        "\n",
        "#Round the average growth rate to 1 decimal place\n",
        "average_growth_2023 = round(yoy_2023.mean(), 1)\n",
        "print(\"Average YoY GDP growth rate in 2023: {}%\".format(average_growth_2023))"
      ],
      "metadata": {
        "colab": {
          "base_uri": "https://localhost:8080/"
        },
        "id": "_C4e5o8SlLX9",
        "outputId": "58418d9e-cac0-4475-f28e-fce6c9ee5f82"
      },
      "execution_count": null,
      "outputs": [
        {
          "output_type": "stream",
          "name": "stdout",
          "text": [
            "Average YoY GDP growth rate in 2023: 2.5%\n"
          ]
        }
      ]
    },
    {
      "cell_type": "markdown",
      "source": [
        "## Question 2"
      ],
      "metadata": {
        "id": "65Y3t6VoK0yr"
      }
    },
    {
      "cell_type": "code",
      "source": [
        "import pandas as pd\n",
        "\n",
        "# Download DGS2 and DGS10 data from FRED\n",
        "dgs2_url = \"https://fred.stlouisfed.org/graph/fredgraph.csv?id=DGS2\"\n",
        "dgs10_url = \"https://fred.stlouisfed.org/graph/fredgraph.csv?id=DGS10\"\n",
        "dgs2 = pd.read_csv(dgs2_url, parse_dates=['DATE'])\n",
        "dgs10 = pd.read_csv(dgs10_url, parse_dates=['DATE'])\n",
        "\n",
        "print(dgs2)\n",
        "print(dgs10)\n",
        "\n",
        "# Convert columns to numeric\n",
        "dgs2['DGS2'] = pd.to_numeric(dgs2['DGS2'], errors='coerce')\n",
        "dgs10['DGS10'] = pd.to_numeric(dgs10['DGS10'], errors='coerce')\n",
        "\n",
        "\n",
        "# Join DGS2 and DGS10 into one DataFrame using the date as index\n",
        "interest_rates = dgs2.merge(dgs10, on='DATE', suffixes=('_2', '_10'))\n",
        "print(interest_rates)\n",
        "print(interest_rates.dtypes)\n",
        "interest_rates.set_index('DATE', inplace=True)\n",
        "\n",
        "# Calculate the difference between DGS10 and DGS2\n",
        "interest_rates['spread'] = interest_rates['DGS10'] - interest_rates['DGS2']\n",
        "\n",
        "# Filter data since the year 2000\n",
        "interest_rates_since_2000 = interest_rates['2000':]\n",
        "\n",
        "# Find the minimum value of the spread\n",
        "min_spread = interest_rates_since_2000['spread'].min()\n",
        "\n",
        "# Round the minimum spread to 1 decimal place\n",
        "min_spread_rounded = round(min_spread, 1)\n",
        "\n",
        "print(\"Minimum value of (DGS10 - DGS2) since 2000: {}%\".format(min_spread_rounded))\n"
      ],
      "metadata": {
        "colab": {
          "base_uri": "https://localhost:8080/"
        },
        "id": "SCaQZO7XK2xf",
        "outputId": "d316d137-3d57-4737-e5a0-660ec277714d"
      },
      "execution_count": null,
      "outputs": [
        {
          "output_type": "stream",
          "name": "stdout",
          "text": [
            "            DATE   DGS2\n",
            "0     1976-06-01  7.260\n",
            "1     1976-06-02  7.230\n",
            "2     1976-06-03  7.220\n",
            "3     1976-06-04  7.120\n",
            "4     1976-06-07  7.090\n",
            "...          ...    ...\n",
            "12487 2024-04-11   4.93\n",
            "12488 2024-04-12   4.88\n",
            "12489 2024-04-15   4.93\n",
            "12490 2024-04-16   4.97\n",
            "12491 2024-04-17   4.93\n",
            "\n",
            "[12492 rows x 2 columns]\n",
            "            DATE DGS10\n",
            "0     1962-01-02  4.06\n",
            "1     1962-01-03  4.03\n",
            "2     1962-01-04  3.99\n",
            "3     1962-01-05  4.02\n",
            "4     1962-01-08  4.03\n",
            "...          ...   ...\n",
            "16247 2024-04-11  4.56\n",
            "16248 2024-04-12   4.5\n",
            "16249 2024-04-15  4.63\n",
            "16250 2024-04-16  4.67\n",
            "16251 2024-04-17  4.59\n",
            "\n",
            "[16252 rows x 2 columns]\n",
            "            DATE  DGS2  DGS10\n",
            "0     1976-06-01  7.26   7.94\n",
            "1     1976-06-02  7.23   7.94\n",
            "2     1976-06-03  7.22   7.92\n",
            "3     1976-06-04  7.12   7.89\n",
            "4     1976-06-07  7.09   7.88\n",
            "...          ...   ...    ...\n",
            "12487 2024-04-11  4.93   4.56\n",
            "12488 2024-04-12  4.88   4.50\n",
            "12489 2024-04-15  4.93   4.63\n",
            "12490 2024-04-16  4.97   4.67\n",
            "12491 2024-04-17  4.93   4.59\n",
            "\n",
            "[12492 rows x 3 columns]\n",
            "DATE     datetime64[ns]\n",
            "DGS2            float64\n",
            "DGS10           float64\n",
            "dtype: object\n",
            "Minimum value of (DGS10 - DGS2) since 2000: -1.1%\n"
          ]
        }
      ]
    },
    {
      "cell_type": "markdown",
      "source": [
        "## Question 3"
      ],
      "metadata": {
        "id": "MiGWve4_rS3P"
      }
    },
    {
      "cell_type": "markdown",
      "source": [],
      "metadata": {
        "id": "ZdaMH3_XNa7n"
      }
    },
    {
      "cell_type": "code",
      "source": [
        "import yfinance as yf\n",
        "import numpy as np\n",
        "\n",
        "# Download S&P 500 (^GSPC) and IPC Mexico (^MXX) index data from Yahoo Finance\n",
        "sp500_data = yf.download('^GSPC', start='2019-04-09', end='2024-04-09')['Adj Close']\n",
        "ipc_data = yf.download('^MXX', start='2019-04-09', end='2024-04-09')['Adj Close']\n",
        "\n",
        "print(sp500_data)\n",
        "\n",
        "# Calculate the 5-year growth rate for each index\n",
        "sp500_growth = (sp500_data.iloc[-1] / sp500_data.iloc[0] - 1) * 100\n",
        "ipc_growth = (ipc_data.iloc[-1] / ipc_data.iloc[0] - 1) * 100\n",
        "\n",
        "print(sp500_growth)\n",
        "print(ipc_growth)\n",
        "\n",
        "# Select the higher growing index and write down the growth rate\n",
        "if sp500_growth > ipc_growth:\n",
        "    selected_index = 'S&P 500'\n",
        "    growth_rate = round(sp500_growth)\n",
        "else:\n",
        "    selected_index = 'IPC Mexico'\n",
        "    growth_rate = round(ipc_growth)\n",
        "\n",
        "print(\"The index with the higher growth rate over the past 5 years is {}: {}%\".format(selected_index, growth_rate))\n",
        "\n",
        "# Download S&P 500 (^GSPC) and IPC Mexico (^MXX) index data from Yahoo Finance\n",
        "sp500_data = yf.download('^GSPC', start='2019-04-09', end='2024-04-09')['Adj Close']\n",
        "ipc_data = yf.download('^MXX', start='2019-04-09', end='2024-04-09')['Adj Close']\n",
        "\n",
        "# Calculate the number of years\n",
        "num_years = (sp500_data.index[-1] - sp500_data.index[0]).days / 365.25\n",
        "\n",
        "# Calculate CAGR for S&P 500\n",
        "sp500_cagr = (sp500_data.iloc[-1] / sp500_data.iloc[0]) ** (1 / num_years) - 1\n",
        "\n",
        "# Calculate CAGR for IPC Mexico\n",
        "ipc_cagr = (ipc_data.iloc[-1] / ipc_data.iloc[0]) ** (1 / num_years) - 1\n",
        "\n",
        "print(\"S&P 500 CAGR (5 years): {:.2%}\".format(sp500_cagr))\n",
        "print(\"IPC Mexico CAGR (5 years): {:.2%}\".format(ipc_cagr))"
      ],
      "metadata": {
        "colab": {
          "base_uri": "https://localhost:8080/"
        },
        "id": "cV1zzPhLNb9I",
        "outputId": "436b0247-fb38-426b-a1e9-71fcf68169d1"
      },
      "execution_count": 1,
      "outputs": [
        {
          "output_type": "stream",
          "name": "stderr",
          "text": [
            "[*********************100%%**********************]  1 of 1 completed\n",
            "[*********************100%%**********************]  1 of 1 completed\n",
            "[*********************100%%**********************]  1 of 1 completed\n",
            "[*********************100%%**********************]  1 of 1 completed"
          ]
        },
        {
          "output_type": "stream",
          "name": "stdout",
          "text": [
            "Date\n",
            "2019-04-09    2878.199951\n",
            "2019-04-10    2888.209961\n",
            "2019-04-11    2888.320068\n",
            "2019-04-12    2907.409912\n",
            "2019-04-15    2905.580078\n",
            "                 ...     \n",
            "2024-04-02    5205.810059\n",
            "2024-04-03    5211.490234\n",
            "2024-04-04    5147.209961\n",
            "2024-04-05    5204.339844\n",
            "2024-04-08    5202.390137\n",
            "Name: Adj Close, Length: 1258, dtype: float64\n",
            "80.75151917783086\n",
            "28.43377484045295\n",
            "The index with the higher growth rate over the past 5 years is S&P 500: 81%\n",
            "S&P 500 CAGR (5 years): 12.57%\n",
            "IPC Mexico CAGR (5 years): 5.13%\n"
          ]
        },
        {
          "output_type": "stream",
          "name": "stderr",
          "text": [
            "\n"
          ]
        }
      ]
    },
    {
      "cell_type": "markdown",
      "source": [
        "## Question 4"
      ],
      "metadata": {
        "id": "4edCC1bcrYti"
      }
    },
    {
      "cell_type": "code",
      "source": [
        "import yfinance as yf\n",
        "\n",
        "# List of stock tickers\n",
        "tickers = ['2222.SR', 'BRK-B', 'AAPL', 'MSFT', 'GOOG', 'JPM']\n",
        "\n",
        "# Download OHLCV data for each stock for the year 2023\n",
        "stock_data = {}\n",
        "for ticker in tickers:\n",
        "    stock_data[ticker] = yf.download(ticker, start='2023-01-01', end='2023-12-31')\n",
        "\n",
        "# Calculate maximum and minimum Adj. Close prices for each stock\n",
        "max_min_ratios = {}\n",
        "for ticker, data in stock_data.items():\n",
        "    max_price = data['Adj Close'].max()\n",
        "    min_price = data['Adj Close'].min()\n",
        "    range_ratio = (max_price - min_price) / max_price\n",
        "    max_min_ratios[ticker] = round(range_ratio, 2)\n",
        "\n",
        "# Find the largest range ratio\n",
        "largest_range_ratio_ticker = max(max_min_ratios, key=max_min_ratios.get)\n",
        "largest_range_ratio = max_min_ratios[largest_range_ratio_ticker]\n",
        "\n",
        "print(\"Largest range ratio in 2023 is {} for stock {}\".format(largest_range_ratio, largest_range_ratio_ticker))\n"
      ],
      "metadata": {
        "colab": {
          "base_uri": "https://localhost:8080/"
        },
        "id": "qF6PVWRCrZGI",
        "outputId": "1054b5f2-ec4a-49dc-ab73-c2346bc75e00"
      },
      "execution_count": 3,
      "outputs": [
        {
          "output_type": "stream",
          "name": "stderr",
          "text": [
            "[*********************100%%**********************]  1 of 1 completed\n",
            "[*********************100%%**********************]  1 of 1 completed\n",
            "[*********************100%%**********************]  1 of 1 completed\n",
            "[*********************100%%**********************]  1 of 1 completed\n",
            "[*********************100%%**********************]  1 of 1 completed\n",
            "[*********************100%%**********************]  1 of 1 completed"
          ]
        },
        {
          "output_type": "stream",
          "name": "stdout",
          "text": [
            "Largest range ratio in 2023 is 0.42 for stock MSFT\n"
          ]
        },
        {
          "output_type": "stream",
          "name": "stderr",
          "text": [
            "\n"
          ]
        }
      ]
    },
    {
      "cell_type": "markdown",
      "source": [
        "## Question 5"
      ],
      "metadata": {
        "id": "3ydvQfV2sK63"
      }
    },
    {
      "cell_type": "code",
      "source": [
        "\n",
        "# List of stock tickers\n",
        "tickers = ['2222.SR', 'BRK-B', 'AAPL', 'MSFT', 'GOOG', 'JPM']\n",
        "\n",
        "# Dictionary to store dividend yields for each stock\n",
        "dividend_yields = {}\n",
        "\n",
        "# Loop through each stock ticker\n",
        "for ticker in tickers:\n",
        "    # Download dividend data for the stock for the year 2023\n",
        "    stock = yf.Ticker(ticker)\n",
        "    dividends = stock.dividends\n",
        "    dividends_2023 = dividends['2023']\n",
        "\n",
        "    # Sum up all dividends paid in 2023\n",
        "    total_dividends = dividends_2023.sum()\n",
        "\n",
        "    # Get the closing price (Adj. Close) at the last trading day of the year\n",
        "    last_day_price = yf.download(ticker, end='2023-12-31')['Adj Close'].iloc[-1]\n",
        "\n",
        "    # Calculate dividend yield\n",
        "    dividend_yield = (total_dividends / last_day_price) * 100\n",
        "\n",
        "    # Store the dividend yield in the dictionary\n",
        "    dividend_yields[ticker] = dividend_yield\n",
        "\n",
        "# Find the maximum dividend yield among all the stocks\n",
        "max_dividend_yield_ticker = max(dividend_yields, key=dividend_yields.get)\n",
        "max_dividend_yield = round(dividend_yields[max_dividend_yield_ticker], 1)\n",
        "\n",
        "print(\"Largest dividend yield in 2023 is {}% for stock {}\".format(max_dividend_yield, max_dividend_yield_ticker))\n"
      ],
      "metadata": {
        "colab": {
          "base_uri": "https://localhost:8080/"
        },
        "id": "n1Ov8Ly0sLQZ",
        "outputId": "5a2d6165-a25e-410d-b8dd-b3974f3e91b9"
      },
      "execution_count": 4,
      "outputs": [
        {
          "output_type": "stream",
          "name": "stderr",
          "text": [
            "[*********************100%%**********************]  1 of 1 completed\n",
            "[*********************100%%**********************]  1 of 1 completed\n",
            "[*********************100%%**********************]  1 of 1 completed\n",
            "[*********************100%%**********************]  1 of 1 completed\n",
            "[*********************100%%**********************]  1 of 1 completed\n",
            "[*********************100%%**********************]  1 of 1 completed"
          ]
        },
        {
          "output_type": "stream",
          "name": "stdout",
          "text": [
            "Largest dividend yield in 2023 is 2.8% for stock 2222.SR\n"
          ]
        },
        {
          "output_type": "stream",
          "name": "stderr",
          "text": [
            "\n"
          ]
        }
      ]
    }
  ]
}