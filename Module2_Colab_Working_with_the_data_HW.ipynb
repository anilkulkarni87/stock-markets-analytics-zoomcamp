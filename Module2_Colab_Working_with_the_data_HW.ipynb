{
  "nbformat": 4,
  "nbformat_minor": 0,
  "metadata": {
    "colab": {
      "provenance": [],
      "authorship_tag": "ABX9TyPEinPexlXhqioTjR1fzKJS",
      "include_colab_link": true
    },
    "kernelspec": {
      "name": "python3",
      "display_name": "Python 3"
    },
    "language_info": {
      "name": "python"
    }
  },
  "cells": [
    {
      "cell_type": "markdown",
      "metadata": {
        "id": "view-in-github",
        "colab_type": "text"
      },
      "source": [
        "<a href=\"https://colab.research.google.com/github/anilkulkarni87/stock-markets-analytics-zoomcamp/blob/main/Module2_Colab_Working_with_the_data_HW.ipynb\" target=\"_parent\"><img src=\"https://colab.research.google.com/assets/colab-badge.svg\" alt=\"Open In Colab\"/></a>"
      ]
    },
    {
      "cell_type": "code",
      "execution_count": 2,
      "metadata": {
        "colab": {
          "base_uri": "https://localhost:8080/"
        },
        "id": "MhK3xKO50CCi",
        "outputId": "5b03f7d1-eaeb-4cbe-c4a6-d75d8cfca5a7"
      },
      "outputs": [
        {
          "output_type": "stream",
          "name": "stdout",
          "text": [
            "Requirement already satisfied: yfinance in /usr/local/lib/python3.10/dist-packages (0.2.38)\n",
            "Requirement already satisfied: pandas>=1.3.0 in /usr/local/lib/python3.10/dist-packages (from yfinance) (2.0.3)\n",
            "Requirement already satisfied: numpy>=1.16.5 in /usr/local/lib/python3.10/dist-packages (from yfinance) (1.25.2)\n",
            "Requirement already satisfied: requests>=2.31 in /usr/local/lib/python3.10/dist-packages (from yfinance) (2.31.0)\n",
            "Requirement already satisfied: multitasking>=0.0.7 in /usr/local/lib/python3.10/dist-packages (from yfinance) (0.0.11)\n",
            "Requirement already satisfied: lxml>=4.9.1 in /usr/local/lib/python3.10/dist-packages (from yfinance) (4.9.4)\n",
            "Requirement already satisfied: appdirs>=1.4.4 in /usr/local/lib/python3.10/dist-packages (from yfinance) (1.4.4)\n",
            "Requirement already satisfied: pytz>=2022.5 in /usr/local/lib/python3.10/dist-packages (from yfinance) (2023.4)\n",
            "Requirement already satisfied: frozendict>=2.3.4 in /usr/local/lib/python3.10/dist-packages (from yfinance) (2.4.2)\n",
            "Requirement already satisfied: peewee>=3.16.2 in /usr/local/lib/python3.10/dist-packages (from yfinance) (3.17.3)\n",
            "Requirement already satisfied: beautifulsoup4>=4.11.1 in /usr/local/lib/python3.10/dist-packages (from yfinance) (4.12.3)\n",
            "Requirement already satisfied: html5lib>=1.1 in /usr/local/lib/python3.10/dist-packages (from yfinance) (1.1)\n",
            "Requirement already satisfied: soupsieve>1.2 in /usr/local/lib/python3.10/dist-packages (from beautifulsoup4>=4.11.1->yfinance) (2.5)\n",
            "Requirement already satisfied: six>=1.9 in /usr/local/lib/python3.10/dist-packages (from html5lib>=1.1->yfinance) (1.16.0)\n",
            "Requirement already satisfied: webencodings in /usr/local/lib/python3.10/dist-packages (from html5lib>=1.1->yfinance) (0.5.1)\n",
            "Requirement already satisfied: python-dateutil>=2.8.2 in /usr/local/lib/python3.10/dist-packages (from pandas>=1.3.0->yfinance) (2.8.2)\n",
            "Requirement already satisfied: tzdata>=2022.1 in /usr/local/lib/python3.10/dist-packages (from pandas>=1.3.0->yfinance) (2024.1)\n",
            "Requirement already satisfied: charset-normalizer<4,>=2 in /usr/local/lib/python3.10/dist-packages (from requests>=2.31->yfinance) (3.3.2)\n",
            "Requirement already satisfied: idna<4,>=2.5 in /usr/local/lib/python3.10/dist-packages (from requests>=2.31->yfinance) (3.7)\n",
            "Requirement already satisfied: urllib3<3,>=1.21.1 in /usr/local/lib/python3.10/dist-packages (from requests>=2.31->yfinance) (2.0.7)\n",
            "Requirement already satisfied: certifi>=2017.4.17 in /usr/local/lib/python3.10/dist-packages (from requests>=2.31->yfinance) (2024.2.2)\n"
          ]
        }
      ],
      "source": [
        "!pip install yfinance"
      ]
    },
    {
      "cell_type": "code",
      "source": [
        "# IMPORTS\n",
        "import numpy as np\n",
        "import pandas as pd\n",
        "import requests\n",
        "\n",
        "#Fin Data Sources\n",
        "import yfinance as yf\n",
        "import pandas_datareader as pdr\n",
        "\n",
        "#Data viz\n",
        "import plotly.graph_objs as go\n",
        "import plotly.express as px\n",
        "\n",
        "import time\n",
        "from datetime import date\n",
        "\n",
        "# for graphs\n",
        "import matplotlib.pyplot as plt\n"
      ],
      "metadata": {
        "id": "PycvZoJt0JE7"
      },
      "execution_count": 5,
      "outputs": []
    },
    {
      "cell_type": "markdown",
      "source": [
        "# Question 1: IPO Filings Web Scraping and Data Processing\n",
        "\n",
        "What's the total sum ($m) of 2023 filings that happened on Fridays?\n",
        "\n",
        "Re-use the [Code Snippet 1] example to get the data from web for this endpoint: https://stockanalysis.com/ipos/filings/ Convert the 'Filing Date' to datetime(), 'Shares Offered' to float64 (if '-' is encountered, populate with NaNs). Define a new field 'Avg_price' based on the \"Price Range\", which equals to NaN if no price is specified, to the price (if only one number is provided), or to the average of 2 prices (if a range is given). You may be inspired by the function extract_numbers() in [Code Snippet 4], or you can write your own function to \"parse\" a string. Define a column \"Shares_offered_value\", which equals to \"Shares Offered\" * \"Avg_price\" (when both columns are defined; otherwise, it's NaN)\n",
        "\n",
        "Find the total sum in $m (millions of USD, closest INTEGER number) for all filings during 2023, which happened on Fridays (Date.dt.dayofweek()==4). You should see 32 records in total, 25 of it is not null.\n",
        "\n",
        "(additional: you can read about S-1 IPO filing to understand the context"
      ],
      "metadata": {
        "id": "9apNc7844vuA"
      }
    },
    {
      "cell_type": "code",
      "source": [
        "# Calculate Avg_price and Shares_offered_value\n",
        "def calculate_avg_price(price_range):\n",
        "    if price_range == \"-\":\n",
        "        return None\n",
        "    prices = [float(price.strip('$')) for price in price_range.split(' - ')]\n",
        "    return sum(prices) / len(prices)"
      ],
      "metadata": {
        "id": "-evM3-R58Oj8"
      },
      "execution_count": 27,
      "outputs": []
    },
    {
      "cell_type": "code",
      "source": [
        "import pandas as pd\n",
        "import requests\n",
        "\n",
        "headers = {\n",
        "    'User-Agent': 'Mozilla/5.0 (Windows NT 10.0; Win64; x64) AppleWebKit/537.36 (KHTML, like Gecko) Chrome/58.0.3029.110 Safari/537.3',\n",
        "}\n",
        "\n",
        "# Get all records\n",
        "url = \"https://stockanalysis.com/ipos/filings/\"\n",
        "# url = \"https://stockanalysis.com/ipos/2023/\"\n",
        "response = requests.get(url, headers=headers)\n",
        "\n",
        "ipo_dfs = pd.read_html(response.text)\n",
        "final_ipo=ipo_dfs[0]\n",
        "final_ipo.head(1)\n",
        "# convert to datetime\n",
        "final_ipo['Filing Date'] = pd.to_datetime(final_ipo['Filing Date'], format='%b %d, %Y')\n",
        "final_ipo[\"Shares Offered\"] = pd.to_numeric(final_ipo[\"Shares Offered\"].str.replace(\",\", \"\"), errors=\"coerce\")\n",
        "\n",
        "final_ipo[\"Avg_price\"] = final_ipo[\"Price Range\"].apply(calculate_avg_price)\n",
        "final_ipo[\"Shares_offered_value\"] = final_ipo[\"Shares Offered\"] * final_ipo[\"Avg_price\"]\n",
        "final_ipo.head(20)"
      ],
      "metadata": {
        "colab": {
          "base_uri": "https://localhost:8080/",
          "height": 1000
        },
        "id": "kvRox5kj5J4K",
        "outputId": "48a166ff-6676-492d-b691-e1a537b56b21"
      },
      "execution_count": 29,
      "outputs": [
        {
          "output_type": "execute_result",
          "data": {
            "text/plain": [
              "   Filing Date Symbol                              Company Name  \\\n",
              "0   2024-05-03    TBN            Tamboran Resources Corporation   \n",
              "1   2024-04-29   HWEC                      HW Electro Co., Ltd.   \n",
              "2   2024-04-29   DTSQ     DT Cloud Star Acquisition Corporation   \n",
              "3   2024-04-26   EURK                   Eureka Acquisition Corp   \n",
              "4   2024-04-26    HDL       Super Hi International Holding Ltd.   \n",
              "5   2024-04-22   DRJT                           Derun Group Inc   \n",
              "6   2024-04-19   GPAT              GP-Act III Acquisition Corp.   \n",
              "7   2024-04-16   JLJT                     Jialiang Holdings Ltd   \n",
              "8   2024-04-15   GAUZ                                Gauzy Ltd.   \n",
              "9   2024-04-12    BOW           Bowhead Specialty Holdings Inc.   \n",
              "10  2024-04-05   SPHL                   Springview Holdings Ltd   \n",
              "11  2024-04-02   FFFZ                Fuxing China Group Limited   \n",
              "12  2024-04-01    LSH                  Lakeside Holding Limited   \n",
              "13  2024-04-01    XXC  Xinxu Copper Industry Technology Limited   \n",
              "14  2024-03-29    OCP                 Huge Amount Group Limited   \n",
              "15  2024-03-28   RITR           Reitar Logtech Holdings Limited   \n",
              "16  2024-03-26   NTCL                   NetClass Technology Inc   \n",
              "17  2024-03-25    JCY                  Jingcaoyuan Holdings Inc   \n",
              "18  2024-03-22   CCIX                 Churchill Capital Corp IX   \n",
              "19  2024-03-21   LXTM                Lei Xin Holdings Co., Ltd.   \n",
              "\n",
              "      Price Range  Shares Offered  Avg_price  Shares_offered_value  \n",
              "0               -             NaN        NaN                   NaN  \n",
              "1           $3.00       3750000.0       3.00            11250000.0  \n",
              "2          $10.00       6000000.0      10.00            60000000.0  \n",
              "3          $10.00       5000000.0      10.00            50000000.0  \n",
              "4               -             NaN        NaN                   NaN  \n",
              "5           $5.00             NaN       5.00                   NaN  \n",
              "6          $10.00      25000000.0      10.00           250000000.0  \n",
              "7           $5.00             NaN       5.00                   NaN  \n",
              "8               -             NaN        NaN                   NaN  \n",
              "9               -             NaN        NaN                   NaN  \n",
              "10  $4.00 - $5.00       2000000.0       4.50             9000000.0  \n",
              "11  $4.00 - $4.50       2000000.0       4.25             8500000.0  \n",
              "12  $4.00 - $5.00       1250000.0       4.50             5625000.0  \n",
              "13              -             NaN        NaN                   NaN  \n",
              "14              -             NaN        NaN                   NaN  \n",
              "15  $4.00 - $5.00       2500000.0       4.50            11250000.0  \n",
              "16  $5.00 - $6.00       1800000.0       5.50             9900000.0  \n",
              "17              -             NaN        NaN                   NaN  \n",
              "18         $10.00      25000000.0      10.00           250000000.0  \n",
              "19              -             NaN        NaN                   NaN  "
            ],
            "text/html": [
              "\n",
              "  <div id=\"df-f3f032f7-ea44-4cd8-aa70-56e9f3d9c0c7\" class=\"colab-df-container\">\n",
              "    <div>\n",
              "<style scoped>\n",
              "    .dataframe tbody tr th:only-of-type {\n",
              "        vertical-align: middle;\n",
              "    }\n",
              "\n",
              "    .dataframe tbody tr th {\n",
              "        vertical-align: top;\n",
              "    }\n",
              "\n",
              "    .dataframe thead th {\n",
              "        text-align: right;\n",
              "    }\n",
              "</style>\n",
              "<table border=\"1\" class=\"dataframe\">\n",
              "  <thead>\n",
              "    <tr style=\"text-align: right;\">\n",
              "      <th></th>\n",
              "      <th>Filing Date</th>\n",
              "      <th>Symbol</th>\n",
              "      <th>Company Name</th>\n",
              "      <th>Price Range</th>\n",
              "      <th>Shares Offered</th>\n",
              "      <th>Avg_price</th>\n",
              "      <th>Shares_offered_value</th>\n",
              "    </tr>\n",
              "  </thead>\n",
              "  <tbody>\n",
              "    <tr>\n",
              "      <th>0</th>\n",
              "      <td>2024-05-03</td>\n",
              "      <td>TBN</td>\n",
              "      <td>Tamboran Resources Corporation</td>\n",
              "      <td>-</td>\n",
              "      <td>NaN</td>\n",
              "      <td>NaN</td>\n",
              "      <td>NaN</td>\n",
              "    </tr>\n",
              "    <tr>\n",
              "      <th>1</th>\n",
              "      <td>2024-04-29</td>\n",
              "      <td>HWEC</td>\n",
              "      <td>HW Electro Co., Ltd.</td>\n",
              "      <td>$3.00</td>\n",
              "      <td>3750000.0</td>\n",
              "      <td>3.00</td>\n",
              "      <td>11250000.0</td>\n",
              "    </tr>\n",
              "    <tr>\n",
              "      <th>2</th>\n",
              "      <td>2024-04-29</td>\n",
              "      <td>DTSQ</td>\n",
              "      <td>DT Cloud Star Acquisition Corporation</td>\n",
              "      <td>$10.00</td>\n",
              "      <td>6000000.0</td>\n",
              "      <td>10.00</td>\n",
              "      <td>60000000.0</td>\n",
              "    </tr>\n",
              "    <tr>\n",
              "      <th>3</th>\n",
              "      <td>2024-04-26</td>\n",
              "      <td>EURK</td>\n",
              "      <td>Eureka Acquisition Corp</td>\n",
              "      <td>$10.00</td>\n",
              "      <td>5000000.0</td>\n",
              "      <td>10.00</td>\n",
              "      <td>50000000.0</td>\n",
              "    </tr>\n",
              "    <tr>\n",
              "      <th>4</th>\n",
              "      <td>2024-04-26</td>\n",
              "      <td>HDL</td>\n",
              "      <td>Super Hi International Holding Ltd.</td>\n",
              "      <td>-</td>\n",
              "      <td>NaN</td>\n",
              "      <td>NaN</td>\n",
              "      <td>NaN</td>\n",
              "    </tr>\n",
              "    <tr>\n",
              "      <th>5</th>\n",
              "      <td>2024-04-22</td>\n",
              "      <td>DRJT</td>\n",
              "      <td>Derun Group Inc</td>\n",
              "      <td>$5.00</td>\n",
              "      <td>NaN</td>\n",
              "      <td>5.00</td>\n",
              "      <td>NaN</td>\n",
              "    </tr>\n",
              "    <tr>\n",
              "      <th>6</th>\n",
              "      <td>2024-04-19</td>\n",
              "      <td>GPAT</td>\n",
              "      <td>GP-Act III Acquisition Corp.</td>\n",
              "      <td>$10.00</td>\n",
              "      <td>25000000.0</td>\n",
              "      <td>10.00</td>\n",
              "      <td>250000000.0</td>\n",
              "    </tr>\n",
              "    <tr>\n",
              "      <th>7</th>\n",
              "      <td>2024-04-16</td>\n",
              "      <td>JLJT</td>\n",
              "      <td>Jialiang Holdings Ltd</td>\n",
              "      <td>$5.00</td>\n",
              "      <td>NaN</td>\n",
              "      <td>5.00</td>\n",
              "      <td>NaN</td>\n",
              "    </tr>\n",
              "    <tr>\n",
              "      <th>8</th>\n",
              "      <td>2024-04-15</td>\n",
              "      <td>GAUZ</td>\n",
              "      <td>Gauzy Ltd.</td>\n",
              "      <td>-</td>\n",
              "      <td>NaN</td>\n",
              "      <td>NaN</td>\n",
              "      <td>NaN</td>\n",
              "    </tr>\n",
              "    <tr>\n",
              "      <th>9</th>\n",
              "      <td>2024-04-12</td>\n",
              "      <td>BOW</td>\n",
              "      <td>Bowhead Specialty Holdings Inc.</td>\n",
              "      <td>-</td>\n",
              "      <td>NaN</td>\n",
              "      <td>NaN</td>\n",
              "      <td>NaN</td>\n",
              "    </tr>\n",
              "    <tr>\n",
              "      <th>10</th>\n",
              "      <td>2024-04-05</td>\n",
              "      <td>SPHL</td>\n",
              "      <td>Springview Holdings Ltd</td>\n",
              "      <td>$4.00 - $5.00</td>\n",
              "      <td>2000000.0</td>\n",
              "      <td>4.50</td>\n",
              "      <td>9000000.0</td>\n",
              "    </tr>\n",
              "    <tr>\n",
              "      <th>11</th>\n",
              "      <td>2024-04-02</td>\n",
              "      <td>FFFZ</td>\n",
              "      <td>Fuxing China Group Limited</td>\n",
              "      <td>$4.00 - $4.50</td>\n",
              "      <td>2000000.0</td>\n",
              "      <td>4.25</td>\n",
              "      <td>8500000.0</td>\n",
              "    </tr>\n",
              "    <tr>\n",
              "      <th>12</th>\n",
              "      <td>2024-04-01</td>\n",
              "      <td>LSH</td>\n",
              "      <td>Lakeside Holding Limited</td>\n",
              "      <td>$4.00 - $5.00</td>\n",
              "      <td>1250000.0</td>\n",
              "      <td>4.50</td>\n",
              "      <td>5625000.0</td>\n",
              "    </tr>\n",
              "    <tr>\n",
              "      <th>13</th>\n",
              "      <td>2024-04-01</td>\n",
              "      <td>XXC</td>\n",
              "      <td>Xinxu Copper Industry Technology Limited</td>\n",
              "      <td>-</td>\n",
              "      <td>NaN</td>\n",
              "      <td>NaN</td>\n",
              "      <td>NaN</td>\n",
              "    </tr>\n",
              "    <tr>\n",
              "      <th>14</th>\n",
              "      <td>2024-03-29</td>\n",
              "      <td>OCP</td>\n",
              "      <td>Huge Amount Group Limited</td>\n",
              "      <td>-</td>\n",
              "      <td>NaN</td>\n",
              "      <td>NaN</td>\n",
              "      <td>NaN</td>\n",
              "    </tr>\n",
              "    <tr>\n",
              "      <th>15</th>\n",
              "      <td>2024-03-28</td>\n",
              "      <td>RITR</td>\n",
              "      <td>Reitar Logtech Holdings Limited</td>\n",
              "      <td>$4.00 - $5.00</td>\n",
              "      <td>2500000.0</td>\n",
              "      <td>4.50</td>\n",
              "      <td>11250000.0</td>\n",
              "    </tr>\n",
              "    <tr>\n",
              "      <th>16</th>\n",
              "      <td>2024-03-26</td>\n",
              "      <td>NTCL</td>\n",
              "      <td>NetClass Technology Inc</td>\n",
              "      <td>$5.00 - $6.00</td>\n",
              "      <td>1800000.0</td>\n",
              "      <td>5.50</td>\n",
              "      <td>9900000.0</td>\n",
              "    </tr>\n",
              "    <tr>\n",
              "      <th>17</th>\n",
              "      <td>2024-03-25</td>\n",
              "      <td>JCY</td>\n",
              "      <td>Jingcaoyuan Holdings Inc</td>\n",
              "      <td>-</td>\n",
              "      <td>NaN</td>\n",
              "      <td>NaN</td>\n",
              "      <td>NaN</td>\n",
              "    </tr>\n",
              "    <tr>\n",
              "      <th>18</th>\n",
              "      <td>2024-03-22</td>\n",
              "      <td>CCIX</td>\n",
              "      <td>Churchill Capital Corp IX</td>\n",
              "      <td>$10.00</td>\n",
              "      <td>25000000.0</td>\n",
              "      <td>10.00</td>\n",
              "      <td>250000000.0</td>\n",
              "    </tr>\n",
              "    <tr>\n",
              "      <th>19</th>\n",
              "      <td>2024-03-21</td>\n",
              "      <td>LXTM</td>\n",
              "      <td>Lei Xin Holdings Co., Ltd.</td>\n",
              "      <td>-</td>\n",
              "      <td>NaN</td>\n",
              "      <td>NaN</td>\n",
              "      <td>NaN</td>\n",
              "    </tr>\n",
              "  </tbody>\n",
              "</table>\n",
              "</div>\n",
              "    <div class=\"colab-df-buttons\">\n",
              "\n",
              "  <div class=\"colab-df-container\">\n",
              "    <button class=\"colab-df-convert\" onclick=\"convertToInteractive('df-f3f032f7-ea44-4cd8-aa70-56e9f3d9c0c7')\"\n",
              "            title=\"Convert this dataframe to an interactive table.\"\n",
              "            style=\"display:none;\">\n",
              "\n",
              "  <svg xmlns=\"http://www.w3.org/2000/svg\" height=\"24px\" viewBox=\"0 -960 960 960\">\n",
              "    <path d=\"M120-120v-720h720v720H120Zm60-500h600v-160H180v160Zm220 220h160v-160H400v160Zm0 220h160v-160H400v160ZM180-400h160v-160H180v160Zm440 0h160v-160H620v160ZM180-180h160v-160H180v160Zm440 0h160v-160H620v160Z\"/>\n",
              "  </svg>\n",
              "    </button>\n",
              "\n",
              "  <style>\n",
              "    .colab-df-container {\n",
              "      display:flex;\n",
              "      gap: 12px;\n",
              "    }\n",
              "\n",
              "    .colab-df-convert {\n",
              "      background-color: #E8F0FE;\n",
              "      border: none;\n",
              "      border-radius: 50%;\n",
              "      cursor: pointer;\n",
              "      display: none;\n",
              "      fill: #1967D2;\n",
              "      height: 32px;\n",
              "      padding: 0 0 0 0;\n",
              "      width: 32px;\n",
              "    }\n",
              "\n",
              "    .colab-df-convert:hover {\n",
              "      background-color: #E2EBFA;\n",
              "      box-shadow: 0px 1px 2px rgba(60, 64, 67, 0.3), 0px 1px 3px 1px rgba(60, 64, 67, 0.15);\n",
              "      fill: #174EA6;\n",
              "    }\n",
              "\n",
              "    .colab-df-buttons div {\n",
              "      margin-bottom: 4px;\n",
              "    }\n",
              "\n",
              "    [theme=dark] .colab-df-convert {\n",
              "      background-color: #3B4455;\n",
              "      fill: #D2E3FC;\n",
              "    }\n",
              "\n",
              "    [theme=dark] .colab-df-convert:hover {\n",
              "      background-color: #434B5C;\n",
              "      box-shadow: 0px 1px 3px 1px rgba(0, 0, 0, 0.15);\n",
              "      filter: drop-shadow(0px 1px 2px rgba(0, 0, 0, 0.3));\n",
              "      fill: #FFFFFF;\n",
              "    }\n",
              "  </style>\n",
              "\n",
              "    <script>\n",
              "      const buttonEl =\n",
              "        document.querySelector('#df-f3f032f7-ea44-4cd8-aa70-56e9f3d9c0c7 button.colab-df-convert');\n",
              "      buttonEl.style.display =\n",
              "        google.colab.kernel.accessAllowed ? 'block' : 'none';\n",
              "\n",
              "      async function convertToInteractive(key) {\n",
              "        const element = document.querySelector('#df-f3f032f7-ea44-4cd8-aa70-56e9f3d9c0c7');\n",
              "        const dataTable =\n",
              "          await google.colab.kernel.invokeFunction('convertToInteractive',\n",
              "                                                    [key], {});\n",
              "        if (!dataTable) return;\n",
              "\n",
              "        const docLinkHtml = 'Like what you see? Visit the ' +\n",
              "          '<a target=\"_blank\" href=https://colab.research.google.com/notebooks/data_table.ipynb>data table notebook</a>'\n",
              "          + ' to learn more about interactive tables.';\n",
              "        element.innerHTML = '';\n",
              "        dataTable['output_type'] = 'display_data';\n",
              "        await google.colab.output.renderOutput(dataTable, element);\n",
              "        const docLink = document.createElement('div');\n",
              "        docLink.innerHTML = docLinkHtml;\n",
              "        element.appendChild(docLink);\n",
              "      }\n",
              "    </script>\n",
              "  </div>\n",
              "\n",
              "\n",
              "<div id=\"df-12fc399b-db63-4fb1-8434-3302150b00e0\">\n",
              "  <button class=\"colab-df-quickchart\" onclick=\"quickchart('df-12fc399b-db63-4fb1-8434-3302150b00e0')\"\n",
              "            title=\"Suggest charts\"\n",
              "            style=\"display:none;\">\n",
              "\n",
              "<svg xmlns=\"http://www.w3.org/2000/svg\" height=\"24px\"viewBox=\"0 0 24 24\"\n",
              "     width=\"24px\">\n",
              "    <g>\n",
              "        <path d=\"M19 3H5c-1.1 0-2 .9-2 2v14c0 1.1.9 2 2 2h14c1.1 0 2-.9 2-2V5c0-1.1-.9-2-2-2zM9 17H7v-7h2v7zm4 0h-2V7h2v10zm4 0h-2v-4h2v4z\"/>\n",
              "    </g>\n",
              "</svg>\n",
              "  </button>\n",
              "\n",
              "<style>\n",
              "  .colab-df-quickchart {\n",
              "      --bg-color: #E8F0FE;\n",
              "      --fill-color: #1967D2;\n",
              "      --hover-bg-color: #E2EBFA;\n",
              "      --hover-fill-color: #174EA6;\n",
              "      --disabled-fill-color: #AAA;\n",
              "      --disabled-bg-color: #DDD;\n",
              "  }\n",
              "\n",
              "  [theme=dark] .colab-df-quickchart {\n",
              "      --bg-color: #3B4455;\n",
              "      --fill-color: #D2E3FC;\n",
              "      --hover-bg-color: #434B5C;\n",
              "      --hover-fill-color: #FFFFFF;\n",
              "      --disabled-bg-color: #3B4455;\n",
              "      --disabled-fill-color: #666;\n",
              "  }\n",
              "\n",
              "  .colab-df-quickchart {\n",
              "    background-color: var(--bg-color);\n",
              "    border: none;\n",
              "    border-radius: 50%;\n",
              "    cursor: pointer;\n",
              "    display: none;\n",
              "    fill: var(--fill-color);\n",
              "    height: 32px;\n",
              "    padding: 0;\n",
              "    width: 32px;\n",
              "  }\n",
              "\n",
              "  .colab-df-quickchart:hover {\n",
              "    background-color: var(--hover-bg-color);\n",
              "    box-shadow: 0 1px 2px rgba(60, 64, 67, 0.3), 0 1px 3px 1px rgba(60, 64, 67, 0.15);\n",
              "    fill: var(--button-hover-fill-color);\n",
              "  }\n",
              "\n",
              "  .colab-df-quickchart-complete:disabled,\n",
              "  .colab-df-quickchart-complete:disabled:hover {\n",
              "    background-color: var(--disabled-bg-color);\n",
              "    fill: var(--disabled-fill-color);\n",
              "    box-shadow: none;\n",
              "  }\n",
              "\n",
              "  .colab-df-spinner {\n",
              "    border: 2px solid var(--fill-color);\n",
              "    border-color: transparent;\n",
              "    border-bottom-color: var(--fill-color);\n",
              "    animation:\n",
              "      spin 1s steps(1) infinite;\n",
              "  }\n",
              "\n",
              "  @keyframes spin {\n",
              "    0% {\n",
              "      border-color: transparent;\n",
              "      border-bottom-color: var(--fill-color);\n",
              "      border-left-color: var(--fill-color);\n",
              "    }\n",
              "    20% {\n",
              "      border-color: transparent;\n",
              "      border-left-color: var(--fill-color);\n",
              "      border-top-color: var(--fill-color);\n",
              "    }\n",
              "    30% {\n",
              "      border-color: transparent;\n",
              "      border-left-color: var(--fill-color);\n",
              "      border-top-color: var(--fill-color);\n",
              "      border-right-color: var(--fill-color);\n",
              "    }\n",
              "    40% {\n",
              "      border-color: transparent;\n",
              "      border-right-color: var(--fill-color);\n",
              "      border-top-color: var(--fill-color);\n",
              "    }\n",
              "    60% {\n",
              "      border-color: transparent;\n",
              "      border-right-color: var(--fill-color);\n",
              "    }\n",
              "    80% {\n",
              "      border-color: transparent;\n",
              "      border-right-color: var(--fill-color);\n",
              "      border-bottom-color: var(--fill-color);\n",
              "    }\n",
              "    90% {\n",
              "      border-color: transparent;\n",
              "      border-bottom-color: var(--fill-color);\n",
              "    }\n",
              "  }\n",
              "</style>\n",
              "\n",
              "  <script>\n",
              "    async function quickchart(key) {\n",
              "      const quickchartButtonEl =\n",
              "        document.querySelector('#' + key + ' button');\n",
              "      quickchartButtonEl.disabled = true;  // To prevent multiple clicks.\n",
              "      quickchartButtonEl.classList.add('colab-df-spinner');\n",
              "      try {\n",
              "        const charts = await google.colab.kernel.invokeFunction(\n",
              "            'suggestCharts', [key], {});\n",
              "      } catch (error) {\n",
              "        console.error('Error during call to suggestCharts:', error);\n",
              "      }\n",
              "      quickchartButtonEl.classList.remove('colab-df-spinner');\n",
              "      quickchartButtonEl.classList.add('colab-df-quickchart-complete');\n",
              "    }\n",
              "    (() => {\n",
              "      let quickchartButtonEl =\n",
              "        document.querySelector('#df-12fc399b-db63-4fb1-8434-3302150b00e0 button');\n",
              "      quickchartButtonEl.style.display =\n",
              "        google.colab.kernel.accessAllowed ? 'block' : 'none';\n",
              "    })();\n",
              "  </script>\n",
              "</div>\n",
              "\n",
              "    </div>\n",
              "  </div>\n"
            ],
            "application/vnd.google.colaboratory.intrinsic+json": {
              "type": "dataframe",
              "variable_name": "final_ipo",
              "summary": "{\n  \"name\": \"final_ipo\",\n  \"rows\": 325,\n  \"fields\": [\n    {\n      \"column\": \"Filing Date\",\n      \"properties\": {\n        \"dtype\": \"date\",\n        \"min\": \"2018-12-27 00:00:00\",\n        \"max\": \"2024-05-03 00:00:00\",\n        \"num_unique_values\": 256,\n        \"samples\": [\n          \"2021-03-29 00:00:00\",\n          \"2024-04-15 00:00:00\",\n          \"2023-09-07 00:00:00\"\n        ],\n        \"semantic_type\": \"\",\n        \"description\": \"\"\n      }\n    },\n    {\n      \"column\": \"Symbol\",\n      \"properties\": {\n        \"dtype\": \"string\",\n        \"num_unique_values\": 325,\n        \"samples\": [\n          \"WYTC\",\n          \"NAMI\",\n          \"BXHA\"\n        ],\n        \"semantic_type\": \"\",\n        \"description\": \"\"\n      }\n    },\n    {\n      \"column\": \"Company Name\",\n      \"properties\": {\n        \"dtype\": \"string\",\n        \"num_unique_values\": 325,\n        \"samples\": [\n          \"Wytec International, Inc.\",\n          \"Jinxin Technology Holding Company\",\n          \"Bombax Healthcare Acquisition Corporation\"\n        ],\n        \"semantic_type\": \"\",\n        \"description\": \"\"\n      }\n    },\n    {\n      \"column\": \"Price Range\",\n      \"properties\": {\n        \"dtype\": \"category\",\n        \"num_unique_values\": 45,\n        \"samples\": [\n          \"$7.00 - $9.00\",\n          \"$5.50\",\n          \"$20.00\"\n        ],\n        \"semantic_type\": \"\",\n        \"description\": \"\"\n      }\n    },\n    {\n      \"column\": \"Shares Offered\",\n      \"properties\": {\n        \"dtype\": \"number\",\n        \"std\": 10834449.06730656,\n        \"min\": 360000.0,\n        \"max\": 100000000.0,\n        \"num_unique_values\": 81,\n        \"samples\": [\n          800000.0,\n          3750000.0,\n          1500000.0\n        ],\n        \"semantic_type\": \"\",\n        \"description\": \"\"\n      }\n    },\n    {\n      \"column\": \"Avg_price\",\n      \"properties\": {\n        \"dtype\": \"number\",\n        \"std\": 2.8212415460687588,\n        \"min\": 3.0,\n        \"max\": 20.0,\n        \"num_unique_values\": 29,\n        \"samples\": [\n          19.0,\n          6.25,\n          9.0\n        ],\n        \"semantic_type\": \"\",\n        \"description\": \"\"\n      }\n    },\n    {\n      \"column\": \"Shares_offered_value\",\n      \"properties\": {\n        \"dtype\": \"number\",\n        \"std\": 111585313.19650331,\n        \"min\": 4000000.0,\n        \"max\": 1000000000.0,\n        \"num_unique_values\": 110,\n        \"samples\": [\n          18400000.0,\n          100000000.0,\n          9000000.0\n        ],\n        \"semantic_type\": \"\",\n        \"description\": \"\"\n      }\n    }\n  ]\n}"
            }
          },
          "metadata": {},
          "execution_count": 29
        }
      ]
    },
    {
      "cell_type": "code",
      "source": [
        "# Filter for filings during 2023 that happened on Fridays\n",
        "filtered_df = final_ipo[(final_ipo[\"Filing Date\"].dt.year == 2023) & (final_ipo[\"Filing Date\"].dt.dayofweek == 4)]\n",
        "filtered_df\n",
        "# Calculate the total sum in $m for all filtered filings\n",
        "total_sum_millions_usd = int(filtered_df[\"Shares_offered_value\"].sum())\n",
        "\n",
        "print(\"Total sum in $m for all filings during 2023 that happened on Fridays:\", total_sum_millions_usd)"
      ],
      "metadata": {
        "colab": {
          "base_uri": "https://localhost:8080/"
        },
        "id": "fZAh_O2R9X0d",
        "outputId": "65138048-f018-4bbf-efa1-cc3411ed16da"
      },
      "execution_count": 36,
      "outputs": [
        {
          "output_type": "stream",
          "name": "stdout",
          "text": [
            "Total sum in $m for all filings during 2023 that happened on Fridays: 285700000\n"
          ]
        }
      ]
    },
    {
      "cell_type": "markdown",
      "source": [
        "# Question 2: IPOs \"Fixed days hold\" strategy\n",
        "Find the optimal number of days X (between 1 and 30), where 75% quantile growth is the highest?\n",
        "\n",
        "Reuse [Code Snippet 1] to retrieve the list of IPOs from 2023 and 2024 (from URLs: https://stockanalysis.com/ipos/2023/ and https://stockanalysis.com/ipos/2024/). Get all OHLCV daily prices for all stocks with an \"IPO date\" before March 1, 2024 (\"< 2024-03-01\") - 184 tickers (without 'RYZB'). Please remove 'RYZB', as it is no longer available on Yahoo Finance.\n",
        "\n",
        "Sometimes you may need to adjust the symbol name (e.g., 'IBAC' on stockanalysis.com -> 'IBACU' on Yahoo Finance) to locate OHLCV prices for all stocks. Also, you can see the ticker changes using this link. Some of the tickers (like 'DYCQ' and 'LEGT') were on the market less than 30 days (11 and 21 days, respectively). Let's leave them in the dataset; it just means that you couldn't hold them for more days than they were listed.\n",
        "\n",
        "Let's assume you managed to buy a new stock (listed on IPO) on the first day at the [Adj Close] price]. Your strategy is to hold for exactly X full days (where X is between 1 and 30) and sell at the \"Adj. Close\" price in X days (e.g., if X=1, you sell on the next day). Find X, when the 75% quantile growth (among 185 investments) is the highest.\n",
        "\n",
        "HINTs:\n",
        "\n",
        "You can generate 30 additional columns: growth_future_1d ... growth_future_30d, join that with the table of min_dates (first day when each stock has data on Yahoo Finance), and perform vector operations on the resulting dataset.\n",
        "You can use the DataFrame.describe() function to get mean, min, max, 25-50-75% quantiles.\n",
        "Additional:\n",
        "\n",
        "You can also ensure that the mean and 50th percentile (median) investment returns are negative for most X values, implying a wager for a \"lucky\" investor who might be in the top 25%.\n",
        "What's your recommendation: Do you suggest pursuing this strategy for an optimal X?\n"
      ],
      "metadata": {
        "id": "8zSDHXIo-Hb8"
      }
    },
    {
      "cell_type": "code",
      "source": [
        "# Step 1: Retrieve the list of IPOs from 2023 and 2024\n",
        "urls = [\"https://stockanalysis.com/ipos/2023/\", \"https://stockanalysis.com/ipos/2024/\"]\n",
        "ipo_dfs = [pd.read_html(requests.get(url).text)[0] for url in urls]\n",
        "ipo_df = pd.concat(ipo_dfs)\n",
        "ipo_df['IPO Date'] = pd.to_datetime(ipo_df['IPO Date'], format='%b %d, %Y')\n",
        "ipo_df = ipo_df[(ipo_df['IPO Date'] < '2024-03-01') & (ipo_df[\"Symbol\"] != \"RYZB\")]\n",
        "\n",
        "ipo_df.info()\n",
        "ipo_df.head(5)"
      ],
      "metadata": {
        "colab": {
          "base_uri": "https://localhost:8080/",
          "height": 438
        },
        "id": "D96_Cfe5-vu3",
        "outputId": "8caebdd1-7143-4238-8752-c0ec0a9e29af"
      },
      "execution_count": 6,
      "outputs": [
        {
          "output_type": "stream",
          "name": "stdout",
          "text": [
            "<class 'pandas.core.frame.DataFrame'>\n",
            "Index: 184 entries, 0 to 63\n",
            "Data columns (total 6 columns):\n",
            " #   Column        Non-Null Count  Dtype         \n",
            "---  ------        --------------  -----         \n",
            " 0   IPO Date      184 non-null    datetime64[ns]\n",
            " 1   Symbol        184 non-null    object        \n",
            " 2   Company Name  184 non-null    object        \n",
            " 3   IPO Price     184 non-null    object        \n",
            " 4   Current       184 non-null    object        \n",
            " 5   Return        184 non-null    object        \n",
            "dtypes: datetime64[ns](1), object(5)\n",
            "memory usage: 10.1+ KB\n"
          ]
        },
        {
          "output_type": "execute_result",
          "data": {
            "text/plain": [
              "    IPO Date Symbol                   Company Name IPO Price Current   Return\n",
              "0 2023-12-27   IROH  Iron Horse Acquisitions Corp.    $10.00  $10.05    0.50%\n",
              "1 2023-12-19   LGCB             Linkage Global Inc     $4.00   $2.91  -27.25%\n",
              "2 2023-12-15    ZKH              ZKH Group Limited    $15.50  $12.95  -16.45%\n",
              "3 2023-12-15   BAYA       Bayview Acquisition Corp    $10.00  $10.18    1.80%\n",
              "4 2023-12-14   INHD             Inno Holdings Inc.     $4.00   $0.62  -84.45%"
            ],
            "text/html": [
              "\n",
              "  <div id=\"df-ba8bce12-0bce-4b7d-9d76-2d64a8193131\" class=\"colab-df-container\">\n",
              "    <div>\n",
              "<style scoped>\n",
              "    .dataframe tbody tr th:only-of-type {\n",
              "        vertical-align: middle;\n",
              "    }\n",
              "\n",
              "    .dataframe tbody tr th {\n",
              "        vertical-align: top;\n",
              "    }\n",
              "\n",
              "    .dataframe thead th {\n",
              "        text-align: right;\n",
              "    }\n",
              "</style>\n",
              "<table border=\"1\" class=\"dataframe\">\n",
              "  <thead>\n",
              "    <tr style=\"text-align: right;\">\n",
              "      <th></th>\n",
              "      <th>IPO Date</th>\n",
              "      <th>Symbol</th>\n",
              "      <th>Company Name</th>\n",
              "      <th>IPO Price</th>\n",
              "      <th>Current</th>\n",
              "      <th>Return</th>\n",
              "    </tr>\n",
              "  </thead>\n",
              "  <tbody>\n",
              "    <tr>\n",
              "      <th>0</th>\n",
              "      <td>2023-12-27</td>\n",
              "      <td>IROH</td>\n",
              "      <td>Iron Horse Acquisitions Corp.</td>\n",
              "      <td>$10.00</td>\n",
              "      <td>$10.05</td>\n",
              "      <td>0.50%</td>\n",
              "    </tr>\n",
              "    <tr>\n",
              "      <th>1</th>\n",
              "      <td>2023-12-19</td>\n",
              "      <td>LGCB</td>\n",
              "      <td>Linkage Global Inc</td>\n",
              "      <td>$4.00</td>\n",
              "      <td>$2.91</td>\n",
              "      <td>-27.25%</td>\n",
              "    </tr>\n",
              "    <tr>\n",
              "      <th>2</th>\n",
              "      <td>2023-12-15</td>\n",
              "      <td>ZKH</td>\n",
              "      <td>ZKH Group Limited</td>\n",
              "      <td>$15.50</td>\n",
              "      <td>$12.95</td>\n",
              "      <td>-16.45%</td>\n",
              "    </tr>\n",
              "    <tr>\n",
              "      <th>3</th>\n",
              "      <td>2023-12-15</td>\n",
              "      <td>BAYA</td>\n",
              "      <td>Bayview Acquisition Corp</td>\n",
              "      <td>$10.00</td>\n",
              "      <td>$10.18</td>\n",
              "      <td>1.80%</td>\n",
              "    </tr>\n",
              "    <tr>\n",
              "      <th>4</th>\n",
              "      <td>2023-12-14</td>\n",
              "      <td>INHD</td>\n",
              "      <td>Inno Holdings Inc.</td>\n",
              "      <td>$4.00</td>\n",
              "      <td>$0.62</td>\n",
              "      <td>-84.45%</td>\n",
              "    </tr>\n",
              "  </tbody>\n",
              "</table>\n",
              "</div>\n",
              "    <div class=\"colab-df-buttons\">\n",
              "\n",
              "  <div class=\"colab-df-container\">\n",
              "    <button class=\"colab-df-convert\" onclick=\"convertToInteractive('df-ba8bce12-0bce-4b7d-9d76-2d64a8193131')\"\n",
              "            title=\"Convert this dataframe to an interactive table.\"\n",
              "            style=\"display:none;\">\n",
              "\n",
              "  <svg xmlns=\"http://www.w3.org/2000/svg\" height=\"24px\" viewBox=\"0 -960 960 960\">\n",
              "    <path d=\"M120-120v-720h720v720H120Zm60-500h600v-160H180v160Zm220 220h160v-160H400v160Zm0 220h160v-160H400v160ZM180-400h160v-160H180v160Zm440 0h160v-160H620v160ZM180-180h160v-160H180v160Zm440 0h160v-160H620v160Z\"/>\n",
              "  </svg>\n",
              "    </button>\n",
              "\n",
              "  <style>\n",
              "    .colab-df-container {\n",
              "      display:flex;\n",
              "      gap: 12px;\n",
              "    }\n",
              "\n",
              "    .colab-df-convert {\n",
              "      background-color: #E8F0FE;\n",
              "      border: none;\n",
              "      border-radius: 50%;\n",
              "      cursor: pointer;\n",
              "      display: none;\n",
              "      fill: #1967D2;\n",
              "      height: 32px;\n",
              "      padding: 0 0 0 0;\n",
              "      width: 32px;\n",
              "    }\n",
              "\n",
              "    .colab-df-convert:hover {\n",
              "      background-color: #E2EBFA;\n",
              "      box-shadow: 0px 1px 2px rgba(60, 64, 67, 0.3), 0px 1px 3px 1px rgba(60, 64, 67, 0.15);\n",
              "      fill: #174EA6;\n",
              "    }\n",
              "\n",
              "    .colab-df-buttons div {\n",
              "      margin-bottom: 4px;\n",
              "    }\n",
              "\n",
              "    [theme=dark] .colab-df-convert {\n",
              "      background-color: #3B4455;\n",
              "      fill: #D2E3FC;\n",
              "    }\n",
              "\n",
              "    [theme=dark] .colab-df-convert:hover {\n",
              "      background-color: #434B5C;\n",
              "      box-shadow: 0px 1px 3px 1px rgba(0, 0, 0, 0.15);\n",
              "      filter: drop-shadow(0px 1px 2px rgba(0, 0, 0, 0.3));\n",
              "      fill: #FFFFFF;\n",
              "    }\n",
              "  </style>\n",
              "\n",
              "    <script>\n",
              "      const buttonEl =\n",
              "        document.querySelector('#df-ba8bce12-0bce-4b7d-9d76-2d64a8193131 button.colab-df-convert');\n",
              "      buttonEl.style.display =\n",
              "        google.colab.kernel.accessAllowed ? 'block' : 'none';\n",
              "\n",
              "      async function convertToInteractive(key) {\n",
              "        const element = document.querySelector('#df-ba8bce12-0bce-4b7d-9d76-2d64a8193131');\n",
              "        const dataTable =\n",
              "          await google.colab.kernel.invokeFunction('convertToInteractive',\n",
              "                                                    [key], {});\n",
              "        if (!dataTable) return;\n",
              "\n",
              "        const docLinkHtml = 'Like what you see? Visit the ' +\n",
              "          '<a target=\"_blank\" href=https://colab.research.google.com/notebooks/data_table.ipynb>data table notebook</a>'\n",
              "          + ' to learn more about interactive tables.';\n",
              "        element.innerHTML = '';\n",
              "        dataTable['output_type'] = 'display_data';\n",
              "        await google.colab.output.renderOutput(dataTable, element);\n",
              "        const docLink = document.createElement('div');\n",
              "        docLink.innerHTML = docLinkHtml;\n",
              "        element.appendChild(docLink);\n",
              "      }\n",
              "    </script>\n",
              "  </div>\n",
              "\n",
              "\n",
              "<div id=\"df-63fce58e-f229-4aca-a667-fa4afb43e333\">\n",
              "  <button class=\"colab-df-quickchart\" onclick=\"quickchart('df-63fce58e-f229-4aca-a667-fa4afb43e333')\"\n",
              "            title=\"Suggest charts\"\n",
              "            style=\"display:none;\">\n",
              "\n",
              "<svg xmlns=\"http://www.w3.org/2000/svg\" height=\"24px\"viewBox=\"0 0 24 24\"\n",
              "     width=\"24px\">\n",
              "    <g>\n",
              "        <path d=\"M19 3H5c-1.1 0-2 .9-2 2v14c0 1.1.9 2 2 2h14c1.1 0 2-.9 2-2V5c0-1.1-.9-2-2-2zM9 17H7v-7h2v7zm4 0h-2V7h2v10zm4 0h-2v-4h2v4z\"/>\n",
              "    </g>\n",
              "</svg>\n",
              "  </button>\n",
              "\n",
              "<style>\n",
              "  .colab-df-quickchart {\n",
              "      --bg-color: #E8F0FE;\n",
              "      --fill-color: #1967D2;\n",
              "      --hover-bg-color: #E2EBFA;\n",
              "      --hover-fill-color: #174EA6;\n",
              "      --disabled-fill-color: #AAA;\n",
              "      --disabled-bg-color: #DDD;\n",
              "  }\n",
              "\n",
              "  [theme=dark] .colab-df-quickchart {\n",
              "      --bg-color: #3B4455;\n",
              "      --fill-color: #D2E3FC;\n",
              "      --hover-bg-color: #434B5C;\n",
              "      --hover-fill-color: #FFFFFF;\n",
              "      --disabled-bg-color: #3B4455;\n",
              "      --disabled-fill-color: #666;\n",
              "  }\n",
              "\n",
              "  .colab-df-quickchart {\n",
              "    background-color: var(--bg-color);\n",
              "    border: none;\n",
              "    border-radius: 50%;\n",
              "    cursor: pointer;\n",
              "    display: none;\n",
              "    fill: var(--fill-color);\n",
              "    height: 32px;\n",
              "    padding: 0;\n",
              "    width: 32px;\n",
              "  }\n",
              "\n",
              "  .colab-df-quickchart:hover {\n",
              "    background-color: var(--hover-bg-color);\n",
              "    box-shadow: 0 1px 2px rgba(60, 64, 67, 0.3), 0 1px 3px 1px rgba(60, 64, 67, 0.15);\n",
              "    fill: var(--button-hover-fill-color);\n",
              "  }\n",
              "\n",
              "  .colab-df-quickchart-complete:disabled,\n",
              "  .colab-df-quickchart-complete:disabled:hover {\n",
              "    background-color: var(--disabled-bg-color);\n",
              "    fill: var(--disabled-fill-color);\n",
              "    box-shadow: none;\n",
              "  }\n",
              "\n",
              "  .colab-df-spinner {\n",
              "    border: 2px solid var(--fill-color);\n",
              "    border-color: transparent;\n",
              "    border-bottom-color: var(--fill-color);\n",
              "    animation:\n",
              "      spin 1s steps(1) infinite;\n",
              "  }\n",
              "\n",
              "  @keyframes spin {\n",
              "    0% {\n",
              "      border-color: transparent;\n",
              "      border-bottom-color: var(--fill-color);\n",
              "      border-left-color: var(--fill-color);\n",
              "    }\n",
              "    20% {\n",
              "      border-color: transparent;\n",
              "      border-left-color: var(--fill-color);\n",
              "      border-top-color: var(--fill-color);\n",
              "    }\n",
              "    30% {\n",
              "      border-color: transparent;\n",
              "      border-left-color: var(--fill-color);\n",
              "      border-top-color: var(--fill-color);\n",
              "      border-right-color: var(--fill-color);\n",
              "    }\n",
              "    40% {\n",
              "      border-color: transparent;\n",
              "      border-right-color: var(--fill-color);\n",
              "      border-top-color: var(--fill-color);\n",
              "    }\n",
              "    60% {\n",
              "      border-color: transparent;\n",
              "      border-right-color: var(--fill-color);\n",
              "    }\n",
              "    80% {\n",
              "      border-color: transparent;\n",
              "      border-right-color: var(--fill-color);\n",
              "      border-bottom-color: var(--fill-color);\n",
              "    }\n",
              "    90% {\n",
              "      border-color: transparent;\n",
              "      border-bottom-color: var(--fill-color);\n",
              "    }\n",
              "  }\n",
              "</style>\n",
              "\n",
              "  <script>\n",
              "    async function quickchart(key) {\n",
              "      const quickchartButtonEl =\n",
              "        document.querySelector('#' + key + ' button');\n",
              "      quickchartButtonEl.disabled = true;  // To prevent multiple clicks.\n",
              "      quickchartButtonEl.classList.add('colab-df-spinner');\n",
              "      try {\n",
              "        const charts = await google.colab.kernel.invokeFunction(\n",
              "            'suggestCharts', [key], {});\n",
              "      } catch (error) {\n",
              "        console.error('Error during call to suggestCharts:', error);\n",
              "      }\n",
              "      quickchartButtonEl.classList.remove('colab-df-spinner');\n",
              "      quickchartButtonEl.classList.add('colab-df-quickchart-complete');\n",
              "    }\n",
              "    (() => {\n",
              "      let quickchartButtonEl =\n",
              "        document.querySelector('#df-63fce58e-f229-4aca-a667-fa4afb43e333 button');\n",
              "      quickchartButtonEl.style.display =\n",
              "        google.colab.kernel.accessAllowed ? 'block' : 'none';\n",
              "    })();\n",
              "  </script>\n",
              "</div>\n",
              "\n",
              "    </div>\n",
              "  </div>\n"
            ],
            "application/vnd.google.colaboratory.intrinsic+json": {
              "type": "dataframe",
              "variable_name": "ipo_df",
              "summary": "{\n  \"name\": \"ipo_df\",\n  \"rows\": 184,\n  \"fields\": [\n    {\n      \"column\": \"IPO Date\",\n      \"properties\": {\n        \"dtype\": \"date\",\n        \"min\": \"2023-01-13 00:00:00\",\n        \"max\": \"2024-02-27 00:00:00\",\n        \"num_unique_values\": 118,\n        \"samples\": [\n          \"2023-06-14 00:00:00\",\n          \"2023-02-09 00:00:00\",\n          \"2023-12-04 00:00:00\"\n        ],\n        \"semantic_type\": \"\",\n        \"description\": \"\"\n      }\n    },\n    {\n      \"column\": \"Symbol\",\n      \"properties\": {\n        \"dtype\": \"string\",\n        \"num_unique_values\": 184,\n        \"samples\": [\n          \"GVH\",\n          \"DTCK\",\n          \"CHRO\"\n        ],\n        \"semantic_type\": \"\",\n        \"description\": \"\"\n      }\n    },\n    {\n      \"column\": \"Company Name\",\n      \"properties\": {\n        \"dtype\": \"string\",\n        \"num_unique_values\": 184,\n        \"samples\": [\n          \"Globavend Holdings Limited\",\n          \"Davis Commodities Limited\",\n          \"Chromocell Therapeutics Corp\"\n        ],\n        \"semantic_type\": \"\",\n        \"description\": \"\"\n      }\n    },\n    {\n      \"column\": \"IPO Price\",\n      \"properties\": {\n        \"dtype\": \"category\",\n        \"num_unique_values\": 44,\n        \"samples\": [\n          \"$12.50\",\n          \"$18.00\",\n          \"$14.00\"\n        ],\n        \"semantic_type\": \"\",\n        \"description\": \"\"\n      }\n    },\n    {\n      \"column\": \"Current\",\n      \"properties\": {\n        \"dtype\": \"string\",\n        \"num_unique_values\": 168,\n        \"samples\": [\n          \"$37.61\",\n          \"$10.31\",\n          \"$10.56\"\n        ],\n        \"semantic_type\": \"\",\n        \"description\": \"\"\n      }\n    },\n    {\n      \"column\": \"Return\",\n      \"properties\": {\n        \"dtype\": \"string\",\n        \"num_unique_values\": 179,\n        \"samples\": [\n          \"5.90%\",\n          \"34.93%\",\n          \"-73.33%\"\n        ],\n        \"semantic_type\": \"\",\n        \"description\": \"\"\n      }\n    }\n  ]\n}"
            }
          },
          "metadata": {},
          "execution_count": 6
        }
      ]
    },
    {
      "cell_type": "code",
      "source": [
        "# Step 2: Get all OHLCV daily prices for all stocks with an IPO date before March 1, 2024\n",
        "\n",
        "tickers = ipo_df[\"Symbol\"].tolist()\n",
        "len(tickers)\n"
      ],
      "metadata": {
        "colab": {
          "base_uri": "https://localhost:8080/"
        },
        "id": "IVT5Wq8E_NQ5",
        "outputId": "d4184501-789a-4730-d11a-805e9508b776"
      },
      "execution_count": 8,
      "outputs": [
        {
          "output_type": "execute_result",
          "data": {
            "text/plain": [
              "184"
            ]
          },
          "metadata": {},
          "execution_count": 8
        }
      ]
    },
    {
      "cell_type": "code",
      "source": [
        "#Ticker changes\n",
        "# URL to fetch ticker changes mapping\n",
        "url = \"https://stockanalysis.com/actions/changes/\"\n",
        "\n",
        "# Fetch the HTML content\n",
        "response = requests.get(url)\n",
        "\n",
        "# Read HTML table into a DataFrame\n",
        "ticker_changes_df = pd.read_html(response.text)[0]\n",
        "\n",
        "# Convert DataFrame to dictionary\n",
        "ticker_changes = dict(zip(ticker_changes_df[\"Old\"].str.strip(), ticker_changes_df[\"New\"].str.strip()))\n",
        "\n",
        "print(\"Ticker changes mapping:\")\n",
        "print(ticker_changes)"
      ],
      "metadata": {
        "colab": {
          "base_uri": "https://localhost:8080/"
        },
        "id": "Y0pzuoya_6-k",
        "outputId": "33d2c17b-ae54-4732-deda-6fded42b3a0d"
      },
      "execution_count": 12,
      "outputs": [
        {
          "output_type": "stream",
          "name": "stdout",
          "text": [
            "Ticker changes mapping:\n",
            "{'CONX': 'CNXX', 'FUV': 'FUVV', 'XLYO': 'XYLO', 'DCFCW': 'DCFWQ', 'MDGS': 'XYLO', 'GGE': 'GGEI', 'CBD': 'CBDBY', 'OSA': 'OSAP', 'ARRW': 'AILE', 'CNXA': 'YYAI', 'STRC': 'PDYN', 'KYCH': 'ZOOZ', 'VIEWW': 'VIWWQ', 'ASCA': 'NIVF', 'CASA': 'CASSQ', 'ONTX': 'TRAW', 'APAC': 'FAAS', 'WETG': 'NXTT', 'GEV.W': 'GEV', 'WNNR': 'ZPTA', 'CVCY': 'CWBC', 'TWOA': 'LPA', 'AGE': 'SER', 'CNDB': 'GCTS', 'FIXX': 'QTTB', 'DWAC': 'DJT', 'FSR': 'FSRN', 'FLT': 'CPAY', 'VJET': 'VJTTY', 'GRPH': 'LENZ', 'ADOC': 'COOT', 'HCMA': 'MRNO', 'SVFD': 'NITO', 'PUYI': 'HPH', 'ENCP': 'GTI', 'CYT': 'CYTT', 'DHCA': 'BNAI', 'XPDB': 'AIRJ', 'ESAC': 'ZEO', 'INPX': 'XTIA', 'SASI': 'NTRP', 'LBBB': 'NMHI', 'GIA': 'QTI', 'CPSI': 'TBRG', 'PEAK': 'DOC', 'BODY': 'BODI', 'BFX': 'BFXXQ', 'ARIZ': 'FUFU', 'POL': 'POLCQ', 'SZZL': 'CRML', 'ROI': 'ROII', 'TMST': 'MTUS', 'AMEH': 'ASTH', 'LCAA': 'LOT', 'JT': 'JTCHY', 'CHEA': 'SELX', 'LGST': 'TVGN', 'FLME': 'SOC', 'PBAX': 'CERO', 'SEAS': 'PRKS', 'QFTA': 'ATCH', 'AEY': 'AEYGQ', 'SFE': 'SFES', 'KERN': 'GRYP', 'ATAK': 'DHAI', 'OXUS': 'BRLS', 'NHWK': 'SCPX', 'DMK': 'DMKPQ', 'NUBI': 'STI', 'DMAQ': 'TRUG', 'CDAY': 'DAY', 'ADES': 'ARQ', 'PBTS': 'XTKG', 'RWLK': 'LFWD', 'BHG': 'NEUE', 'NCAC': 'PBM', 'LIZI': 'SOGP', 'GOL': 'GOLLQ', 'GSD': 'GSDI', 'NFTG': 'GXAI', 'LAZY': 'GORV', 'PTHR': 'HOVR', 'ACRX': 'TLPH', 'TEDU': 'TCTM', 'TRMR': 'NEXN', 'ADEX': 'GRDI', 'BYN': 'PNST', 'IOAC': 'ZCAR', 'EGGF': 'FLYX', 'BRLI': 'NUKK', 'ID': 'IDICQ', 'CLIN': 'ALCE', 'BWV': 'ONCO', 'CLAY': 'MOBX', 'PRSR': 'LDTC', 'DUNE': 'HGAS', 'BYTS': 'AISP', 'NOGNW': 'NOGWQ', 'SMAP': 'MSAI', 'HCDIZ': 'HCDZQ', 'HCDIW': 'HCDWQ', 'HCDIP': 'HCDPQ', 'NETC': 'VSTE', 'NLTX': 'NGNE', 'NIR': 'NIRLQ', 'TRKAW': 'TRKWQ', 'VII': 'BNZI', 'ELIQW': 'ELIWQ', 'GEHI': 'MYND', 'ELIQ.WS': 'ELIWQ', 'EFHT': 'ECDA', 'UPH': 'UPHL', 'MOBV': 'SVMH', 'VCXA': 'AAGR', 'PACI': 'SOAR', 'WS.W': 'WS', 'CFFE': 'XBP', 'AGLE': 'SYRE', 'MOXC': 'ABTS', 'JGGC': 'CAPT', 'SELB': 'RNAC', 'TIO': 'TIOG', 'SQL': 'SEQL', 'GSMG': 'CHR', 'WE': 'WEWKQ', 'OLIT': 'OPTX', 'DKDCA': 'ONMD', 'WWAC': 'AERT', 'VACC': 'BRNS', 'AMAO': 'RMCO', 'FREQ': 'KRRO', 'OSTK': 'BYON', 'TRCA': 'CREV', 'ASPA': 'CAUD', 'PCYG': 'TRAK', 'BNMV': 'ROII', 'FRBN': 'ENGN', 'NLS': 'BFXXQ', 'CBIO': 'GYRE', 'GLG': 'BYU', 'SFR': 'SFRT', 'AKU': 'AKUMQ', 'TALS': 'TRML', 'PCCT': 'SPEC', 'SFT': 'SFTGQ', 'NCR': 'VYX', 'RAD': 'RADCQ', 'VBLT': 'NTBL', 'BTWN': 'MNY', 'AATP': 'ATPC', 'VEDU': 'GV', 'FZT': 'FBYD', 'SDC': 'SDCCQ', 'KLG.W': 'KLG', 'UPTD': 'ESLA', 'ANZU': 'COCH', 'METX': 'BTCT', 'NASDAQ': 'SGD', 'GFOR': 'NKGN', 'DMS': 'DMSL', 'CTIB': 'YHGJ', 'HILS': 'THAR', 'SUNL.WS': 'SULWQ', 'MURF': 'CDT', 'VHNA': 'RDZN', 'DTOC': 'AONC', 'ABML': 'ABAT', 'ZEV': 'ZEVY', 'TKAT': 'MI', 'JUPW': 'SHOT', 'OFC': 'CDP', 'FLAG': 'CLDI', 'RCLF': 'MDAI', 'MGTA': 'DNTH', 'SLGG': 'SLE', 'LOV': 'LOVLY', 'ADMP': 'DMKPQ', 'BVXV': 'SCNI', 'AZYO': 'ELUT', 'UTME': 'WTO', 'SCHN': 'RDUS', 'OIG': 'OIGBQ', 'MNK': 'MNKTQ', 'ABC': 'COR', 'PNAC': 'NCNC', 'FWAC': 'BEEP', 'AURC': 'BETR', 'AMOT': 'ALNT', 'HMAC': 'ABLV', 'RMED': 'VTAK', 'DFFN': 'CRVO', 'UIHC': 'ACIC', 'BSAQ': 'VFS', 'HHC': 'HHH', 'MTAC': 'TLSI', 'OXAC': 'JTAI', 'ENOB': 'RENB', 'ISIG': 'LDWY', 'GENQ': 'ESGL', 'MMMB': 'MAMA', 'CPUH': 'ALUR', 'TLGA.WS': 'ELIWQ', 'TLGA': 'ELIQQ', 'GRIL': 'SDOT', 'PMGM': 'AEON', 'SEV': 'SEVCQ', 'CLBR': 'PSQH', 'BSTG': 'HRGN', 'FACT': 'CSLR', 'ALPA': 'CTCX', 'GLTA': 'MRT', 'RE': 'EG', 'ORCC': 'OBDC', 'GOGN': 'LZM', 'IBA': 'IBAAY', 'ERES': 'ABL', 'SQZ': 'SQZB', 'GSRM': 'BTM', 'BGCP': 'BGC', 'ERYP': 'PHXM', 'GNUS': 'TOON', 'RENN': 'MTBLY', 'METBV': 'METCB', 'ROC': 'DTI', 'HSC': 'NVRI', 'INT': 'WKC', 'PTE': 'PTEIQ', 'RONI': 'NPWR', 'WEJOW': 'WEJWQ', 'AVAC': 'BENF', 'FISV': 'FI', 'JWAC': 'CJET', 'QTEKW': 'QTEWQ', 'KNF.W': 'KNF', 'CLXT': 'CBUS', 'DBD': 'DBDQQ', 'ROCG': 'TYGO', 'NH': 'NHIQ', 'CIDM': 'CNVS', 'OBNK': 'OBK', 'ANPC': 'FRES', 'ABB': 'ABBNY', 'GBRG': 'SDA', 'IDW': 'IDWM', 'PKI': 'RVTY', 'AUD': 'AUDAQ', 'AMV': 'NXU', 'SI': 'SICP'}\n"
          ]
        }
      ]
    },
    {
      "cell_type": "code",
      "source": [
        "tickers = [ticker_changes.get(ticker, ticker) for ticker in tickers]\n",
        "len(tickers)"
      ],
      "metadata": {
        "colab": {
          "base_uri": "https://localhost:8080/"
        },
        "id": "3RACLBTdAU_r",
        "outputId": "939f484d-899f-4be9-843b-21500bf1d93e"
      },
      "execution_count": 13,
      "outputs": [
        {
          "output_type": "execute_result",
          "data": {
            "text/plain": [
              "184"
            ]
          },
          "metadata": {},
          "execution_count": 13
        }
      ]
    },
    {
      "cell_type": "code",
      "source": [
        "# Fetch historical data for each ticker\n",
        "from datetime import datetime, timedelta\n",
        "start_date = (datetime.now() - timedelta(days=365)).strftime('%Y-%m-%d')\n",
        "end_date = \"2024-03-01\"\n",
        "stocks_df = pd.DataFrame({'A' : []})\n",
        "for i,ticker in enumerate (tickers):\n",
        "  print(i, ticker)\n",
        "  try:\n",
        "      data = yf.download(ticker, end=end_date, period='max',\n",
        "                         interval = \"1d\",progress= True)\n",
        "      data['Ticker'] = ticker\n",
        "      data['Date'] = data.index.date\n",
        "\n",
        "      for j in range(1, 31):\n",
        "        data['growth_future_'+str(j)+'d'] = data['Adj Close'].shift(-j) / data['Adj Close']\n",
        "      # ohlc_data[ticker] = data\n",
        "      if stocks_df.empty:\n",
        "        stocks_df = data[data['Date'] == data['Date'].min()]\n",
        "      else:\n",
        "        stocks_df = pd.concat([stocks_df, data[data['Date'] == data['Date'].min()]], ignore_index=True)\n",
        "\n",
        "  except Exception as e:\n",
        "      print(f\"Error fetching data for ticker {ticker}: {e}\")\n",
        "\n",
        "df = stocks_df.loc[:, stocks_df.columns.str.startswith('growth')].describe()\n",
        "df\n",
        "# get max from growth_future.loc['75%']\n",
        "p75 = df.loc['75%']\n",
        "p75.idxmax(), p75.max()"
      ],
      "metadata": {
        "colab": {
          "base_uri": "https://localhost:8080/"
        },
        "id": "ZQuMquBqA02d",
        "outputId": "4ff49aff-4709-45f9-80bb-a22520ca6533"
      },
      "execution_count": 39,
      "outputs": [
        {
          "output_type": "stream",
          "name": "stdout",
          "text": [
            "0 IROH\n"
          ]
        },
        {
          "output_type": "stream",
          "name": "stderr",
          "text": [
            "\r[*********************100%%**********************]  1 of 1 completed\n"
          ]
        },
        {
          "output_type": "stream",
          "name": "stdout",
          "text": [
            "1 LGCB\n"
          ]
        },
        {
          "output_type": "stream",
          "name": "stderr",
          "text": [
            "[*********************100%%**********************]  1 of 1 completed\n",
            "[*********************100%%**********************]  1 of 1 completed"
          ]
        },
        {
          "output_type": "stream",
          "name": "stdout",
          "text": [
            "2 ZKH\n",
            "3 BAYA\n"
          ]
        },
        {
          "output_type": "stream",
          "name": "stderr",
          "text": [
            "\n",
            "[*********************100%%**********************]  1 of 1 completed\n",
            "[*********************100%%**********************]  1 of 1 completed"
          ]
        },
        {
          "output_type": "stream",
          "name": "stdout",
          "text": [
            "4 INHD\n"
          ]
        },
        {
          "output_type": "stream",
          "name": "stderr",
          "text": [
            "\n",
            "[*********************100%%**********************]  1 of 1 completed"
          ]
        },
        {
          "output_type": "stream",
          "name": "stdout",
          "text": [
            "5 AFJK\n",
            "6 GSIW\n"
          ]
        },
        {
          "output_type": "stream",
          "name": "stderr",
          "text": [
            "\n",
            "[*********************100%%**********************]  1 of 1 completed\n",
            "[*********************100%%**********************]  1 of 1 completed"
          ]
        },
        {
          "output_type": "stream",
          "name": "stdout",
          "text": [
            "7 FEBO\n"
          ]
        },
        {
          "output_type": "stream",
          "name": "stderr",
          "text": [
            "\n",
            "[*********************100%%**********************]  1 of 1 completed"
          ]
        },
        {
          "output_type": "stream",
          "name": "stdout",
          "text": [
            "8 PSQH\n"
          ]
        },
        {
          "output_type": "stream",
          "name": "stderr",
          "text": [
            "\n",
            "[*********************100%%**********************]  1 of 1 completed"
          ]
        },
        {
          "output_type": "stream",
          "name": "stdout",
          "text": [
            "9 ELAB\n",
            "10 RR\n"
          ]
        },
        {
          "output_type": "stream",
          "name": "stderr",
          "text": [
            "\n",
            "[*********************100%%**********************]  1 of 1 completed\n",
            "[*********************100%%**********************]  1 of 1 completed"
          ]
        },
        {
          "output_type": "stream",
          "name": "stdout",
          "text": [
            "11 DDC\n",
            "12 SHIM\n"
          ]
        },
        {
          "output_type": "stream",
          "name": "stderr",
          "text": [
            "\n",
            "[*********************100%%**********************]  1 of 1 completed\n",
            "[*********************100%%**********************]  1 of 1 completed\n"
          ]
        },
        {
          "output_type": "stream",
          "name": "stdout",
          "text": [
            "13 GLAC\n"
          ]
        },
        {
          "output_type": "stream",
          "name": "stderr",
          "text": [
            "\r[*********************100%%**********************]  1 of 1 completed"
          ]
        },
        {
          "output_type": "stream",
          "name": "stdout",
          "text": [
            "14 SGN\n"
          ]
        },
        {
          "output_type": "stream",
          "name": "stderr",
          "text": [
            "\n",
            "[*********************100%%**********************]  1 of 1 completed"
          ]
        },
        {
          "output_type": "stream",
          "name": "stdout",
          "text": [
            "15 HG\n"
          ]
        },
        {
          "output_type": "stream",
          "name": "stderr",
          "text": [
            "\n",
            "[*********************100%%**********************]  1 of 1 completed\n",
            "[*********************100%%**********************]  1 of 1 completed\n"
          ]
        },
        {
          "output_type": "stream",
          "name": "stdout",
          "text": [
            "16 CRGX\n",
            "17 ANSC\n",
            "18 AITR\n"
          ]
        },
        {
          "output_type": "stream",
          "name": "stderr",
          "text": [
            "[*********************100%%**********************]  1 of 1 completed\n",
            "[*********************100%%**********************]  1 of 1 completed"
          ]
        },
        {
          "output_type": "stream",
          "name": "stdout",
          "text": [
            "19 GVH\n"
          ]
        },
        {
          "output_type": "stream",
          "name": "stderr",
          "text": [
            "\n",
            "[*********************100%%**********************]  1 of 1 completed"
          ]
        },
        {
          "output_type": "stream",
          "name": "stdout",
          "text": [
            "20 LXEO\n"
          ]
        },
        {
          "output_type": "stream",
          "name": "stderr",
          "text": [
            "\n",
            "[*********************100%%**********************]  1 of 1 completed"
          ]
        },
        {
          "output_type": "stream",
          "name": "stdout",
          "text": [
            "21 PAPL\n"
          ]
        },
        {
          "output_type": "stream",
          "name": "stderr",
          "text": [
            "\n",
            "[*********************100%%**********************]  1 of 1 completed"
          ]
        },
        {
          "output_type": "stream",
          "name": "stdout",
          "text": [
            "22 ATGL\n"
          ]
        },
        {
          "output_type": "stream",
          "name": "stderr",
          "text": [
            "\n",
            "[*********************100%%**********************]  1 of 1 completed"
          ]
        },
        {
          "output_type": "stream",
          "name": "stdout",
          "text": [
            "23 MNR\n"
          ]
        },
        {
          "output_type": "stream",
          "name": "stderr",
          "text": [
            "\n",
            "[*********************100%%**********************]  1 of 1 completed"
          ]
        },
        {
          "output_type": "stream",
          "name": "stdout",
          "text": [
            "24 WBUY\n"
          ]
        },
        {
          "output_type": "stream",
          "name": "stderr",
          "text": [
            "\n",
            "[*********************100%%**********************]  1 of 1 completed"
          ]
        },
        {
          "output_type": "stream",
          "name": "stdout",
          "text": [
            "25 NCL\n"
          ]
        },
        {
          "output_type": "stream",
          "name": "stderr",
          "text": [
            "\n",
            "[*********************100%%**********************]  1 of 1 completed"
          ]
        },
        {
          "output_type": "stream",
          "name": "stdout",
          "text": [
            "26 BIRK\n"
          ]
        },
        {
          "output_type": "stream",
          "name": "stderr",
          "text": [
            "\n",
            "[*********************100%%**********************]  1 of 1 completed"
          ]
        },
        {
          "output_type": "stream",
          "name": "stdout",
          "text": [
            "27 GMM\n",
            "28 PMEC\n"
          ]
        },
        {
          "output_type": "stream",
          "name": "stderr",
          "text": [
            "\n",
            "[*********************100%%**********************]  1 of 1 completed\n",
            "[*********************100%%**********************]  1 of 1 completed"
          ]
        },
        {
          "output_type": "stream",
          "name": "stdout",
          "text": [
            "29 LRHC\n",
            "30 GPAK\n"
          ]
        },
        {
          "output_type": "stream",
          "name": "stderr",
          "text": [
            "\n",
            "[*********************100%%**********************]  1 of 1 completed\n"
          ]
        },
        {
          "output_type": "stream",
          "name": "stdout",
          "text": [
            "31 SPKL\n"
          ]
        },
        {
          "output_type": "stream",
          "name": "stderr",
          "text": [
            "[*********************100%%**********************]  1 of 1 completed\n",
            "[*********************100%%**********************]  1 of 1 completed"
          ]
        },
        {
          "output_type": "stream",
          "name": "stdout",
          "text": [
            "32 QETA\n"
          ]
        },
        {
          "output_type": "stream",
          "name": "stderr",
          "text": [
            "\n",
            "[*********************100%%**********************]  1 of 1 completed"
          ]
        },
        {
          "output_type": "stream",
          "name": "stdout",
          "text": [
            "33 MSS\n"
          ]
        },
        {
          "output_type": "stream",
          "name": "stderr",
          "text": [
            "\n",
            "[*********************100%%**********************]  1 of 1 completed\n",
            "[*********************100%%**********************]  1 of 1 completed"
          ]
        },
        {
          "output_type": "stream",
          "name": "stdout",
          "text": [
            "34 ANL\n",
            "35 SYRA\n"
          ]
        },
        {
          "output_type": "stream",
          "name": "stderr",
          "text": [
            "\n",
            "[*********************100%%**********************]  1 of 1 completed"
          ]
        },
        {
          "output_type": "stream",
          "name": "stdout",
          "text": [
            "36 VSME\n",
            "37 LRE\n"
          ]
        },
        {
          "output_type": "stream",
          "name": "stderr",
          "text": [
            "\n",
            "[*********************100%%**********************]  1 of 1 completed\n",
            "[*********************100%%**********************]  1 of 1 completed"
          ]
        },
        {
          "output_type": "stream",
          "name": "stdout",
          "text": [
            "38 TURB\n"
          ]
        },
        {
          "output_type": "stream",
          "name": "stderr",
          "text": [
            "\n",
            "[*********************100%%**********************]  1 of 1 completed"
          ]
        },
        {
          "output_type": "stream",
          "name": "stdout",
          "text": [
            "39 MDBH\n"
          ]
        },
        {
          "output_type": "stream",
          "name": "stderr",
          "text": [
            "\n",
            "[*********************100%%**********************]  1 of 1 completed\n",
            "[*********************100%%**********************]  1 of 1 completed"
          ]
        },
        {
          "output_type": "stream",
          "name": "stdout",
          "text": [
            "40 KVYO\n",
            "41 CART\n"
          ]
        },
        {
          "output_type": "stream",
          "name": "stderr",
          "text": [
            "\n"
          ]
        },
        {
          "output_type": "stream",
          "name": "stdout",
          "text": [
            "42 DTCK\n"
          ]
        },
        {
          "output_type": "stream",
          "name": "stderr",
          "text": [
            "[*********************100%%**********************]  1 of 1 completed\n",
            "[*********************100%%**********************]  1 of 1 completed"
          ]
        },
        {
          "output_type": "stream",
          "name": "stdout",
          "text": [
            "43 NMRA\n"
          ]
        },
        {
          "output_type": "stream",
          "name": "stderr",
          "text": [
            "\n",
            "[*********************100%%**********************]  1 of 1 completed"
          ]
        },
        {
          "output_type": "stream",
          "name": "stdout",
          "text": [
            "44 ARM\n"
          ]
        },
        {
          "output_type": "stream",
          "name": "stderr",
          "text": [
            "\n"
          ]
        },
        {
          "output_type": "stream",
          "name": "stdout",
          "text": [
            "45 SPPL\n"
          ]
        },
        {
          "output_type": "stream",
          "name": "stderr",
          "text": [
            "[*********************100%%**********************]  1 of 1 completed\n",
            "[*********************100%%**********************]  1 of 1 completed"
          ]
        },
        {
          "output_type": "stream",
          "name": "stdout",
          "text": [
            "46 NWGL\n"
          ]
        },
        {
          "output_type": "stream",
          "name": "stderr",
          "text": [
            "\n"
          ]
        },
        {
          "output_type": "stream",
          "name": "stdout",
          "text": [
            "47 SWIN\n"
          ]
        },
        {
          "output_type": "stream",
          "name": "stderr",
          "text": [
            "[*********************100%%**********************]  1 of 1 completed\n",
            "[*********************100%%**********************]  1 of 1 completed"
          ]
        },
        {
          "output_type": "stream",
          "name": "stdout",
          "text": [
            "48 IVP\n"
          ]
        },
        {
          "output_type": "stream",
          "name": "stderr",
          "text": [
            "\n"
          ]
        },
        {
          "output_type": "stream",
          "name": "stdout",
          "text": [
            "49 NNAG\n"
          ]
        },
        {
          "output_type": "stream",
          "name": "stderr",
          "text": [
            "[*********************100%%**********************]  1 of 1 completed\n",
            "[*********************100%%**********************]  1 of 1 completed"
          ]
        },
        {
          "output_type": "stream",
          "name": "stdout",
          "text": [
            "50 SRM\n",
            "51 SPGC\n"
          ]
        },
        {
          "output_type": "stream",
          "name": "stderr",
          "text": [
            "\n",
            "[*********************100%%**********************]  1 of 1 completed\n",
            "[*********************100%%**********************]  1 of 1 completed"
          ]
        },
        {
          "output_type": "stream",
          "name": "stdout",
          "text": [
            "52 LQR\n"
          ]
        },
        {
          "output_type": "stream",
          "name": "stderr",
          "text": [
            "\n",
            "[*********************100%%**********************]  1 of 1 completed"
          ]
        },
        {
          "output_type": "stream",
          "name": "stdout",
          "text": [
            "53 NRXS\n"
          ]
        },
        {
          "output_type": "stream",
          "name": "stderr",
          "text": [
            "\n",
            "[*********************100%%**********************]  1 of 1 completed"
          ]
        },
        {
          "output_type": "stream",
          "name": "stdout",
          "text": [
            "54 FTEL\n"
          ]
        },
        {
          "output_type": "stream",
          "name": "stderr",
          "text": [
            "\n",
            "[*********************100%%**********************]  1 of 1 completed\n",
            "[*********************100%%**********************]  1 of 1 completed"
          ]
        },
        {
          "output_type": "stream",
          "name": "stdout",
          "text": [
            "55 MIRA\n",
            "56 PXDT\n"
          ]
        },
        {
          "output_type": "stream",
          "name": "stderr",
          "text": [
            "\n",
            "[*********************100%%**********************]  1 of 1 completed"
          ]
        },
        {
          "output_type": "stream",
          "name": "stdout",
          "text": [
            "57 HRYU\n"
          ]
        },
        {
          "output_type": "stream",
          "name": "stderr",
          "text": [
            "\n",
            "[*********************100%%**********************]  1 of 1 completed"
          ]
        },
        {
          "output_type": "stream",
          "name": "stdout",
          "text": [
            "58 CTNT\n"
          ]
        },
        {
          "output_type": "stream",
          "name": "stderr",
          "text": [
            "\n",
            "[*********************100%%**********************]  1 of 1 completed"
          ]
        },
        {
          "output_type": "stream",
          "name": "stdout",
          "text": [
            "59 SRFM\n",
            "60 PRZO\n"
          ]
        },
        {
          "output_type": "stream",
          "name": "stderr",
          "text": [
            "\n",
            "[*********************100%%**********************]  1 of 1 completed\n",
            "[*********************100%%**********************]  1 of 1 completed"
          ]
        },
        {
          "output_type": "stream",
          "name": "stdout",
          "text": [
            "61 HYAC\n"
          ]
        },
        {
          "output_type": "stream",
          "name": "stderr",
          "text": [
            "\n",
            "[*********************100%%**********************]  1 of 1 completed"
          ]
        },
        {
          "output_type": "stream",
          "name": "stdout",
          "text": [
            "62 KVAC\n"
          ]
        },
        {
          "output_type": "stream",
          "name": "stderr",
          "text": [
            "\n",
            "[*********************100%%**********************]  1 of 1 completed"
          ]
        },
        {
          "output_type": "stream",
          "name": "stdout",
          "text": [
            "63 JNVR\n",
            "64 ELWS\n"
          ]
        },
        {
          "output_type": "stream",
          "name": "stderr",
          "text": [
            "\n",
            "[*********************100%%**********************]  1 of 1 completed\n",
            "[*********************100%%**********************]  1 of 1 completed\n"
          ]
        },
        {
          "output_type": "stream",
          "name": "stdout",
          "text": [
            "65 WRNT\n"
          ]
        },
        {
          "output_type": "stream",
          "name": "stderr",
          "text": [
            "\r[*********************100%%**********************]  1 of 1 completed"
          ]
        },
        {
          "output_type": "stream",
          "name": "stdout",
          "text": [
            "66 TSBX\n"
          ]
        },
        {
          "output_type": "stream",
          "name": "stderr",
          "text": [
            "\n",
            "[*********************100%%**********************]  1 of 1 completed"
          ]
        },
        {
          "output_type": "stream",
          "name": "stdout",
          "text": [
            "67 ODD\n"
          ]
        },
        {
          "output_type": "stream",
          "name": "stderr",
          "text": [
            "\n"
          ]
        },
        {
          "output_type": "stream",
          "name": "stdout",
          "text": [
            "68 APGE\n"
          ]
        },
        {
          "output_type": "stream",
          "name": "stderr",
          "text": [
            "[*********************100%%**********************]  1 of 1 completed\n",
            "[*********************100%%**********************]  1 of 1 completed"
          ]
        },
        {
          "output_type": "stream",
          "name": "stdout",
          "text": [
            "69 NETD\n"
          ]
        },
        {
          "output_type": "stream",
          "name": "stderr",
          "text": [
            "\n",
            "[*********************100%%**********************]  1 of 1 completed"
          ]
        },
        {
          "output_type": "stream",
          "name": "stdout",
          "text": [
            "70 SGMT\n",
            "71 BOWN\n"
          ]
        },
        {
          "output_type": "stream",
          "name": "stderr",
          "text": [
            "\n",
            "[*********************100%%**********************]  1 of 1 completed\n"
          ]
        },
        {
          "output_type": "stream",
          "name": "stdout",
          "text": [
            "72 SXTP\n"
          ]
        },
        {
          "output_type": "stream",
          "name": "stderr",
          "text": [
            "[*********************100%%**********************]  1 of 1 completed\n",
            "[*********************100%%**********************]  1 of 1 completed"
          ]
        },
        {
          "output_type": "stream",
          "name": "stdout",
          "text": [
            "73 PWM\n"
          ]
        },
        {
          "output_type": "stream",
          "name": "stderr",
          "text": [
            "\n",
            "[*********************100%%**********************]  1 of 1 completed"
          ]
        },
        {
          "output_type": "stream",
          "name": "stdout",
          "text": [
            "74 VTMX\n",
            "75 INTS\n"
          ]
        },
        {
          "output_type": "stream",
          "name": "stderr",
          "text": [
            "\n",
            "[*********************100%%**********************]  1 of 1 completed\n",
            "[*********************100%%**********************]  1 of 1 completed"
          ]
        },
        {
          "output_type": "stream",
          "name": "stdout",
          "text": [
            "76 SVV\n"
          ]
        },
        {
          "output_type": "stream",
          "name": "stderr",
          "text": [
            "\n",
            "[*********************100%%**********************]  1 of 1 completed"
          ]
        },
        {
          "output_type": "stream",
          "name": "stdout",
          "text": [
            "77 KGS\n"
          ]
        },
        {
          "output_type": "stream",
          "name": "stderr",
          "text": [
            "\n",
            "[*********************100%%**********************]  1 of 1 completed"
          ]
        },
        {
          "output_type": "stream",
          "name": "stdout",
          "text": [
            "78 FIHL\n"
          ]
        },
        {
          "output_type": "stream",
          "name": "stderr",
          "text": [
            "\n",
            "[*********************100%%**********************]  1 of 1 completed\n"
          ]
        },
        {
          "output_type": "stream",
          "name": "stdout",
          "text": [
            "79 GENK\n"
          ]
        },
        {
          "output_type": "stream",
          "name": "stderr",
          "text": [
            "\r[*********************100%%**********************]  1 of 1 completed"
          ]
        },
        {
          "output_type": "stream",
          "name": "stdout",
          "text": [
            "80 BUJA\n"
          ]
        },
        {
          "output_type": "stream",
          "name": "stderr",
          "text": [
            "\n",
            "[*********************100%%**********************]  1 of 1 completed"
          ]
        },
        {
          "output_type": "stream",
          "name": "stdout",
          "text": [
            "81 BOF\n"
          ]
        },
        {
          "output_type": "stream",
          "name": "stderr",
          "text": [
            "\n",
            "[*********************100%%**********************]  1 of 1 completed\n",
            "[*********************100%%**********************]  1 of 1 completed"
          ]
        },
        {
          "output_type": "stream",
          "name": "stdout",
          "text": [
            "82 AZTR\n",
            "83 CAVA\n",
            "84 ESHA\n"
          ]
        },
        {
          "output_type": "stream",
          "name": "stderr",
          "text": [
            "\n",
            "[*********************100%%**********************]  1 of 1 completed\n",
            "[*********************100%%**********************]  1 of 1 completed"
          ]
        },
        {
          "output_type": "stream",
          "name": "stdout",
          "text": [
            "85 ATMU\n"
          ]
        },
        {
          "output_type": "stream",
          "name": "stderr",
          "text": [
            "\n"
          ]
        },
        {
          "output_type": "stream",
          "name": "stdout",
          "text": [
            "86 ATS\n"
          ]
        },
        {
          "output_type": "stream",
          "name": "stderr",
          "text": [
            "[*********************100%%**********************]  1 of 1 completed\n",
            "[*********************100%%**********************]  1 of 1 completed"
          ]
        },
        {
          "output_type": "stream",
          "name": "stdout",
          "text": [
            "87 IPXX\n"
          ]
        },
        {
          "output_type": "stream",
          "name": "stderr",
          "text": [
            "\n",
            "[*********************100%%**********************]  1 of 1 completed\n",
            "[*********************100%%**********************]  1 of 1 completed"
          ]
        },
        {
          "output_type": "stream",
          "name": "stdout",
          "text": [
            "88 CWD\n",
            "89 SGE\n",
            "90 SLRN\n"
          ]
        },
        {
          "output_type": "stream",
          "name": "stderr",
          "text": [
            "\n",
            "[*********************100%%**********************]  1 of 1 completed\n",
            "[*********************100%%**********************]  1 of 1 completed\n"
          ]
        },
        {
          "output_type": "stream",
          "name": "stdout",
          "text": [
            "91 ALCY\n",
            "92 KVUE\n"
          ]
        },
        {
          "output_type": "stream",
          "name": "stderr",
          "text": [
            "[*********************100%%**********************]  1 of 1 completed\n",
            "[*********************100%%**********************]  1 of 1 completed"
          ]
        },
        {
          "output_type": "stream",
          "name": "stdout",
          "text": [
            "93 GODN\n"
          ]
        },
        {
          "output_type": "stream",
          "name": "stderr",
          "text": [
            "\n",
            "[*********************100%%**********************]  1 of 1 completed"
          ]
        },
        {
          "output_type": "stream",
          "name": "stdout",
          "text": [
            "94 TRNR\n"
          ]
        },
        {
          "output_type": "stream",
          "name": "stderr",
          "text": [
            "\n",
            "[*********************100%%**********************]  1 of 1 completed"
          ]
        },
        {
          "output_type": "stream",
          "name": "stdout",
          "text": [
            "95 AACT\n"
          ]
        },
        {
          "output_type": "stream",
          "name": "stderr",
          "text": [
            "\n",
            "[*********************100%%**********************]  1 of 1 completed"
          ]
        },
        {
          "output_type": "stream",
          "name": "stdout",
          "text": [
            "96 JYD\n"
          ]
        },
        {
          "output_type": "stream",
          "name": "stderr",
          "text": [
            "\n"
          ]
        },
        {
          "output_type": "stream",
          "name": "stdout",
          "text": [
            "97 USGO\n"
          ]
        },
        {
          "output_type": "stream",
          "name": "stderr",
          "text": [
            "[*********************100%%**********************]  1 of 1 completed\n",
            "[*********************100%%**********************]  1 of 1 completed"
          ]
        },
        {
          "output_type": "stream",
          "name": "stdout",
          "text": [
            "98 UCAR\n"
          ]
        },
        {
          "output_type": "stream",
          "name": "stderr",
          "text": [
            "\n",
            "[*********************100%%**********************]  1 of 1 completed"
          ]
        },
        {
          "output_type": "stream",
          "name": "stdout",
          "text": [
            "99 WLGS\n"
          ]
        },
        {
          "output_type": "stream",
          "name": "stderr",
          "text": [
            "\n",
            "[*********************100%%**********************]  1 of 1 completed"
          ]
        },
        {
          "output_type": "stream",
          "name": "stdout",
          "text": [
            "100 TPET\n"
          ]
        },
        {
          "output_type": "stream",
          "name": "stderr",
          "text": [
            "\n",
            "[*********************100%%**********************]  1 of 1 completed"
          ]
        },
        {
          "output_type": "stream",
          "name": "stdout",
          "text": [
            "101 TCJH\n"
          ]
        },
        {
          "output_type": "stream",
          "name": "stderr",
          "text": [
            "\n",
            "[*********************100%%**********************]  1 of 1 completed"
          ]
        },
        {
          "output_type": "stream",
          "name": "stdout",
          "text": [
            "102 GDTC\n",
            "103 VCIG\n"
          ]
        },
        {
          "output_type": "stream",
          "name": "stderr",
          "text": [
            "\n",
            "[*********************100%%**********************]  1 of 1 completed\n",
            "[*********************100%%**********************]  1 of 1 completed"
          ]
        },
        {
          "output_type": "stream",
          "name": "stdout",
          "text": [
            "104 GDHG\n"
          ]
        },
        {
          "output_type": "stream",
          "name": "stderr",
          "text": [
            "\n"
          ]
        },
        {
          "output_type": "stream",
          "name": "stdout",
          "text": [
            "105 ARBB\n"
          ]
        },
        {
          "output_type": "stream",
          "name": "stderr",
          "text": [
            "[*********************100%%**********************]  1 of 1 completed\n",
            "[*********************100%%**********************]  1 of 1 completed"
          ]
        },
        {
          "output_type": "stream",
          "name": "stdout",
          "text": [
            "106 ISPR\n"
          ]
        },
        {
          "output_type": "stream",
          "name": "stderr",
          "text": [
            "\n",
            "[*********************100%%**********************]  1 of 1 completed"
          ]
        },
        {
          "output_type": "stream",
          "name": "stdout",
          "text": [
            "107 MGIH\n"
          ]
        },
        {
          "output_type": "stream",
          "name": "stderr",
          "text": [
            "\n",
            "[*********************100%%**********************]  1 of 1 completed"
          ]
        },
        {
          "output_type": "stream",
          "name": "stdout",
          "text": [
            "108 MWG\n"
          ]
        },
        {
          "output_type": "stream",
          "name": "stderr",
          "text": [
            "\n",
            "[*********************100%%**********************]  1 of 1 completed"
          ]
        },
        {
          "output_type": "stream",
          "name": "stdout",
          "text": [
            "109 HSHP\n"
          ]
        },
        {
          "output_type": "stream",
          "name": "stderr",
          "text": [
            "\n",
            "[*********************100%%**********************]  1 of 1 completed"
          ]
        },
        {
          "output_type": "stream",
          "name": "stdout",
          "text": [
            "110 SFWL\n"
          ]
        },
        {
          "output_type": "stream",
          "name": "stderr",
          "text": [
            "\n",
            "[*********************100%%**********************]  1 of 1 completed"
          ]
        },
        {
          "output_type": "stream",
          "name": "stdout",
          "text": [
            "111 SYT\n"
          ]
        },
        {
          "output_type": "stream",
          "name": "stderr",
          "text": [
            "\n",
            "[*********************100%%**********************]  1 of 1 completed"
          ]
        },
        {
          "output_type": "stream",
          "name": "stdout",
          "text": [
            "112 HKIT\n"
          ]
        },
        {
          "output_type": "stream",
          "name": "stderr",
          "text": [
            "\n",
            "[*********************100%%**********************]  1 of 1 completed"
          ]
        },
        {
          "output_type": "stream",
          "name": "stdout",
          "text": [
            "113 CHSN\n"
          ]
        },
        {
          "output_type": "stream",
          "name": "stderr",
          "text": [
            "\n",
            "[*********************100%%**********************]  1 of 1 completed"
          ]
        },
        {
          "output_type": "stream",
          "name": "stdout",
          "text": [
            "114 TBMC\n"
          ]
        },
        {
          "output_type": "stream",
          "name": "stderr",
          "text": [
            "\n"
          ]
        },
        {
          "output_type": "stream",
          "name": "stdout",
          "text": [
            "115 HLP\n"
          ]
        },
        {
          "output_type": "stream",
          "name": "stderr",
          "text": [
            "[*********************100%%**********************]  1 of 1 completed\n",
            "[*********************100%%**********************]  1 of 1 completed"
          ]
        },
        {
          "output_type": "stream",
          "name": "stdout",
          "text": [
            "116 ZJYL\n"
          ]
        },
        {
          "output_type": "stream",
          "name": "stderr",
          "text": [
            "\n",
            "[*********************100%%**********************]  1 of 1 completed"
          ]
        },
        {
          "output_type": "stream",
          "name": "stdout",
          "text": [
            "117 TMTC\n"
          ]
        },
        {
          "output_type": "stream",
          "name": "stderr",
          "text": [
            "\n",
            "[*********************100%%**********************]  1 of 1 completed\n",
            "[*********************100%%**********************]  1 of 1 completed\n"
          ]
        },
        {
          "output_type": "stream",
          "name": "stdout",
          "text": [
            "118 YGFGF\n",
            "119 OAKU\n",
            "120 BANL\n"
          ]
        },
        {
          "output_type": "stream",
          "name": "stderr",
          "text": [
            "[*********************100%%**********************]  1 of 1 completed\n",
            "[*********************100%%**********************]  1 of 1 completed"
          ]
        },
        {
          "output_type": "stream",
          "name": "stdout",
          "text": [
            "121 OMH\n"
          ]
        },
        {
          "output_type": "stream",
          "name": "stderr",
          "text": [
            "\n",
            "[*********************100%%**********************]  1 of 1 completed"
          ]
        },
        {
          "output_type": "stream",
          "name": "stdout",
          "text": [
            "122 MGRX\n"
          ]
        },
        {
          "output_type": "stream",
          "name": "stderr",
          "text": [
            "\n",
            "[*********************100%%**********************]  1 of 1 completed"
          ]
        },
        {
          "output_type": "stream",
          "name": "stdout",
          "text": [
            "123 FORL\n"
          ]
        },
        {
          "output_type": "stream",
          "name": "stderr",
          "text": [
            "\n",
            "[*********************100%%**********************]  1 of 1 completed"
          ]
        },
        {
          "output_type": "stream",
          "name": "stdout",
          "text": [
            "124 ICG\n"
          ]
        },
        {
          "output_type": "stream",
          "name": "stderr",
          "text": [
            "\n",
            "[*********************100%%**********************]  1 of 1 completed"
          ]
        },
        {
          "output_type": "stream",
          "name": "stdout",
          "text": [
            "125 IZM\n"
          ]
        },
        {
          "output_type": "stream",
          "name": "stderr",
          "text": [
            "\n",
            "[*********************100%%**********************]  1 of 1 completed"
          ]
        },
        {
          "output_type": "stream",
          "name": "stdout",
          "text": [
            "126 AESI\n"
          ]
        },
        {
          "output_type": "stream",
          "name": "stderr",
          "text": [
            "\n",
            "[*********************100%%**********************]  1 of 1 completed"
          ]
        },
        {
          "output_type": "stream",
          "name": "stdout",
          "text": [
            "127 AIXI\n"
          ]
        },
        {
          "output_type": "stream",
          "name": "stderr",
          "text": [
            "\n",
            "[*********************100%%**********************]  1 of 1 completed"
          ]
        },
        {
          "output_type": "stream",
          "name": "stdout",
          "text": [
            "128 SBXC\n"
          ]
        },
        {
          "output_type": "stream",
          "name": "stderr",
          "text": [
            "\n",
            "[*********************100%%**********************]  1 of 1 completed"
          ]
        },
        {
          "output_type": "stream",
          "name": "stdout",
          "text": [
            "129 BMR\n",
            "130 DIST\n"
          ]
        },
        {
          "output_type": "stream",
          "name": "stderr",
          "text": [
            "\n",
            "[*********************100%%**********************]  1 of 1 completed\n",
            "[*********************100%%**********************]  1 of 1 completed"
          ]
        },
        {
          "output_type": "stream",
          "name": "stdout",
          "text": [
            "131 GXAI\n"
          ]
        },
        {
          "output_type": "stream",
          "name": "stderr",
          "text": [
            "\n",
            "[*********************100%%**********************]  1 of 1 completed"
          ]
        },
        {
          "output_type": "stream",
          "name": "stdout",
          "text": [
            "132 MARX\n"
          ]
        },
        {
          "output_type": "stream",
          "name": "stderr",
          "text": [
            "\n",
            "[*********************100%%**********************]  1 of 1 completed"
          ]
        },
        {
          "output_type": "stream",
          "name": "stdout",
          "text": [
            "133 BFRG\n"
          ]
        },
        {
          "output_type": "stream",
          "name": "stderr",
          "text": [
            "\n",
            "[*********************100%%**********************]  1 of 1 completed"
          ]
        },
        {
          "output_type": "stream",
          "name": "stdout",
          "text": [
            "134 ENLT\n",
            "135 MLYS\n"
          ]
        },
        {
          "output_type": "stream",
          "name": "stderr",
          "text": [
            "\n",
            "[*********************100%%**********************]  1 of 1 completed\n",
            "[*********************100%%**********************]  1 of 1 completed"
          ]
        },
        {
          "output_type": "stream",
          "name": "stdout",
          "text": [
            "136 HOVR\n",
            "137 "
          ]
        },
        {
          "output_type": "stream",
          "name": "stderr",
          "text": [
            "\n",
            "[*********************100%%**********************]  1 of 1 completed"
          ]
        },
        {
          "output_type": "stream",
          "name": "stdout",
          "text": [
            "BLAC\n"
          ]
        },
        {
          "output_type": "stream",
          "name": "stderr",
          "text": [
            "\n",
            "[*********************100%%**********************]  1 of 1 completed"
          ]
        },
        {
          "output_type": "stream",
          "name": "stdout",
          "text": [
            "138 NXT\n"
          ]
        },
        {
          "output_type": "stream",
          "name": "stderr",
          "text": [
            "\n",
            "[*********************100%%**********************]  1 of 1 completed"
          ]
        },
        {
          "output_type": "stream",
          "name": "stdout",
          "text": [
            "139 HSAI\n"
          ]
        },
        {
          "output_type": "stream",
          "name": "stderr",
          "text": [
            "\n",
            "[*********************100%%**********************]  1 of 1 completed\n",
            "[*********************100%%**********************]  1 of 1 completed\n"
          ]
        },
        {
          "output_type": "stream",
          "name": "stdout",
          "text": [
            "140 LSDI\n",
            "141 LICN\n"
          ]
        },
        {
          "output_type": "stream",
          "name": "stderr",
          "text": [
            "\r[*********************100%%**********************]  1 of 1 completed"
          ]
        },
        {
          "output_type": "stream",
          "name": "stdout",
          "text": [
            "142 GPCR\n"
          ]
        },
        {
          "output_type": "stream",
          "name": "stderr",
          "text": [
            "\n",
            "[*********************100%%**********************]  1 of 1 completed"
          ]
        },
        {
          "output_type": "stream",
          "name": "stdout",
          "text": [
            "143 ASST\n"
          ]
        },
        {
          "output_type": "stream",
          "name": "stderr",
          "text": [
            "\n",
            "[*********************100%%**********************]  1 of 1 completed\n"
          ]
        },
        {
          "output_type": "stream",
          "name": "stdout",
          "text": [
            "144 CETU\n",
            "145 TXO\n"
          ]
        },
        {
          "output_type": "stream",
          "name": "stderr",
          "text": [
            "[*********************100%%**********************]  1 of 1 completed\n",
            "[*********************100%%**********************]  1 of 1 completed"
          ]
        },
        {
          "output_type": "stream",
          "name": "stdout",
          "text": [
            "146 BREA\n"
          ]
        },
        {
          "output_type": "stream",
          "name": "stderr",
          "text": [
            "\n",
            "[*********************100%%**********************]  1 of 1 completed"
          ]
        },
        {
          "output_type": "stream",
          "name": "stdout",
          "text": [
            "147 GNLX\n"
          ]
        },
        {
          "output_type": "stream",
          "name": "stderr",
          "text": [
            "\n",
            "[*********************100%%**********************]  1 of 1 completed"
          ]
        },
        {
          "output_type": "stream",
          "name": "stdout",
          "text": [
            "148 QSG\n"
          ]
        },
        {
          "output_type": "stream",
          "name": "stderr",
          "text": [
            "\n",
            "[*********************100%%**********************]  1 of 1 completed"
          ]
        },
        {
          "output_type": "stream",
          "name": "stdout",
          "text": [
            "149 CVKD\n"
          ]
        },
        {
          "output_type": "stream",
          "name": "stderr",
          "text": [
            "\n",
            "[*********************100%%**********************]  1 of 1 completed"
          ]
        },
        {
          "output_type": "stream",
          "name": "stdout",
          "text": [
            "150 SKWD\n"
          ]
        },
        {
          "output_type": "stream",
          "name": "stderr",
          "text": [
            "\n",
            "[*********************100%%**********************]  1 of 1 completed"
          ]
        },
        {
          "output_type": "stream",
          "name": "stdout",
          "text": [
            "151 ISRL\n"
          ]
        },
        {
          "output_type": "stream",
          "name": "stderr",
          "text": [
            "\n",
            "[*********************100%%**********************]  1 of 1 completed"
          ]
        },
        {
          "output_type": "stream",
          "name": "stdout",
          "text": [
            "152 MGOL\n"
          ]
        },
        {
          "output_type": "stream",
          "name": "stderr",
          "text": [
            "\n",
            "[*********************100%%**********************]  1 of 1 completed"
          ]
        },
        {
          "output_type": "stream",
          "name": "stdout",
          "text": [
            "153 SMXT\n"
          ]
        },
        {
          "output_type": "stream",
          "name": "stderr",
          "text": [
            "\n",
            "[*********************100%%**********************]  1 of 1 completed"
          ]
        },
        {
          "output_type": "stream",
          "name": "stdout",
          "text": [
            "154 VHAI\n"
          ]
        },
        {
          "output_type": "stream",
          "name": "stderr",
          "text": [
            "\n"
          ]
        },
        {
          "output_type": "stream",
          "name": "stdout",
          "text": [
            "155 DYCQ\n"
          ]
        },
        {
          "output_type": "stream",
          "name": "stderr",
          "text": [
            "\r[*********************100%%**********************]  1 of 1 completed\n",
            "ERROR:yfinance:\n",
            "1 Failed download:\n",
            "ERROR:yfinance:['DYCQ']: Exception(\"%ticker%: Data doesn't exist for startDate = -1406937600, endDate = 1709269200\")\n",
            "[*********************100%%**********************]  1 of 1 completed\n"
          ]
        },
        {
          "output_type": "stream",
          "name": "stdout",
          "text": [
            "Error fetching data for ticker DYCQ: 'Index' object has no attribute 'date'\n",
            "156 CHRO\n",
            "157 UMAC\n"
          ]
        },
        {
          "output_type": "stream",
          "name": "stderr",
          "text": [
            "[*********************100%%**********************]  1 of 1 completed\n",
            "[*********************100%%**********************]  1 of 1 completed"
          ]
        },
        {
          "output_type": "stream",
          "name": "stdout",
          "text": [
            "158 TBBB\n"
          ]
        },
        {
          "output_type": "stream",
          "name": "stderr",
          "text": [
            "\n"
          ]
        },
        {
          "output_type": "stream",
          "name": "stdout",
          "text": [
            "159 MGX\n"
          ]
        },
        {
          "output_type": "stream",
          "name": "stderr",
          "text": [
            "[*********************100%%**********************]  1 of 1 completed\n",
            "[*********************100%%**********************]  1 of 1 completed"
          ]
        },
        {
          "output_type": "stream",
          "name": "stdout",
          "text": [
            "160 HLXB\n",
            "161 TELO\n"
          ]
        },
        {
          "output_type": "stream",
          "name": "stderr",
          "text": [
            "\n",
            "[*********************100%%**********************]  1 of 1 completed\n",
            "[*********************100%%**********************]  1 of 1 completed\n"
          ]
        },
        {
          "output_type": "stream",
          "name": "stdout",
          "text": [
            "162 KYTX\n",
            "163 PMNT\n"
          ]
        },
        {
          "output_type": "stream",
          "name": "stderr",
          "text": [
            "[*********************100%%**********************]  1 of 1 completed\n",
            "[*********************100%%**********************]  1 of 1 completed\n"
          ]
        },
        {
          "output_type": "stream",
          "name": "stdout",
          "text": [
            "164 AHR\n",
            "165 LEGT\n"
          ]
        },
        {
          "output_type": "stream",
          "name": "stderr",
          "text": [
            "\r[*********************100%%**********************]  1 of 1 completed\n",
            "ERROR:yfinance:\n",
            "1 Failed download:\n",
            "ERROR:yfinance:['LEGT']: Exception(\"%ticker%: Data doesn't exist for startDate = -1406937600, endDate = 1709269200\")\n",
            "[*********************100%%**********************]  1 of 1 completed\n"
          ]
        },
        {
          "output_type": "stream",
          "name": "stdout",
          "text": [
            "Error fetching data for ticker LEGT: 'Index' object has no attribute 'date'\n",
            "166 ANRO\n"
          ]
        },
        {
          "output_type": "stream",
          "name": "stderr",
          "text": [
            "\r[*********************100%%**********************]  1 of 1 completed"
          ]
        },
        {
          "output_type": "stream",
          "name": "stdout",
          "text": [
            "167 GUTS\n",
            "168 AS\n"
          ]
        },
        {
          "output_type": "stream",
          "name": "stderr",
          "text": [
            "\n",
            "[*********************100%%**********************]  1 of 1 completed\n",
            "[*********************100%%**********************]  1 of 1 completed"
          ]
        },
        {
          "output_type": "stream",
          "name": "stdout",
          "text": [
            "169 FBLG\n"
          ]
        },
        {
          "output_type": "stream",
          "name": "stderr",
          "text": [
            "\n",
            "[*********************100%%**********************]  1 of 1 completed"
          ]
        },
        {
          "output_type": "stream",
          "name": "stdout",
          "text": [
            "170 BTSG\n"
          ]
        },
        {
          "output_type": "stream",
          "name": "stderr",
          "text": [
            "\n",
            "[*********************100%%**********************]  1 of 1 completed"
          ]
        },
        {
          "output_type": "stream",
          "name": "stdout",
          "text": [
            "171 AVBP\n"
          ]
        },
        {
          "output_type": "stream",
          "name": "stderr",
          "text": [
            "\n",
            "[*********************100%%**********************]  1 of 1 completed"
          ]
        },
        {
          "output_type": "stream",
          "name": "stdout",
          "text": [
            "172 HAO\n"
          ]
        },
        {
          "output_type": "stream",
          "name": "stderr",
          "text": [
            "\n",
            "[*********************100%%**********************]  1 of 1 completed"
          ]
        },
        {
          "output_type": "stream",
          "name": "stdout",
          "text": [
            "173 CGON\n"
          ]
        },
        {
          "output_type": "stream",
          "name": "stderr",
          "text": [
            "\n",
            "[*********************100%%**********************]  1 of 1 completed"
          ]
        },
        {
          "output_type": "stream",
          "name": "stdout",
          "text": [
            "174 YIBO\n"
          ]
        },
        {
          "output_type": "stream",
          "name": "stderr",
          "text": [
            "\n",
            "[*********************100%%**********************]  1 of 1 completed"
          ]
        },
        {
          "output_type": "stream",
          "name": "stdout",
          "text": [
            "175 SUGP\n"
          ]
        },
        {
          "output_type": "stream",
          "name": "stderr",
          "text": [
            "\n",
            "[*********************100%%**********************]  1 of 1 completed"
          ]
        },
        {
          "output_type": "stream",
          "name": "stdout",
          "text": [
            "176 JL\n"
          ]
        },
        {
          "output_type": "stream",
          "name": "stderr",
          "text": [
            "\n",
            "[*********************100%%**********************]  1 of 1 completed"
          ]
        },
        {
          "output_type": "stream",
          "name": "stdout",
          "text": [
            "177 KSPI\n"
          ]
        },
        {
          "output_type": "stream",
          "name": "stderr",
          "text": [
            "\n"
          ]
        },
        {
          "output_type": "stream",
          "name": "stdout",
          "text": [
            "178 JVSA\n"
          ]
        },
        {
          "output_type": "stream",
          "name": "stderr",
          "text": [
            "\r[*********************100%%**********************]  1 of 1 completed\n",
            "ERROR:yfinance:\n",
            "1 Failed download:\n",
            "ERROR:yfinance:['JVSA']: Exception(\"%ticker%: Data doesn't exist for startDate = -1406937600, endDate = 1709269200\")\n"
          ]
        },
        {
          "output_type": "stream",
          "name": "stdout",
          "text": [
            "Error fetching data for ticker JVSA: 'Index' object has no attribute 'date'\n",
            "179 PSBD\n"
          ]
        },
        {
          "output_type": "stream",
          "name": "stderr",
          "text": [
            "\r[*********************100%%**********************]  1 of 1 completed\n"
          ]
        },
        {
          "output_type": "stream",
          "name": "stdout",
          "text": [
            "180 CCTG\n"
          ]
        },
        {
          "output_type": "stream",
          "name": "stderr",
          "text": [
            "[*********************100%%**********************]  1 of 1 completed\n",
            "[*********************100%%**********************]  1 of 1 completed"
          ]
        },
        {
          "output_type": "stream",
          "name": "stdout",
          "text": [
            "181 SYNX\n"
          ]
        },
        {
          "output_type": "stream",
          "name": "stderr",
          "text": [
            "\n",
            "[*********************100%%**********************]  1 of 1 completed"
          ]
        },
        {
          "output_type": "stream",
          "name": "stdout",
          "text": [
            "182 SDHC\n"
          ]
        },
        {
          "output_type": "stream",
          "name": "stderr",
          "text": [
            "\n"
          ]
        },
        {
          "output_type": "stream",
          "name": "stdout",
          "text": [
            "183 ROMA\n"
          ]
        },
        {
          "output_type": "stream",
          "name": "stderr",
          "text": [
            "\r[*********************100%%**********************]  1 of 1 completed\n"
          ]
        },
        {
          "output_type": "execute_result",
          "data": {
            "text/plain": [
              "('growth_future_28d', 1.0272727446122603)"
            ]
          },
          "metadata": {},
          "execution_count": 39
        }
      ]
    },
    {
      "cell_type": "markdown",
      "source": [
        "# Question 3: Is Growth Concentrated in the Largest Stocks?\n",
        "Get the share of days (percentage as int) when Large Stocks outperform (growth_7d - growth over 7 periods back) the Largest stocks?\n",
        "\n",
        "Reuse [Code Snippet 5] to obtain OHLCV stats for 33 stocks for 10 full years of data (2014-01-01 to 2023-12-31). You'll need to download slightly more data (7 periods before 2014-01-01 to calculate the growth_7d for the first 6 days correctly):\n",
        "\n",
        "US_STOCKS = ['MSFT', 'AAPL', 'GOOG', 'NVDA', 'AMZN', 'META', 'BRK-B', 'LLY', 'AVGO','V', 'JPM']\n",
        "\n",
        "EU_STOCKS = ['NVO','MC.PA', 'ASML', 'RMS.PA', 'OR.PA', 'SAP', 'ACN', 'TTE', 'SIE.DE','IDEXY','CDI.PA']\n",
        "\n",
        "INDIA_STOCKS = ['RELIANCE.NS','TCS.NS','HDB','BHARTIARTL.NS','IBN','SBIN.NS','LICI.NS','INFY','ITC.NS','HINDUNILVR.NS','LT.NS']\n",
        "\n",
        "LARGEST_STOCKS = US_STOCKS + EU_STOCKS + INDIA_STOCKS\n",
        "\n",
        "Now let's add the top 12-22 stocks (as of end-April 2024):\n",
        "\n",
        "NEW_US = ['TSLA','WMT','XOM','UNH','MA','PG','JNJ','MRK','HD','COST','ORCL']\n",
        "\n",
        "NEW_EU = ['PRX.AS','CDI.PA','AIR.PA','SU.PA','ETN','SNY','BUD','DTE.DE','ALV.DE','MDT','AI.PA','EL.PA']\n",
        "\n",
        "NEW_INDIA = ['BAJFINANCE.NS','MARUTI.NS','HCLTECH.NS','TATAMOTORS.NS','SUNPHARMA.NS','ONGC.NS','ADANIENT.NS','ADANIENT.NS','NTPC.NS','KOTAKBANK.NS','TITAN.NS']\n",
        "\n",
        "LARGE_STOCKS = NEW_EU + NEW_US + NEW_INDIA\n",
        "\n",
        "You should be able to obtain stats for 33 LARGEST STOCKS and 32 LARGE STOCKS (from the actual stats on Yahoo Finance)\n",
        "\n",
        "Calculate growth_7d for every stock and every day. Get the average daily growth_7d for the LARGEST_STOCKS group vs. the LARGE_STOCKS group.\n",
        "\n",
        "For example, for the first of data you should have:\n",
        "\n",
        "Date\tticker_category\tgrowth_7d\n",
        "2014-01-01\tLARGE\t1.011684\n",
        "2014-01-01\tLARGEST\t1.011797\n",
        "On that day, the LARGEST group was growing faster than LARGE one (new stocks).\n",
        "\n",
        "Calculate the number of days when the LARGE GROUP (new smaller stocks) outperforms the LARGEST GROUP, divide it by the total number of trading days (which should be 2595 days), and convert it to a percentage (closest INTEGER value). For example, if you find that 1700 out of 2595 days meet this condition, it means that 1700/2595 = 0.655, or approximately 66% of days, the LARGE stocks were growing faster than the LARGEST ones. This suggests that you should consider extending your dataset with more stocks to seek higher growth.\n",
        "\n",
        "HINT: you can use pandas.pivot_table() to \"flatten\" the table (LARGE and LARGEST growth_7d as columns)"
      ],
      "metadata": {
        "id": "JQiD8BrKXxx0"
      }
    },
    {
      "cell_type": "code",
      "source": [
        "US_STOCKS = ['MSFT', 'AAPL', 'GOOG', 'NVDA', 'AMZN', 'META', 'BRK-B', 'LLY', 'AVGO','V', 'JPM']\n",
        "\n",
        "EU_STOCKS = ['NVO','MC.PA', 'ASML', 'RMS.PA', 'OR.PA', 'SAP', 'ACN', 'TTE', 'SIE.DE','IDEXY','CDI.PA']\n",
        "\n",
        "INDIA_STOCKS = ['RELIANCE.NS','TCS.NS','HDB','BHARTIARTL.NS','IBN','SBIN.NS','LICI.NS','INFY','ITC.NS','HINDUNILVR.NS','LT.NS']\n",
        "\n",
        "LARGEST_STOCKS = US_STOCKS + EU_STOCKS + INDIA_STOCKS\n",
        "\n",
        "NEW_US = ['TSLA','WMT','XOM','UNH','MA','PG','JNJ','MRK','HD','COST','ORCL']\n",
        "\n",
        "NEW_EU = ['PRX.AS','CDI.PA','AIR.PA','SU.PA','ETN','SNY','BUD','DTE.DE','ALV.DE','MDT','AI.PA','EL.PA']\n",
        "\n",
        "NEW_INDIA = ['BAJFINANCE.NS','MARUTI.NS','HCLTECH.NS','TATAMOTORS.NS','SUNPHARMA.NS','ONGC.NS','ADANIENT.NS','ADANIENT.NS','NTPC.NS','KOTAKBANK.NS','TITAN.NS']\n",
        "\n",
        "LARGE_STOCKS = NEW_EU + NEW_US + NEW_INDIA"
      ],
      "metadata": {
        "id": "1T9NfqitXwsi"
      },
      "execution_count": 40,
      "outputs": []
    },
    {
      "cell_type": "code",
      "source": [
        "# Define start and end dates\n",
        "start_date = \"2013-12-25\"  # 7 periods before 2014-01-01\n",
        "end_date = \"2023-12-31\"\n",
        "\n",
        "# Function to calculate growth_7d\n",
        "def calculate_growth_7d(data):\n",
        "    return data.shift(-7) / data"
      ],
      "metadata": {
        "id": "MVoK0822YGkF"
      },
      "execution_count": 41,
      "outputs": []
    },
    {
      "cell_type": "code",
      "source": [
        "# Fetch OHLCV data for LARGEST_STOCKS and LARGE_STOCKS\n",
        "largest_stocks_data = yf.download(LARGEST_STOCKS, start=start_date, end=end_date)[\"Adj Close\"]\n",
        "large_stocks_data = yf.download(LARGE_STOCKS, start=start_date, end=end_date)[\"Adj Close\"]\n",
        "# Convert date columns to consistent format\n",
        "largest_stocks_data.index = pd.to_datetime(largest_stocks_data.index)\n",
        "large_stocks_data.index = pd.to_datetime(large_stocks_data.index)"
      ],
      "metadata": {
        "colab": {
          "base_uri": "https://localhost:8080/"
        },
        "id": "k7jBfzegYL8T",
        "outputId": "5401e199-313d-4de9-dd9f-cdea808f740a"
      },
      "execution_count": 64,
      "outputs": [
        {
          "output_type": "stream",
          "name": "stderr",
          "text": [
            "[*********************100%%**********************]  33 of 33 completed\n",
            "[*********************100%%**********************]  33 of 33 completed\n"
          ]
        }
      ]
    },
    {
      "cell_type": "code",
      "source": [
        "# Calculate growth_7d for each group\n",
        "largest_stocks_growth_7d = largest_stocks_data.apply(calculate_growth_7d)\n",
        "large_stocks_growth_7d = large_stocks_data.apply(calculate_growth_7d)"
      ],
      "metadata": {
        "id": "1djiN6akYV26"
      },
      "execution_count": 65,
      "outputs": []
    },
    {
      "cell_type": "code",
      "source": [
        "large_stocks_growth_7d"
      ],
      "metadata": {
        "colab": {
          "base_uri": "https://localhost:8080/",
          "height": 649
        },
        "id": "A1EAlrqbbVBO",
        "outputId": "a9268883-c829-4a89-b676-392b5b2c7c2c"
      },
      "execution_count": 66,
      "outputs": [
        {
          "output_type": "execute_result",
          "data": {
            "text/plain": [
              "Ticker      ADANIENT.NS     AI.PA    AIR.PA    ALV.DE  BAJFINANCE.NS  \\\n",
              "Date                                                                   \n",
              "2013-12-26     0.934211       NaN       NaN       NaN       1.021666   \n",
              "2013-12-27     0.887890  0.961236  0.994132  0.994648       1.019116   \n",
              "2013-12-30     0.901972  0.966911  0.993181  0.992712       0.999679   \n",
              "2013-12-31     0.935428  0.955447  0.980290       NaN       0.980459   \n",
              "2014-01-01     0.896558       NaN       NaN       NaN       0.993791   \n",
              "...                 ...       ...       ...       ...            ...   \n",
              "2023-12-22          NaN       NaN       NaN       NaN            NaN   \n",
              "2023-12-26          NaN       NaN       NaN       NaN            NaN   \n",
              "2023-12-27          NaN       NaN       NaN       NaN            NaN   \n",
              "2023-12-28          NaN       NaN       NaN       NaN            NaN   \n",
              "2023-12-29          NaN       NaN       NaN       NaN            NaN   \n",
              "\n",
              "Ticker           BUD    CDI.PA      COST    DTE.DE     EL.PA  ...  PRX.AS  \\\n",
              "Date                                                          ...           \n",
              "2013-12-26  0.976014       NaN  0.981202       NaN       NaN  ...     NaN   \n",
              "2013-12-27  0.985288  0.975610  0.977474  0.972222  1.015209  ...     NaN   \n",
              "2013-12-30  0.995919  0.959445  0.960259  0.983508  1.056552  ...     NaN   \n",
              "2013-12-31  0.985628  0.927193  0.995715       NaN  1.064829  ...     NaN   \n",
              "2014-01-01       NaN       NaN       NaN       NaN       NaN  ...     NaN   \n",
              "...              ...       ...       ...       ...       ...  ...     ...   \n",
              "2023-12-22       NaN       NaN       NaN       NaN       NaN  ...     NaN   \n",
              "2023-12-26       NaN       NaN       NaN       NaN       NaN  ...     NaN   \n",
              "2023-12-27       NaN       NaN       NaN       NaN       NaN  ...     NaN   \n",
              "2023-12-28       NaN       NaN       NaN       NaN       NaN  ...     NaN   \n",
              "2023-12-29       NaN       NaN       NaN       NaN       NaN  ...     NaN   \n",
              "\n",
              "Ticker           SNY     SU.PA  SUNPHARMA.NS  TATAMOTORS.NS  TITAN.NS  \\\n",
              "Date                                                                    \n",
              "2013-12-26  0.995214       NaN      1.032199       0.991087  0.990650   \n",
              "2013-12-27  0.983144  0.977729      1.031687       0.981716  0.985182   \n",
              "2013-12-30  0.965778  0.971136      1.055136       0.987860  0.972920   \n",
              "2013-12-31  0.947604  0.973344      1.069698       0.977550  0.975381   \n",
              "2014-01-01       NaN       NaN      1.064733       0.978797  0.954289   \n",
              "...              ...       ...           ...            ...       ...   \n",
              "2023-12-22       NaN       NaN           NaN            NaN       NaN   \n",
              "2023-12-26       NaN       NaN           NaN            NaN       NaN   \n",
              "2023-12-27       NaN       NaN           NaN            NaN       NaN   \n",
              "2023-12-28       NaN       NaN           NaN            NaN       NaN   \n",
              "2023-12-29       NaN       NaN           NaN            NaN       NaN   \n",
              "\n",
              "Ticker          TSLA       UNH       WMT       XOM  \n",
              "Date                                                \n",
              "2013-12-26  0.945338  0.991850  0.997704  0.987711  \n",
              "2013-12-27  0.988354  1.024367  0.999745  0.995665  \n",
              "2013-12-30  0.992390  1.011233  0.989825  1.004287  \n",
              "2013-12-31  0.980722  1.010359  0.992375  0.985771  \n",
              "2014-01-01       NaN       NaN       NaN       NaN  \n",
              "...              ...       ...       ...       ...  \n",
              "2023-12-22       NaN       NaN       NaN       NaN  \n",
              "2023-12-26       NaN       NaN       NaN       NaN  \n",
              "2023-12-27       NaN       NaN       NaN       NaN  \n",
              "2023-12-28       NaN       NaN       NaN       NaN  \n",
              "2023-12-29       NaN       NaN       NaN       NaN  \n",
              "\n",
              "[2599 rows x 33 columns]"
            ],
            "text/html": [
              "\n",
              "  <div id=\"df-1b14be0d-b73d-4d92-9672-5d1fa05a47f0\" class=\"colab-df-container\">\n",
              "    <div>\n",
              "<style scoped>\n",
              "    .dataframe tbody tr th:only-of-type {\n",
              "        vertical-align: middle;\n",
              "    }\n",
              "\n",
              "    .dataframe tbody tr th {\n",
              "        vertical-align: top;\n",
              "    }\n",
              "\n",
              "    .dataframe thead th {\n",
              "        text-align: right;\n",
              "    }\n",
              "</style>\n",
              "<table border=\"1\" class=\"dataframe\">\n",
              "  <thead>\n",
              "    <tr style=\"text-align: right;\">\n",
              "      <th>Ticker</th>\n",
              "      <th>ADANIENT.NS</th>\n",
              "      <th>AI.PA</th>\n",
              "      <th>AIR.PA</th>\n",
              "      <th>ALV.DE</th>\n",
              "      <th>BAJFINANCE.NS</th>\n",
              "      <th>BUD</th>\n",
              "      <th>CDI.PA</th>\n",
              "      <th>COST</th>\n",
              "      <th>DTE.DE</th>\n",
              "      <th>EL.PA</th>\n",
              "      <th>...</th>\n",
              "      <th>PRX.AS</th>\n",
              "      <th>SNY</th>\n",
              "      <th>SU.PA</th>\n",
              "      <th>SUNPHARMA.NS</th>\n",
              "      <th>TATAMOTORS.NS</th>\n",
              "      <th>TITAN.NS</th>\n",
              "      <th>TSLA</th>\n",
              "      <th>UNH</th>\n",
              "      <th>WMT</th>\n",
              "      <th>XOM</th>\n",
              "    </tr>\n",
              "    <tr>\n",
              "      <th>Date</th>\n",
              "      <th></th>\n",
              "      <th></th>\n",
              "      <th></th>\n",
              "      <th></th>\n",
              "      <th></th>\n",
              "      <th></th>\n",
              "      <th></th>\n",
              "      <th></th>\n",
              "      <th></th>\n",
              "      <th></th>\n",
              "      <th></th>\n",
              "      <th></th>\n",
              "      <th></th>\n",
              "      <th></th>\n",
              "      <th></th>\n",
              "      <th></th>\n",
              "      <th></th>\n",
              "      <th></th>\n",
              "      <th></th>\n",
              "      <th></th>\n",
              "      <th></th>\n",
              "    </tr>\n",
              "  </thead>\n",
              "  <tbody>\n",
              "    <tr>\n",
              "      <th>2013-12-26</th>\n",
              "      <td>0.934211</td>\n",
              "      <td>NaN</td>\n",
              "      <td>NaN</td>\n",
              "      <td>NaN</td>\n",
              "      <td>1.021666</td>\n",
              "      <td>0.976014</td>\n",
              "      <td>NaN</td>\n",
              "      <td>0.981202</td>\n",
              "      <td>NaN</td>\n",
              "      <td>NaN</td>\n",
              "      <td>...</td>\n",
              "      <td>NaN</td>\n",
              "      <td>0.995214</td>\n",
              "      <td>NaN</td>\n",
              "      <td>1.032199</td>\n",
              "      <td>0.991087</td>\n",
              "      <td>0.990650</td>\n",
              "      <td>0.945338</td>\n",
              "      <td>0.991850</td>\n",
              "      <td>0.997704</td>\n",
              "      <td>0.987711</td>\n",
              "    </tr>\n",
              "    <tr>\n",
              "      <th>2013-12-27</th>\n",
              "      <td>0.887890</td>\n",
              "      <td>0.961236</td>\n",
              "      <td>0.994132</td>\n",
              "      <td>0.994648</td>\n",
              "      <td>1.019116</td>\n",
              "      <td>0.985288</td>\n",
              "      <td>0.975610</td>\n",
              "      <td>0.977474</td>\n",
              "      <td>0.972222</td>\n",
              "      <td>1.015209</td>\n",
              "      <td>...</td>\n",
              "      <td>NaN</td>\n",
              "      <td>0.983144</td>\n",
              "      <td>0.977729</td>\n",
              "      <td>1.031687</td>\n",
              "      <td>0.981716</td>\n",
              "      <td>0.985182</td>\n",
              "      <td>0.988354</td>\n",
              "      <td>1.024367</td>\n",
              "      <td>0.999745</td>\n",
              "      <td>0.995665</td>\n",
              "    </tr>\n",
              "    <tr>\n",
              "      <th>2013-12-30</th>\n",
              "      <td>0.901972</td>\n",
              "      <td>0.966911</td>\n",
              "      <td>0.993181</td>\n",
              "      <td>0.992712</td>\n",
              "      <td>0.999679</td>\n",
              "      <td>0.995919</td>\n",
              "      <td>0.959445</td>\n",
              "      <td>0.960259</td>\n",
              "      <td>0.983508</td>\n",
              "      <td>1.056552</td>\n",
              "      <td>...</td>\n",
              "      <td>NaN</td>\n",
              "      <td>0.965778</td>\n",
              "      <td>0.971136</td>\n",
              "      <td>1.055136</td>\n",
              "      <td>0.987860</td>\n",
              "      <td>0.972920</td>\n",
              "      <td>0.992390</td>\n",
              "      <td>1.011233</td>\n",
              "      <td>0.989825</td>\n",
              "      <td>1.004287</td>\n",
              "    </tr>\n",
              "    <tr>\n",
              "      <th>2013-12-31</th>\n",
              "      <td>0.935428</td>\n",
              "      <td>0.955447</td>\n",
              "      <td>0.980290</td>\n",
              "      <td>NaN</td>\n",
              "      <td>0.980459</td>\n",
              "      <td>0.985628</td>\n",
              "      <td>0.927193</td>\n",
              "      <td>0.995715</td>\n",
              "      <td>NaN</td>\n",
              "      <td>1.064829</td>\n",
              "      <td>...</td>\n",
              "      <td>NaN</td>\n",
              "      <td>0.947604</td>\n",
              "      <td>0.973344</td>\n",
              "      <td>1.069698</td>\n",
              "      <td>0.977550</td>\n",
              "      <td>0.975381</td>\n",
              "      <td>0.980722</td>\n",
              "      <td>1.010359</td>\n",
              "      <td>0.992375</td>\n",
              "      <td>0.985771</td>\n",
              "    </tr>\n",
              "    <tr>\n",
              "      <th>2014-01-01</th>\n",
              "      <td>0.896558</td>\n",
              "      <td>NaN</td>\n",
              "      <td>NaN</td>\n",
              "      <td>NaN</td>\n",
              "      <td>0.993791</td>\n",
              "      <td>NaN</td>\n",
              "      <td>NaN</td>\n",
              "      <td>NaN</td>\n",
              "      <td>NaN</td>\n",
              "      <td>NaN</td>\n",
              "      <td>...</td>\n",
              "      <td>NaN</td>\n",
              "      <td>NaN</td>\n",
              "      <td>NaN</td>\n",
              "      <td>1.064733</td>\n",
              "      <td>0.978797</td>\n",
              "      <td>0.954289</td>\n",
              "      <td>NaN</td>\n",
              "      <td>NaN</td>\n",
              "      <td>NaN</td>\n",
              "      <td>NaN</td>\n",
              "    </tr>\n",
              "    <tr>\n",
              "      <th>...</th>\n",
              "      <td>...</td>\n",
              "      <td>...</td>\n",
              "      <td>...</td>\n",
              "      <td>...</td>\n",
              "      <td>...</td>\n",
              "      <td>...</td>\n",
              "      <td>...</td>\n",
              "      <td>...</td>\n",
              "      <td>...</td>\n",
              "      <td>...</td>\n",
              "      <td>...</td>\n",
              "      <td>...</td>\n",
              "      <td>...</td>\n",
              "      <td>...</td>\n",
              "      <td>...</td>\n",
              "      <td>...</td>\n",
              "      <td>...</td>\n",
              "      <td>...</td>\n",
              "      <td>...</td>\n",
              "      <td>...</td>\n",
              "      <td>...</td>\n",
              "    </tr>\n",
              "    <tr>\n",
              "      <th>2023-12-22</th>\n",
              "      <td>NaN</td>\n",
              "      <td>NaN</td>\n",
              "      <td>NaN</td>\n",
              "      <td>NaN</td>\n",
              "      <td>NaN</td>\n",
              "      <td>NaN</td>\n",
              "      <td>NaN</td>\n",
              "      <td>NaN</td>\n",
              "      <td>NaN</td>\n",
              "      <td>NaN</td>\n",
              "      <td>...</td>\n",
              "      <td>NaN</td>\n",
              "      <td>NaN</td>\n",
              "      <td>NaN</td>\n",
              "      <td>NaN</td>\n",
              "      <td>NaN</td>\n",
              "      <td>NaN</td>\n",
              "      <td>NaN</td>\n",
              "      <td>NaN</td>\n",
              "      <td>NaN</td>\n",
              "      <td>NaN</td>\n",
              "    </tr>\n",
              "    <tr>\n",
              "      <th>2023-12-26</th>\n",
              "      <td>NaN</td>\n",
              "      <td>NaN</td>\n",
              "      <td>NaN</td>\n",
              "      <td>NaN</td>\n",
              "      <td>NaN</td>\n",
              "      <td>NaN</td>\n",
              "      <td>NaN</td>\n",
              "      <td>NaN</td>\n",
              "      <td>NaN</td>\n",
              "      <td>NaN</td>\n",
              "      <td>...</td>\n",
              "      <td>NaN</td>\n",
              "      <td>NaN</td>\n",
              "      <td>NaN</td>\n",
              "      <td>NaN</td>\n",
              "      <td>NaN</td>\n",
              "      <td>NaN</td>\n",
              "      <td>NaN</td>\n",
              "      <td>NaN</td>\n",
              "      <td>NaN</td>\n",
              "      <td>NaN</td>\n",
              "    </tr>\n",
              "    <tr>\n",
              "      <th>2023-12-27</th>\n",
              "      <td>NaN</td>\n",
              "      <td>NaN</td>\n",
              "      <td>NaN</td>\n",
              "      <td>NaN</td>\n",
              "      <td>NaN</td>\n",
              "      <td>NaN</td>\n",
              "      <td>NaN</td>\n",
              "      <td>NaN</td>\n",
              "      <td>NaN</td>\n",
              "      <td>NaN</td>\n",
              "      <td>...</td>\n",
              "      <td>NaN</td>\n",
              "      <td>NaN</td>\n",
              "      <td>NaN</td>\n",
              "      <td>NaN</td>\n",
              "      <td>NaN</td>\n",
              "      <td>NaN</td>\n",
              "      <td>NaN</td>\n",
              "      <td>NaN</td>\n",
              "      <td>NaN</td>\n",
              "      <td>NaN</td>\n",
              "    </tr>\n",
              "    <tr>\n",
              "      <th>2023-12-28</th>\n",
              "      <td>NaN</td>\n",
              "      <td>NaN</td>\n",
              "      <td>NaN</td>\n",
              "      <td>NaN</td>\n",
              "      <td>NaN</td>\n",
              "      <td>NaN</td>\n",
              "      <td>NaN</td>\n",
              "      <td>NaN</td>\n",
              "      <td>NaN</td>\n",
              "      <td>NaN</td>\n",
              "      <td>...</td>\n",
              "      <td>NaN</td>\n",
              "      <td>NaN</td>\n",
              "      <td>NaN</td>\n",
              "      <td>NaN</td>\n",
              "      <td>NaN</td>\n",
              "      <td>NaN</td>\n",
              "      <td>NaN</td>\n",
              "      <td>NaN</td>\n",
              "      <td>NaN</td>\n",
              "      <td>NaN</td>\n",
              "    </tr>\n",
              "    <tr>\n",
              "      <th>2023-12-29</th>\n",
              "      <td>NaN</td>\n",
              "      <td>NaN</td>\n",
              "      <td>NaN</td>\n",
              "      <td>NaN</td>\n",
              "      <td>NaN</td>\n",
              "      <td>NaN</td>\n",
              "      <td>NaN</td>\n",
              "      <td>NaN</td>\n",
              "      <td>NaN</td>\n",
              "      <td>NaN</td>\n",
              "      <td>...</td>\n",
              "      <td>NaN</td>\n",
              "      <td>NaN</td>\n",
              "      <td>NaN</td>\n",
              "      <td>NaN</td>\n",
              "      <td>NaN</td>\n",
              "      <td>NaN</td>\n",
              "      <td>NaN</td>\n",
              "      <td>NaN</td>\n",
              "      <td>NaN</td>\n",
              "      <td>NaN</td>\n",
              "    </tr>\n",
              "  </tbody>\n",
              "</table>\n",
              "<p>2599 rows × 33 columns</p>\n",
              "</div>\n",
              "    <div class=\"colab-df-buttons\">\n",
              "\n",
              "  <div class=\"colab-df-container\">\n",
              "    <button class=\"colab-df-convert\" onclick=\"convertToInteractive('df-1b14be0d-b73d-4d92-9672-5d1fa05a47f0')\"\n",
              "            title=\"Convert this dataframe to an interactive table.\"\n",
              "            style=\"display:none;\">\n",
              "\n",
              "  <svg xmlns=\"http://www.w3.org/2000/svg\" height=\"24px\" viewBox=\"0 -960 960 960\">\n",
              "    <path d=\"M120-120v-720h720v720H120Zm60-500h600v-160H180v160Zm220 220h160v-160H400v160Zm0 220h160v-160H400v160ZM180-400h160v-160H180v160Zm440 0h160v-160H620v160ZM180-180h160v-160H180v160Zm440 0h160v-160H620v160Z\"/>\n",
              "  </svg>\n",
              "    </button>\n",
              "\n",
              "  <style>\n",
              "    .colab-df-container {\n",
              "      display:flex;\n",
              "      gap: 12px;\n",
              "    }\n",
              "\n",
              "    .colab-df-convert {\n",
              "      background-color: #E8F0FE;\n",
              "      border: none;\n",
              "      border-radius: 50%;\n",
              "      cursor: pointer;\n",
              "      display: none;\n",
              "      fill: #1967D2;\n",
              "      height: 32px;\n",
              "      padding: 0 0 0 0;\n",
              "      width: 32px;\n",
              "    }\n",
              "\n",
              "    .colab-df-convert:hover {\n",
              "      background-color: #E2EBFA;\n",
              "      box-shadow: 0px 1px 2px rgba(60, 64, 67, 0.3), 0px 1px 3px 1px rgba(60, 64, 67, 0.15);\n",
              "      fill: #174EA6;\n",
              "    }\n",
              "\n",
              "    .colab-df-buttons div {\n",
              "      margin-bottom: 4px;\n",
              "    }\n",
              "\n",
              "    [theme=dark] .colab-df-convert {\n",
              "      background-color: #3B4455;\n",
              "      fill: #D2E3FC;\n",
              "    }\n",
              "\n",
              "    [theme=dark] .colab-df-convert:hover {\n",
              "      background-color: #434B5C;\n",
              "      box-shadow: 0px 1px 3px 1px rgba(0, 0, 0, 0.15);\n",
              "      filter: drop-shadow(0px 1px 2px rgba(0, 0, 0, 0.3));\n",
              "      fill: #FFFFFF;\n",
              "    }\n",
              "  </style>\n",
              "\n",
              "    <script>\n",
              "      const buttonEl =\n",
              "        document.querySelector('#df-1b14be0d-b73d-4d92-9672-5d1fa05a47f0 button.colab-df-convert');\n",
              "      buttonEl.style.display =\n",
              "        google.colab.kernel.accessAllowed ? 'block' : 'none';\n",
              "\n",
              "      async function convertToInteractive(key) {\n",
              "        const element = document.querySelector('#df-1b14be0d-b73d-4d92-9672-5d1fa05a47f0');\n",
              "        const dataTable =\n",
              "          await google.colab.kernel.invokeFunction('convertToInteractive',\n",
              "                                                    [key], {});\n",
              "        if (!dataTable) return;\n",
              "\n",
              "        const docLinkHtml = 'Like what you see? Visit the ' +\n",
              "          '<a target=\"_blank\" href=https://colab.research.google.com/notebooks/data_table.ipynb>data table notebook</a>'\n",
              "          + ' to learn more about interactive tables.';\n",
              "        element.innerHTML = '';\n",
              "        dataTable['output_type'] = 'display_data';\n",
              "        await google.colab.output.renderOutput(dataTable, element);\n",
              "        const docLink = document.createElement('div');\n",
              "        docLink.innerHTML = docLinkHtml;\n",
              "        element.appendChild(docLink);\n",
              "      }\n",
              "    </script>\n",
              "  </div>\n",
              "\n",
              "\n",
              "<div id=\"df-625cc3d2-527f-4fa6-9b5c-f0777c81686b\">\n",
              "  <button class=\"colab-df-quickchart\" onclick=\"quickchart('df-625cc3d2-527f-4fa6-9b5c-f0777c81686b')\"\n",
              "            title=\"Suggest charts\"\n",
              "            style=\"display:none;\">\n",
              "\n",
              "<svg xmlns=\"http://www.w3.org/2000/svg\" height=\"24px\"viewBox=\"0 0 24 24\"\n",
              "     width=\"24px\">\n",
              "    <g>\n",
              "        <path d=\"M19 3H5c-1.1 0-2 .9-2 2v14c0 1.1.9 2 2 2h14c1.1 0 2-.9 2-2V5c0-1.1-.9-2-2-2zM9 17H7v-7h2v7zm4 0h-2V7h2v10zm4 0h-2v-4h2v4z\"/>\n",
              "    </g>\n",
              "</svg>\n",
              "  </button>\n",
              "\n",
              "<style>\n",
              "  .colab-df-quickchart {\n",
              "      --bg-color: #E8F0FE;\n",
              "      --fill-color: #1967D2;\n",
              "      --hover-bg-color: #E2EBFA;\n",
              "      --hover-fill-color: #174EA6;\n",
              "      --disabled-fill-color: #AAA;\n",
              "      --disabled-bg-color: #DDD;\n",
              "  }\n",
              "\n",
              "  [theme=dark] .colab-df-quickchart {\n",
              "      --bg-color: #3B4455;\n",
              "      --fill-color: #D2E3FC;\n",
              "      --hover-bg-color: #434B5C;\n",
              "      --hover-fill-color: #FFFFFF;\n",
              "      --disabled-bg-color: #3B4455;\n",
              "      --disabled-fill-color: #666;\n",
              "  }\n",
              "\n",
              "  .colab-df-quickchart {\n",
              "    background-color: var(--bg-color);\n",
              "    border: none;\n",
              "    border-radius: 50%;\n",
              "    cursor: pointer;\n",
              "    display: none;\n",
              "    fill: var(--fill-color);\n",
              "    height: 32px;\n",
              "    padding: 0;\n",
              "    width: 32px;\n",
              "  }\n",
              "\n",
              "  .colab-df-quickchart:hover {\n",
              "    background-color: var(--hover-bg-color);\n",
              "    box-shadow: 0 1px 2px rgba(60, 64, 67, 0.3), 0 1px 3px 1px rgba(60, 64, 67, 0.15);\n",
              "    fill: var(--button-hover-fill-color);\n",
              "  }\n",
              "\n",
              "  .colab-df-quickchart-complete:disabled,\n",
              "  .colab-df-quickchart-complete:disabled:hover {\n",
              "    background-color: var(--disabled-bg-color);\n",
              "    fill: var(--disabled-fill-color);\n",
              "    box-shadow: none;\n",
              "  }\n",
              "\n",
              "  .colab-df-spinner {\n",
              "    border: 2px solid var(--fill-color);\n",
              "    border-color: transparent;\n",
              "    border-bottom-color: var(--fill-color);\n",
              "    animation:\n",
              "      spin 1s steps(1) infinite;\n",
              "  }\n",
              "\n",
              "  @keyframes spin {\n",
              "    0% {\n",
              "      border-color: transparent;\n",
              "      border-bottom-color: var(--fill-color);\n",
              "      border-left-color: var(--fill-color);\n",
              "    }\n",
              "    20% {\n",
              "      border-color: transparent;\n",
              "      border-left-color: var(--fill-color);\n",
              "      border-top-color: var(--fill-color);\n",
              "    }\n",
              "    30% {\n",
              "      border-color: transparent;\n",
              "      border-left-color: var(--fill-color);\n",
              "      border-top-color: var(--fill-color);\n",
              "      border-right-color: var(--fill-color);\n",
              "    }\n",
              "    40% {\n",
              "      border-color: transparent;\n",
              "      border-right-color: var(--fill-color);\n",
              "      border-top-color: var(--fill-color);\n",
              "    }\n",
              "    60% {\n",
              "      border-color: transparent;\n",
              "      border-right-color: var(--fill-color);\n",
              "    }\n",
              "    80% {\n",
              "      border-color: transparent;\n",
              "      border-right-color: var(--fill-color);\n",
              "      border-bottom-color: var(--fill-color);\n",
              "    }\n",
              "    90% {\n",
              "      border-color: transparent;\n",
              "      border-bottom-color: var(--fill-color);\n",
              "    }\n",
              "  }\n",
              "</style>\n",
              "\n",
              "  <script>\n",
              "    async function quickchart(key) {\n",
              "      const quickchartButtonEl =\n",
              "        document.querySelector('#' + key + ' button');\n",
              "      quickchartButtonEl.disabled = true;  // To prevent multiple clicks.\n",
              "      quickchartButtonEl.classList.add('colab-df-spinner');\n",
              "      try {\n",
              "        const charts = await google.colab.kernel.invokeFunction(\n",
              "            'suggestCharts', [key], {});\n",
              "      } catch (error) {\n",
              "        console.error('Error during call to suggestCharts:', error);\n",
              "      }\n",
              "      quickchartButtonEl.classList.remove('colab-df-spinner');\n",
              "      quickchartButtonEl.classList.add('colab-df-quickchart-complete');\n",
              "    }\n",
              "    (() => {\n",
              "      let quickchartButtonEl =\n",
              "        document.querySelector('#df-625cc3d2-527f-4fa6-9b5c-f0777c81686b button');\n",
              "      quickchartButtonEl.style.display =\n",
              "        google.colab.kernel.accessAllowed ? 'block' : 'none';\n",
              "    })();\n",
              "  </script>\n",
              "</div>\n",
              "\n",
              "  <div id=\"id_085e89df-e4bb-46fc-bdde-60e414a71320\">\n",
              "    <style>\n",
              "      .colab-df-generate {\n",
              "        background-color: #E8F0FE;\n",
              "        border: none;\n",
              "        border-radius: 50%;\n",
              "        cursor: pointer;\n",
              "        display: none;\n",
              "        fill: #1967D2;\n",
              "        height: 32px;\n",
              "        padding: 0 0 0 0;\n",
              "        width: 32px;\n",
              "      }\n",
              "\n",
              "      .colab-df-generate:hover {\n",
              "        background-color: #E2EBFA;\n",
              "        box-shadow: 0px 1px 2px rgba(60, 64, 67, 0.3), 0px 1px 3px 1px rgba(60, 64, 67, 0.15);\n",
              "        fill: #174EA6;\n",
              "      }\n",
              "\n",
              "      [theme=dark] .colab-df-generate {\n",
              "        background-color: #3B4455;\n",
              "        fill: #D2E3FC;\n",
              "      }\n",
              "\n",
              "      [theme=dark] .colab-df-generate:hover {\n",
              "        background-color: #434B5C;\n",
              "        box-shadow: 0px 1px 3px 1px rgba(0, 0, 0, 0.15);\n",
              "        filter: drop-shadow(0px 1px 2px rgba(0, 0, 0, 0.3));\n",
              "        fill: #FFFFFF;\n",
              "      }\n",
              "    </style>\n",
              "    <button class=\"colab-df-generate\" onclick=\"generateWithVariable('large_stocks_growth_7d')\"\n",
              "            title=\"Generate code using this dataframe.\"\n",
              "            style=\"display:none;\">\n",
              "\n",
              "  <svg xmlns=\"http://www.w3.org/2000/svg\" height=\"24px\"viewBox=\"0 0 24 24\"\n",
              "       width=\"24px\">\n",
              "    <path d=\"M7,19H8.4L18.45,9,17,7.55,7,17.6ZM5,21V16.75L18.45,3.32a2,2,0,0,1,2.83,0l1.4,1.43a1.91,1.91,0,0,1,.58,1.4,1.91,1.91,0,0,1-.58,1.4L9.25,21ZM18.45,9,17,7.55Zm-12,3A5.31,5.31,0,0,0,4.9,8.1,5.31,5.31,0,0,0,1,6.5,5.31,5.31,0,0,0,4.9,4.9,5.31,5.31,0,0,0,6.5,1,5.31,5.31,0,0,0,8.1,4.9,5.31,5.31,0,0,0,12,6.5,5.46,5.46,0,0,0,6.5,12Z\"/>\n",
              "  </svg>\n",
              "    </button>\n",
              "    <script>\n",
              "      (() => {\n",
              "      const buttonEl =\n",
              "        document.querySelector('#id_085e89df-e4bb-46fc-bdde-60e414a71320 button.colab-df-generate');\n",
              "      buttonEl.style.display =\n",
              "        google.colab.kernel.accessAllowed ? 'block' : 'none';\n",
              "\n",
              "      buttonEl.onclick = () => {\n",
              "        google.colab.notebook.generateWithVariable('large_stocks_growth_7d');\n",
              "      }\n",
              "      })();\n",
              "    </script>\n",
              "  </div>\n",
              "\n",
              "    </div>\n",
              "  </div>\n"
            ],
            "application/vnd.google.colaboratory.intrinsic+json": {
              "type": "dataframe",
              "variable_name": "large_stocks_growth_7d"
            }
          },
          "metadata": {},
          "execution_count": 66
        }
      ]
    },
    {
      "cell_type": "code",
      "source": [
        "\n",
        "# Flatten the table using pivot_table\n",
        "largest_stocks_pivot = pd.pivot_table(largest_stocks_growth_7d.unstack().reset_index(),\n",
        "                                      values=0, index='Date')\n",
        "large_stocks_pivot = pd.pivot_table(large_stocks_growth_7d.unstack().reset_index(),\n",
        "                                    values=0, index='Date')"
      ],
      "metadata": {
        "id": "X7tLZVQhY46Z"
      },
      "execution_count": 67,
      "outputs": []
    },
    {
      "cell_type": "code",
      "source": [
        "# Calculate average daily growth_7d for each group\n",
        "avg_daily_growth_7d_largest = largest_stocks_pivot.mean(axis=1)\n",
        "avg_daily_growth_7d_large = large_stocks_pivot.mean(axis=1)"
      ],
      "metadata": {
        "id": "EWXrSIZtbfuk"
      },
      "execution_count": 68,
      "outputs": []
    },
    {
      "cell_type": "code",
      "source": [
        "avg_daily_growth_7d_largest"
      ],
      "metadata": {
        "colab": {
          "base_uri": "https://localhost:8080/"
        },
        "id": "zoE0LKRfb2EV",
        "outputId": "9fca6d42-a175-4a0b-dfd1-50f1b770146a"
      },
      "execution_count": 69,
      "outputs": [
        {
          "output_type": "execute_result",
          "data": {
            "text/plain": [
              "Date\n",
              "2013-12-26    0.990353\n",
              "2013-12-27    0.987984\n",
              "2013-12-30    0.989096\n",
              "2013-12-31    0.978946\n",
              "2014-01-01    0.967214\n",
              "                ...   \n",
              "2023-12-13    1.013788\n",
              "2023-12-14    1.014900\n",
              "2023-12-15    1.013800\n",
              "2023-12-18    1.009875\n",
              "2023-12-19    1.004045\n",
              "Length: 2592, dtype: float64"
            ]
          },
          "metadata": {},
          "execution_count": 69
        }
      ]
    },
    {
      "cell_type": "code",
      "source": [
        "# Determine the number of days when large stocks outperform largest stocks\n",
        "outperform_days = (avg_daily_growth_7d_large > avg_daily_growth_7d_largest).sum()"
      ],
      "metadata": {
        "id": "93tHqOlIblx7"
      },
      "execution_count": 70,
      "outputs": []
    },
    {
      "cell_type": "code",
      "source": [
        "# Calculate the percentage of days when large stocks outperform largest stocks\n",
        "total_days = len(avg_daily_growth_7d_largest)\n",
        "percentage_outperform = int((outperform_days / total_days) * 100)\n",
        "\n",
        "print(\"Percentage of days when LARGE stocks outperform LARGEST stocks:\", percentage_outperform)"
      ],
      "metadata": {
        "colab": {
          "base_uri": "https://localhost:8080/"
        },
        "id": "OSC4BfKacVfx",
        "outputId": "e650c74d-6b12-4653-e66c-c63f497ec4bd"
      },
      "execution_count": 71,
      "outputs": [
        {
          "output_type": "stream",
          "name": "stdout",
          "text": [
            "Percentage of days when LARGE stocks outperform LARGEST stocks: 46\n"
          ]
        }
      ]
    },
    {
      "cell_type": "markdown",
      "source": [
        "# Question 4: Trying Another Technical Indicators strategy\n",
        "What's the total gross profit (in THOUSANDS of $) you'll get from trading on CCI (no fees assumption)?\n",
        "\n",
        "First, run the entire Colab to obtain the full DataFrame of data (after [Code Snippet 9]), and truncate it to the last full 10 years of data (2014-01-01 to 2023-12-31). If you encounter any difficulties running the Colab - you can download it using this link.\n",
        "\n",
        "Let's assume you've learned about the awesome CCI indicator (Commodity Channel Index), and decided to use only it for your operations.\n",
        "\n",
        "You defined the \"defensive\" value of a high threshould of 200, and you trade only on Fridays (Date.dt.dayofweek()==4).\n",
        "\n",
        "That is, every time you see that CCI is >200 for any stock (out of those 33), you'll invest $1000 (each record when CCI>200) at Adj.Close price and hold it for 1 week (5 trading days) in order to sell at the Adj. Close price.\n",
        "\n",
        "What's the expected gross profit (no fees) that you get in THOUSANDS $ (closest integer value) over many operations in 10 years? One operation calculations: if you invested $1000 and received $1010 in 5 days - you add $10 to gross profit, if you received $980 - add -$20 to gross profit. You need to sum these results over all trades (460 times in 10 years).\n",
        "\n",
        "Additional:\n",
        "\n",
        "Add an approximate fees calculation over the 460 trades from this calculator https://www.degiro.ie/fees/calculator (Product:\"Shares, USA and Canada;\" Amount per transaction: \"1000 EUR\"; Transactions per year: \"460\")\n",
        "are you still profitable on those trades?"
      ],
      "metadata": {
        "id": "8UWRGX12cePv"
      }
    },
    {
      "cell_type": "code",
      "source": [
        "!gdown https://drive.google.com/uc?id=1m3Qisfs2XfWk6Sw_Uk5kHLWqwQ0q8SKb"
      ],
      "metadata": {
        "colab": {
          "base_uri": "https://localhost:8080/"
        },
        "id": "ph8Q_M9Ucb_O",
        "outputId": "4dfddb70-9dae-4cc2-a79e-63758e391ab7"
      },
      "execution_count": 75,
      "outputs": [
        {
          "output_type": "stream",
          "name": "stdout",
          "text": [
            "Downloading...\n",
            "From: https://drive.google.com/uc?id=1m3Qisfs2XfWk6Sw_Uk5kHLWqwQ0q8SKb\n",
            "To: /content/stocks_df_combined_trunc_2014_2023.parquet.brotli\n",
            "100% 47.3M/47.3M [00:01<00:00, 28.3MB/s]\n"
          ]
        }
      ]
    },
    {
      "cell_type": "code",
      "source": [
        "# pandas read df from downloaded file\n",
        "df = pd.read_parquet('stocks_df_combined_trunc_2014_2023.parquet.brotli')\n",
        "df = df.reset_index(drop=True)\n",
        "df.info()"
      ],
      "metadata": {
        "colab": {
          "base_uri": "https://localhost:8080/"
        },
        "id": "JCbmuWYddfkf",
        "outputId": "643496c7-1497-4698-d339-4aae030cdf46"
      },
      "execution_count": 76,
      "outputs": [
        {
          "output_type": "stream",
          "name": "stdout",
          "text": [
            "<class 'pandas.core.frame.DataFrame'>\n",
            "RangeIndex: 80762 entries, 0 to 80761\n",
            "Columns: 202 entries, Open to growth_btc_usd_365d\n",
            "dtypes: datetime64[ns](3), float64(128), int32(64), int64(5), object(2)\n",
            "memory usage: 104.7+ MB\n"
          ]
        }
      ]
    },
    {
      "cell_type": "code",
      "source": [
        "df"
      ],
      "metadata": {
        "colab": {
          "base_uri": "https://localhost:8080/",
          "height": 635
        },
        "id": "MS1mRGjIdxvy",
        "outputId": "8d03542e-61e2-4f48-c756-991133ae7b7e"
      },
      "execution_count": 77,
      "outputs": [
        {
          "output_type": "execute_result",
          "data": {
            "text/plain": [
              "              Open         High          Low        Close  Adj Close_x  \\\n",
              "0        37.349998    37.400002    37.099998    37.160000    31.233059   \n",
              "1        37.200001    37.220001    36.599998    36.910000    31.022930   \n",
              "2        36.849998    36.889999    36.110001    36.130001    30.367352   \n",
              "3        36.330002    36.490002    36.209999    36.410000    30.602673   \n",
              "4        36.000000    36.139999    35.580002    35.759998    30.056356   \n",
              "...            ...          ...          ...          ...          ...   \n",
              "80757  3424.000000  3496.000000  3408.600098  3477.949951  3477.949951   \n",
              "80758  3477.949951  3508.350098  3477.949951  3490.050049  3490.050049   \n",
              "80759  3510.000000  3549.000000  3504.149902  3544.000000  3544.000000   \n",
              "80760  3545.000000  3559.949951  3500.500000  3518.050049  3518.050049   \n",
              "80761  3531.000000  3540.000000  3495.000000  3526.000000  3526.000000   \n",
              "\n",
              "           Volume Ticker  Year      Month  Weekday  ... growth_brent_oil_7d  \\\n",
              "0      30632200.0   MSFT  2014 2014-01-01        3  ...            0.964302   \n",
              "1      31134800.0   MSFT  2014 2014-01-01        4  ...            0.958139   \n",
              "2      43603700.0   MSFT  2014 2014-01-01        0  ...            0.953798   \n",
              "3      35802800.0   MSFT  2014 2014-01-01        1  ...            0.958653   \n",
              "4      59971700.0   MSFT  2014 2014-01-01        2  ...            0.955161   \n",
              "...           ...    ...   ...        ...      ...  ...                 ...   \n",
              "80757   1681707.0  LT.NS  2023 2023-12-01        4  ...            1.064772   \n",
              "80758   1072263.0  LT.NS  2023 2023-12-01        1  ...            1.058217   \n",
              "80759   1389266.0  LT.NS  2023 2023-12-01        2  ...            1.040496   \n",
              "80760   3371121.0  LT.NS  2023 2023-12-01        3  ...            1.005645   \n",
              "80761    968577.0  LT.NS  2023 2023-12-01        4  ...            0.972359   \n",
              "\n",
              "       growth_brent_oil_30d  growth_brent_oil_90d  growth_brent_oil_365d  \\\n",
              "0                  0.992998              0.970030               1.158676   \n",
              "1                  0.984707              0.961500               1.143209   \n",
              "2                  0.998223              0.968951               1.168236   \n",
              "3                  0.993430              0.977598               1.097648   \n",
              "4                  0.973383              0.974977               1.100781   \n",
              "...                     ...                   ...                    ...   \n",
              "80757              0.971018              0.939967               0.797881   \n",
              "80758              0.982429              0.956014               0.801404   \n",
              "80759              0.965806              0.943050               0.749506   \n",
              "80760              0.965632              0.932881               0.730228   \n",
              "80761              0.995092              0.925850               0.720539   \n",
              "\n",
              "       growth_btc_usd_1d  growth_btc_usd_3d  growth_btc_usd_7d  \\\n",
              "0                    NaN                NaN                NaN   \n",
              "1                    NaN                NaN                NaN   \n",
              "2                    NaN                NaN                NaN   \n",
              "3                    NaN                NaN                NaN   \n",
              "4                    NaN                NaN                NaN   \n",
              "...                  ...                ...                ...   \n",
              "80757           1.002935           1.040865           1.049324   \n",
              "80758           0.974945           0.972127           1.005911   \n",
              "80759           1.021694           1.009920           0.995203   \n",
              "80760           0.981240           0.977409           0.971705   \n",
              "80761           0.987603           0.990099           0.956850   \n",
              "\n",
              "       growth_btc_usd_30d  growth_btc_usd_90d  growth_btc_usd_365d  \n",
              "0                     NaN                 NaN                  NaN  \n",
              "1                     NaN                 NaN                  NaN  \n",
              "2                     NaN                 NaN                  NaN  \n",
              "3                     NaN                 NaN                  NaN  \n",
              "4                     NaN                 NaN                  NaN  \n",
              "...                   ...                 ...                  ...  \n",
              "80757            1.175398            1.655339             2.614201  \n",
              "80758            1.134509            1.613511             2.513055  \n",
              "80759            1.166121            1.607712             2.598696  \n",
              "80760            1.126794            1.583988             2.575301  \n",
              "80761            1.112020            1.561092             2.529656  \n",
              "\n",
              "[80762 rows x 202 columns]"
            ],
            "text/html": [
              "\n",
              "  <div id=\"df-565e6b75-6b56-4586-a4fb-30638ee64423\" class=\"colab-df-container\">\n",
              "    <div>\n",
              "<style scoped>\n",
              "    .dataframe tbody tr th:only-of-type {\n",
              "        vertical-align: middle;\n",
              "    }\n",
              "\n",
              "    .dataframe tbody tr th {\n",
              "        vertical-align: top;\n",
              "    }\n",
              "\n",
              "    .dataframe thead th {\n",
              "        text-align: right;\n",
              "    }\n",
              "</style>\n",
              "<table border=\"1\" class=\"dataframe\">\n",
              "  <thead>\n",
              "    <tr style=\"text-align: right;\">\n",
              "      <th></th>\n",
              "      <th>Open</th>\n",
              "      <th>High</th>\n",
              "      <th>Low</th>\n",
              "      <th>Close</th>\n",
              "      <th>Adj Close_x</th>\n",
              "      <th>Volume</th>\n",
              "      <th>Ticker</th>\n",
              "      <th>Year</th>\n",
              "      <th>Month</th>\n",
              "      <th>Weekday</th>\n",
              "      <th>...</th>\n",
              "      <th>growth_brent_oil_7d</th>\n",
              "      <th>growth_brent_oil_30d</th>\n",
              "      <th>growth_brent_oil_90d</th>\n",
              "      <th>growth_brent_oil_365d</th>\n",
              "      <th>growth_btc_usd_1d</th>\n",
              "      <th>growth_btc_usd_3d</th>\n",
              "      <th>growth_btc_usd_7d</th>\n",
              "      <th>growth_btc_usd_30d</th>\n",
              "      <th>growth_btc_usd_90d</th>\n",
              "      <th>growth_btc_usd_365d</th>\n",
              "    </tr>\n",
              "  </thead>\n",
              "  <tbody>\n",
              "    <tr>\n",
              "      <th>0</th>\n",
              "      <td>37.349998</td>\n",
              "      <td>37.400002</td>\n",
              "      <td>37.099998</td>\n",
              "      <td>37.160000</td>\n",
              "      <td>31.233059</td>\n",
              "      <td>30632200.0</td>\n",
              "      <td>MSFT</td>\n",
              "      <td>2014</td>\n",
              "      <td>2014-01-01</td>\n",
              "      <td>3</td>\n",
              "      <td>...</td>\n",
              "      <td>0.964302</td>\n",
              "      <td>0.992998</td>\n",
              "      <td>0.970030</td>\n",
              "      <td>1.158676</td>\n",
              "      <td>NaN</td>\n",
              "      <td>NaN</td>\n",
              "      <td>NaN</td>\n",
              "      <td>NaN</td>\n",
              "      <td>NaN</td>\n",
              "      <td>NaN</td>\n",
              "    </tr>\n",
              "    <tr>\n",
              "      <th>1</th>\n",
              "      <td>37.200001</td>\n",
              "      <td>37.220001</td>\n",
              "      <td>36.599998</td>\n",
              "      <td>36.910000</td>\n",
              "      <td>31.022930</td>\n",
              "      <td>31134800.0</td>\n",
              "      <td>MSFT</td>\n",
              "      <td>2014</td>\n",
              "      <td>2014-01-01</td>\n",
              "      <td>4</td>\n",
              "      <td>...</td>\n",
              "      <td>0.958139</td>\n",
              "      <td>0.984707</td>\n",
              "      <td>0.961500</td>\n",
              "      <td>1.143209</td>\n",
              "      <td>NaN</td>\n",
              "      <td>NaN</td>\n",
              "      <td>NaN</td>\n",
              "      <td>NaN</td>\n",
              "      <td>NaN</td>\n",
              "      <td>NaN</td>\n",
              "    </tr>\n",
              "    <tr>\n",
              "      <th>2</th>\n",
              "      <td>36.849998</td>\n",
              "      <td>36.889999</td>\n",
              "      <td>36.110001</td>\n",
              "      <td>36.130001</td>\n",
              "      <td>30.367352</td>\n",
              "      <td>43603700.0</td>\n",
              "      <td>MSFT</td>\n",
              "      <td>2014</td>\n",
              "      <td>2014-01-01</td>\n",
              "      <td>0</td>\n",
              "      <td>...</td>\n",
              "      <td>0.953798</td>\n",
              "      <td>0.998223</td>\n",
              "      <td>0.968951</td>\n",
              "      <td>1.168236</td>\n",
              "      <td>NaN</td>\n",
              "      <td>NaN</td>\n",
              "      <td>NaN</td>\n",
              "      <td>NaN</td>\n",
              "      <td>NaN</td>\n",
              "      <td>NaN</td>\n",
              "    </tr>\n",
              "    <tr>\n",
              "      <th>3</th>\n",
              "      <td>36.330002</td>\n",
              "      <td>36.490002</td>\n",
              "      <td>36.209999</td>\n",
              "      <td>36.410000</td>\n",
              "      <td>30.602673</td>\n",
              "      <td>35802800.0</td>\n",
              "      <td>MSFT</td>\n",
              "      <td>2014</td>\n",
              "      <td>2014-01-01</td>\n",
              "      <td>1</td>\n",
              "      <td>...</td>\n",
              "      <td>0.958653</td>\n",
              "      <td>0.993430</td>\n",
              "      <td>0.977598</td>\n",
              "      <td>1.097648</td>\n",
              "      <td>NaN</td>\n",
              "      <td>NaN</td>\n",
              "      <td>NaN</td>\n",
              "      <td>NaN</td>\n",
              "      <td>NaN</td>\n",
              "      <td>NaN</td>\n",
              "    </tr>\n",
              "    <tr>\n",
              "      <th>4</th>\n",
              "      <td>36.000000</td>\n",
              "      <td>36.139999</td>\n",
              "      <td>35.580002</td>\n",
              "      <td>35.759998</td>\n",
              "      <td>30.056356</td>\n",
              "      <td>59971700.0</td>\n",
              "      <td>MSFT</td>\n",
              "      <td>2014</td>\n",
              "      <td>2014-01-01</td>\n",
              "      <td>2</td>\n",
              "      <td>...</td>\n",
              "      <td>0.955161</td>\n",
              "      <td>0.973383</td>\n",
              "      <td>0.974977</td>\n",
              "      <td>1.100781</td>\n",
              "      <td>NaN</td>\n",
              "      <td>NaN</td>\n",
              "      <td>NaN</td>\n",
              "      <td>NaN</td>\n",
              "      <td>NaN</td>\n",
              "      <td>NaN</td>\n",
              "    </tr>\n",
              "    <tr>\n",
              "      <th>...</th>\n",
              "      <td>...</td>\n",
              "      <td>...</td>\n",
              "      <td>...</td>\n",
              "      <td>...</td>\n",
              "      <td>...</td>\n",
              "      <td>...</td>\n",
              "      <td>...</td>\n",
              "      <td>...</td>\n",
              "      <td>...</td>\n",
              "      <td>...</td>\n",
              "      <td>...</td>\n",
              "      <td>...</td>\n",
              "      <td>...</td>\n",
              "      <td>...</td>\n",
              "      <td>...</td>\n",
              "      <td>...</td>\n",
              "      <td>...</td>\n",
              "      <td>...</td>\n",
              "      <td>...</td>\n",
              "      <td>...</td>\n",
              "      <td>...</td>\n",
              "    </tr>\n",
              "    <tr>\n",
              "      <th>80757</th>\n",
              "      <td>3424.000000</td>\n",
              "      <td>3496.000000</td>\n",
              "      <td>3408.600098</td>\n",
              "      <td>3477.949951</td>\n",
              "      <td>3477.949951</td>\n",
              "      <td>1681707.0</td>\n",
              "      <td>LT.NS</td>\n",
              "      <td>2023</td>\n",
              "      <td>2023-12-01</td>\n",
              "      <td>4</td>\n",
              "      <td>...</td>\n",
              "      <td>1.064772</td>\n",
              "      <td>0.971018</td>\n",
              "      <td>0.939967</td>\n",
              "      <td>0.797881</td>\n",
              "      <td>1.002935</td>\n",
              "      <td>1.040865</td>\n",
              "      <td>1.049324</td>\n",
              "      <td>1.175398</td>\n",
              "      <td>1.655339</td>\n",
              "      <td>2.614201</td>\n",
              "    </tr>\n",
              "    <tr>\n",
              "      <th>80758</th>\n",
              "      <td>3477.949951</td>\n",
              "      <td>3508.350098</td>\n",
              "      <td>3477.949951</td>\n",
              "      <td>3490.050049</td>\n",
              "      <td>3490.050049</td>\n",
              "      <td>1072263.0</td>\n",
              "      <td>LT.NS</td>\n",
              "      <td>2023</td>\n",
              "      <td>2023-12-01</td>\n",
              "      <td>1</td>\n",
              "      <td>...</td>\n",
              "      <td>1.058217</td>\n",
              "      <td>0.982429</td>\n",
              "      <td>0.956014</td>\n",
              "      <td>0.801404</td>\n",
              "      <td>0.974945</td>\n",
              "      <td>0.972127</td>\n",
              "      <td>1.005911</td>\n",
              "      <td>1.134509</td>\n",
              "      <td>1.613511</td>\n",
              "      <td>2.513055</td>\n",
              "    </tr>\n",
              "    <tr>\n",
              "      <th>80759</th>\n",
              "      <td>3510.000000</td>\n",
              "      <td>3549.000000</td>\n",
              "      <td>3504.149902</td>\n",
              "      <td>3544.000000</td>\n",
              "      <td>3544.000000</td>\n",
              "      <td>1389266.0</td>\n",
              "      <td>LT.NS</td>\n",
              "      <td>2023</td>\n",
              "      <td>2023-12-01</td>\n",
              "      <td>2</td>\n",
              "      <td>...</td>\n",
              "      <td>1.040496</td>\n",
              "      <td>0.965806</td>\n",
              "      <td>0.943050</td>\n",
              "      <td>0.749506</td>\n",
              "      <td>1.021694</td>\n",
              "      <td>1.009920</td>\n",
              "      <td>0.995203</td>\n",
              "      <td>1.166121</td>\n",
              "      <td>1.607712</td>\n",
              "      <td>2.598696</td>\n",
              "    </tr>\n",
              "    <tr>\n",
              "      <th>80760</th>\n",
              "      <td>3545.000000</td>\n",
              "      <td>3559.949951</td>\n",
              "      <td>3500.500000</td>\n",
              "      <td>3518.050049</td>\n",
              "      <td>3518.050049</td>\n",
              "      <td>3371121.0</td>\n",
              "      <td>LT.NS</td>\n",
              "      <td>2023</td>\n",
              "      <td>2023-12-01</td>\n",
              "      <td>3</td>\n",
              "      <td>...</td>\n",
              "      <td>1.005645</td>\n",
              "      <td>0.965632</td>\n",
              "      <td>0.932881</td>\n",
              "      <td>0.730228</td>\n",
              "      <td>0.981240</td>\n",
              "      <td>0.977409</td>\n",
              "      <td>0.971705</td>\n",
              "      <td>1.126794</td>\n",
              "      <td>1.583988</td>\n",
              "      <td>2.575301</td>\n",
              "    </tr>\n",
              "    <tr>\n",
              "      <th>80761</th>\n",
              "      <td>3531.000000</td>\n",
              "      <td>3540.000000</td>\n",
              "      <td>3495.000000</td>\n",
              "      <td>3526.000000</td>\n",
              "      <td>3526.000000</td>\n",
              "      <td>968577.0</td>\n",
              "      <td>LT.NS</td>\n",
              "      <td>2023</td>\n",
              "      <td>2023-12-01</td>\n",
              "      <td>4</td>\n",
              "      <td>...</td>\n",
              "      <td>0.972359</td>\n",
              "      <td>0.995092</td>\n",
              "      <td>0.925850</td>\n",
              "      <td>0.720539</td>\n",
              "      <td>0.987603</td>\n",
              "      <td>0.990099</td>\n",
              "      <td>0.956850</td>\n",
              "      <td>1.112020</td>\n",
              "      <td>1.561092</td>\n",
              "      <td>2.529656</td>\n",
              "    </tr>\n",
              "  </tbody>\n",
              "</table>\n",
              "<p>80762 rows × 202 columns</p>\n",
              "</div>\n",
              "    <div class=\"colab-df-buttons\">\n",
              "\n",
              "  <div class=\"colab-df-container\">\n",
              "    <button class=\"colab-df-convert\" onclick=\"convertToInteractive('df-565e6b75-6b56-4586-a4fb-30638ee64423')\"\n",
              "            title=\"Convert this dataframe to an interactive table.\"\n",
              "            style=\"display:none;\">\n",
              "\n",
              "  <svg xmlns=\"http://www.w3.org/2000/svg\" height=\"24px\" viewBox=\"0 -960 960 960\">\n",
              "    <path d=\"M120-120v-720h720v720H120Zm60-500h600v-160H180v160Zm220 220h160v-160H400v160Zm0 220h160v-160H400v160ZM180-400h160v-160H180v160Zm440 0h160v-160H620v160ZM180-180h160v-160H180v160Zm440 0h160v-160H620v160Z\"/>\n",
              "  </svg>\n",
              "    </button>\n",
              "\n",
              "  <style>\n",
              "    .colab-df-container {\n",
              "      display:flex;\n",
              "      gap: 12px;\n",
              "    }\n",
              "\n",
              "    .colab-df-convert {\n",
              "      background-color: #E8F0FE;\n",
              "      border: none;\n",
              "      border-radius: 50%;\n",
              "      cursor: pointer;\n",
              "      display: none;\n",
              "      fill: #1967D2;\n",
              "      height: 32px;\n",
              "      padding: 0 0 0 0;\n",
              "      width: 32px;\n",
              "    }\n",
              "\n",
              "    .colab-df-convert:hover {\n",
              "      background-color: #E2EBFA;\n",
              "      box-shadow: 0px 1px 2px rgba(60, 64, 67, 0.3), 0px 1px 3px 1px rgba(60, 64, 67, 0.15);\n",
              "      fill: #174EA6;\n",
              "    }\n",
              "\n",
              "    .colab-df-buttons div {\n",
              "      margin-bottom: 4px;\n",
              "    }\n",
              "\n",
              "    [theme=dark] .colab-df-convert {\n",
              "      background-color: #3B4455;\n",
              "      fill: #D2E3FC;\n",
              "    }\n",
              "\n",
              "    [theme=dark] .colab-df-convert:hover {\n",
              "      background-color: #434B5C;\n",
              "      box-shadow: 0px 1px 3px 1px rgba(0, 0, 0, 0.15);\n",
              "      filter: drop-shadow(0px 1px 2px rgba(0, 0, 0, 0.3));\n",
              "      fill: #FFFFFF;\n",
              "    }\n",
              "  </style>\n",
              "\n",
              "    <script>\n",
              "      const buttonEl =\n",
              "        document.querySelector('#df-565e6b75-6b56-4586-a4fb-30638ee64423 button.colab-df-convert');\n",
              "      buttonEl.style.display =\n",
              "        google.colab.kernel.accessAllowed ? 'block' : 'none';\n",
              "\n",
              "      async function convertToInteractive(key) {\n",
              "        const element = document.querySelector('#df-565e6b75-6b56-4586-a4fb-30638ee64423');\n",
              "        const dataTable =\n",
              "          await google.colab.kernel.invokeFunction('convertToInteractive',\n",
              "                                                    [key], {});\n",
              "        if (!dataTable) return;\n",
              "\n",
              "        const docLinkHtml = 'Like what you see? Visit the ' +\n",
              "          '<a target=\"_blank\" href=https://colab.research.google.com/notebooks/data_table.ipynb>data table notebook</a>'\n",
              "          + ' to learn more about interactive tables.';\n",
              "        element.innerHTML = '';\n",
              "        dataTable['output_type'] = 'display_data';\n",
              "        await google.colab.output.renderOutput(dataTable, element);\n",
              "        const docLink = document.createElement('div');\n",
              "        docLink.innerHTML = docLinkHtml;\n",
              "        element.appendChild(docLink);\n",
              "      }\n",
              "    </script>\n",
              "  </div>\n",
              "\n",
              "\n",
              "<div id=\"df-098862ad-8356-42d0-a555-d2571e744271\">\n",
              "  <button class=\"colab-df-quickchart\" onclick=\"quickchart('df-098862ad-8356-42d0-a555-d2571e744271')\"\n",
              "            title=\"Suggest charts\"\n",
              "            style=\"display:none;\">\n",
              "\n",
              "<svg xmlns=\"http://www.w3.org/2000/svg\" height=\"24px\"viewBox=\"0 0 24 24\"\n",
              "     width=\"24px\">\n",
              "    <g>\n",
              "        <path d=\"M19 3H5c-1.1 0-2 .9-2 2v14c0 1.1.9 2 2 2h14c1.1 0 2-.9 2-2V5c0-1.1-.9-2-2-2zM9 17H7v-7h2v7zm4 0h-2V7h2v10zm4 0h-2v-4h2v4z\"/>\n",
              "    </g>\n",
              "</svg>\n",
              "  </button>\n",
              "\n",
              "<style>\n",
              "  .colab-df-quickchart {\n",
              "      --bg-color: #E8F0FE;\n",
              "      --fill-color: #1967D2;\n",
              "      --hover-bg-color: #E2EBFA;\n",
              "      --hover-fill-color: #174EA6;\n",
              "      --disabled-fill-color: #AAA;\n",
              "      --disabled-bg-color: #DDD;\n",
              "  }\n",
              "\n",
              "  [theme=dark] .colab-df-quickchart {\n",
              "      --bg-color: #3B4455;\n",
              "      --fill-color: #D2E3FC;\n",
              "      --hover-bg-color: #434B5C;\n",
              "      --hover-fill-color: #FFFFFF;\n",
              "      --disabled-bg-color: #3B4455;\n",
              "      --disabled-fill-color: #666;\n",
              "  }\n",
              "\n",
              "  .colab-df-quickchart {\n",
              "    background-color: var(--bg-color);\n",
              "    border: none;\n",
              "    border-radius: 50%;\n",
              "    cursor: pointer;\n",
              "    display: none;\n",
              "    fill: var(--fill-color);\n",
              "    height: 32px;\n",
              "    padding: 0;\n",
              "    width: 32px;\n",
              "  }\n",
              "\n",
              "  .colab-df-quickchart:hover {\n",
              "    background-color: var(--hover-bg-color);\n",
              "    box-shadow: 0 1px 2px rgba(60, 64, 67, 0.3), 0 1px 3px 1px rgba(60, 64, 67, 0.15);\n",
              "    fill: var(--button-hover-fill-color);\n",
              "  }\n",
              "\n",
              "  .colab-df-quickchart-complete:disabled,\n",
              "  .colab-df-quickchart-complete:disabled:hover {\n",
              "    background-color: var(--disabled-bg-color);\n",
              "    fill: var(--disabled-fill-color);\n",
              "    box-shadow: none;\n",
              "  }\n",
              "\n",
              "  .colab-df-spinner {\n",
              "    border: 2px solid var(--fill-color);\n",
              "    border-color: transparent;\n",
              "    border-bottom-color: var(--fill-color);\n",
              "    animation:\n",
              "      spin 1s steps(1) infinite;\n",
              "  }\n",
              "\n",
              "  @keyframes spin {\n",
              "    0% {\n",
              "      border-color: transparent;\n",
              "      border-bottom-color: var(--fill-color);\n",
              "      border-left-color: var(--fill-color);\n",
              "    }\n",
              "    20% {\n",
              "      border-color: transparent;\n",
              "      border-left-color: var(--fill-color);\n",
              "      border-top-color: var(--fill-color);\n",
              "    }\n",
              "    30% {\n",
              "      border-color: transparent;\n",
              "      border-left-color: var(--fill-color);\n",
              "      border-top-color: var(--fill-color);\n",
              "      border-right-color: var(--fill-color);\n",
              "    }\n",
              "    40% {\n",
              "      border-color: transparent;\n",
              "      border-right-color: var(--fill-color);\n",
              "      border-top-color: var(--fill-color);\n",
              "    }\n",
              "    60% {\n",
              "      border-color: transparent;\n",
              "      border-right-color: var(--fill-color);\n",
              "    }\n",
              "    80% {\n",
              "      border-color: transparent;\n",
              "      border-right-color: var(--fill-color);\n",
              "      border-bottom-color: var(--fill-color);\n",
              "    }\n",
              "    90% {\n",
              "      border-color: transparent;\n",
              "      border-bottom-color: var(--fill-color);\n",
              "    }\n",
              "  }\n",
              "</style>\n",
              "\n",
              "  <script>\n",
              "    async function quickchart(key) {\n",
              "      const quickchartButtonEl =\n",
              "        document.querySelector('#' + key + ' button');\n",
              "      quickchartButtonEl.disabled = true;  // To prevent multiple clicks.\n",
              "      quickchartButtonEl.classList.add('colab-df-spinner');\n",
              "      try {\n",
              "        const charts = await google.colab.kernel.invokeFunction(\n",
              "            'suggestCharts', [key], {});\n",
              "      } catch (error) {\n",
              "        console.error('Error during call to suggestCharts:', error);\n",
              "      }\n",
              "      quickchartButtonEl.classList.remove('colab-df-spinner');\n",
              "      quickchartButtonEl.classList.add('colab-df-quickchart-complete');\n",
              "    }\n",
              "    (() => {\n",
              "      let quickchartButtonEl =\n",
              "        document.querySelector('#df-098862ad-8356-42d0-a555-d2571e744271 button');\n",
              "      quickchartButtonEl.style.display =\n",
              "        google.colab.kernel.accessAllowed ? 'block' : 'none';\n",
              "    })();\n",
              "  </script>\n",
              "</div>\n",
              "\n",
              "  <div id=\"id_21f13a5d-f1c1-4349-83cf-737c75a89175\">\n",
              "    <style>\n",
              "      .colab-df-generate {\n",
              "        background-color: #E8F0FE;\n",
              "        border: none;\n",
              "        border-radius: 50%;\n",
              "        cursor: pointer;\n",
              "        display: none;\n",
              "        fill: #1967D2;\n",
              "        height: 32px;\n",
              "        padding: 0 0 0 0;\n",
              "        width: 32px;\n",
              "      }\n",
              "\n",
              "      .colab-df-generate:hover {\n",
              "        background-color: #E2EBFA;\n",
              "        box-shadow: 0px 1px 2px rgba(60, 64, 67, 0.3), 0px 1px 3px 1px rgba(60, 64, 67, 0.15);\n",
              "        fill: #174EA6;\n",
              "      }\n",
              "\n",
              "      [theme=dark] .colab-df-generate {\n",
              "        background-color: #3B4455;\n",
              "        fill: #D2E3FC;\n",
              "      }\n",
              "\n",
              "      [theme=dark] .colab-df-generate:hover {\n",
              "        background-color: #434B5C;\n",
              "        box-shadow: 0px 1px 3px 1px rgba(0, 0, 0, 0.15);\n",
              "        filter: drop-shadow(0px 1px 2px rgba(0, 0, 0, 0.3));\n",
              "        fill: #FFFFFF;\n",
              "      }\n",
              "    </style>\n",
              "    <button class=\"colab-df-generate\" onclick=\"generateWithVariable('df')\"\n",
              "            title=\"Generate code using this dataframe.\"\n",
              "            style=\"display:none;\">\n",
              "\n",
              "  <svg xmlns=\"http://www.w3.org/2000/svg\" height=\"24px\"viewBox=\"0 0 24 24\"\n",
              "       width=\"24px\">\n",
              "    <path d=\"M7,19H8.4L18.45,9,17,7.55,7,17.6ZM5,21V16.75L18.45,3.32a2,2,0,0,1,2.83,0l1.4,1.43a1.91,1.91,0,0,1,.58,1.4,1.91,1.91,0,0,1-.58,1.4L9.25,21ZM18.45,9,17,7.55Zm-12,3A5.31,5.31,0,0,0,4.9,8.1,5.31,5.31,0,0,0,1,6.5,5.31,5.31,0,0,0,4.9,4.9,5.31,5.31,0,0,0,6.5,1,5.31,5.31,0,0,0,8.1,4.9,5.31,5.31,0,0,0,12,6.5,5.46,5.46,0,0,0,6.5,12Z\"/>\n",
              "  </svg>\n",
              "    </button>\n",
              "    <script>\n",
              "      (() => {\n",
              "      const buttonEl =\n",
              "        document.querySelector('#id_21f13a5d-f1c1-4349-83cf-737c75a89175 button.colab-df-generate');\n",
              "      buttonEl.style.display =\n",
              "        google.colab.kernel.accessAllowed ? 'block' : 'none';\n",
              "\n",
              "      buttonEl.onclick = () => {\n",
              "        google.colab.notebook.generateWithVariable('df');\n",
              "      }\n",
              "      })();\n",
              "    </script>\n",
              "  </div>\n",
              "\n",
              "    </div>\n",
              "  </div>\n"
            ],
            "application/vnd.google.colaboratory.intrinsic+json": {
              "type": "dataframe",
              "variable_name": "df"
            }
          },
          "metadata": {},
          "execution_count": 77
        }
      ]
    },
    {
      "cell_type": "code",
      "source": [
        "df.columns.values"
      ],
      "metadata": {
        "colab": {
          "base_uri": "https://localhost:8080/"
        },
        "id": "tnh-X27ueLTT",
        "outputId": "6b022678-e543-437f-f6a4-b048adb98b29"
      },
      "execution_count": 79,
      "outputs": [
        {
          "output_type": "execute_result",
          "data": {
            "text/plain": [
              "array(['Open', 'High', 'Low', 'Close', 'Adj Close_x', 'Volume', 'Ticker',\n",
              "       'Year', 'Month', 'Weekday', 'Date', 'growth_1d', 'growth_3d',\n",
              "       'growth_7d', 'growth_30d', 'growth_90d', 'growth_365d',\n",
              "       'growth_future_5d', 'SMA10', 'SMA20', 'growing_moving_average',\n",
              "       'high_minus_low_relative', 'volatility',\n",
              "       'is_positive_growth_5d_future', 'ticker_type', 'index_x', 'adx',\n",
              "       'adxr', 'apo', 'aroon_1', 'aroon_2', 'aroonosc', 'bop', 'cci',\n",
              "       'cmo', 'dx', 'macd', 'macdsignal', 'macdhist', 'macd_ext',\n",
              "       'macdsignal_ext', 'macdhist_ext', 'macd_fix', 'macdsignal_fix',\n",
              "       'macdhist_fix', 'mfi', 'minus_di', 'mom', 'plus_di', 'dm', 'ppo',\n",
              "       'roc', 'rocp', 'rocr', 'rocr100', 'rsi', 'slowk', 'slowd', 'fastk',\n",
              "       'fastd', 'fastk_rsi', 'fastd_rsi', 'trix', 'ultosc', 'willr',\n",
              "       'index_y', 'ad', 'adosc', 'obv', 'atr', 'natr', 'ht_dcperiod',\n",
              "       'ht_dcphase', 'ht_phasor_inphase', 'ht_phasor_quadrature',\n",
              "       'ht_sine_sine', 'ht_sine_leadsine', 'ht_trendmod', 'avgprice',\n",
              "       'medprice', 'typprice', 'wclprice', 'index', 'cdl2crows',\n",
              "       'cdl3blackrows', 'cdl3inside', 'cdl3linestrike', 'cdl3outside',\n",
              "       'cdl3starsinsouth', 'cdl3whitesoldiers', 'cdlabandonedbaby',\n",
              "       'cdladvancedblock', 'cdlbelthold', 'cdlbreakaway',\n",
              "       'cdlclosingmarubozu', 'cdlconcealbabyswall', 'cdlcounterattack',\n",
              "       'cdldarkcloudcover', 'cdldoji', 'cdldojistar', 'cdldragonflydoji',\n",
              "       'cdlengulfing', 'cdleveningdojistar', 'cdleveningstar',\n",
              "       'cdlgapsidesidewhite', 'cdlgravestonedoji', 'cdlhammer',\n",
              "       'cdlhangingman', 'cdlharami', 'cdlharamicross', 'cdlhighwave',\n",
              "       'cdlhikkake', 'cdlhikkakemod', 'cdlhomingpigeon',\n",
              "       'cdlidentical3crows', 'cdlinneck', 'cdlinvertedhammer',\n",
              "       'cdlkicking', 'cdlkickingbylength', 'cdlladderbottom',\n",
              "       'cdllongleggeddoji', 'cdllongline', 'cdlmarubozu',\n",
              "       'cdlmatchinglow', 'cdlmathold', 'cdlmorningdojistar',\n",
              "       'cdlmorningstar', 'cdlonneck', 'cdlpiercing', 'cdlrickshawman',\n",
              "       'cdlrisefall3methods', 'cdlseparatinglines', 'cdlshootingstar',\n",
              "       'cdlshortline', 'cdlspinningtop', 'cdlstalledpattern',\n",
              "       'cdlsticksandwich', 'cdltakuru', 'cdltasukigap', 'cdlthrusting',\n",
              "       'cdltristar', 'cdlunique3river', 'cdlupsidegap2crows',\n",
              "       'cdlxsidegap3methods', 'growth_dax_1d', 'growth_dax_3d',\n",
              "       'growth_dax_7d', 'growth_dax_30d', 'growth_dax_90d',\n",
              "       'growth_dax_365d', 'growth_snp500_1d', 'growth_snp500_3d',\n",
              "       'growth_snp500_7d', 'growth_snp500_30d', 'growth_snp500_90d',\n",
              "       'growth_snp500_365d', 'growth_dji_1d', 'growth_dji_3d',\n",
              "       'growth_dji_7d', 'growth_dji_30d', 'growth_dji_90d',\n",
              "       'growth_dji_365d', 'growth_epi_1d', 'growth_epi_3d',\n",
              "       'growth_epi_7d', 'growth_epi_30d', 'growth_epi_90d',\n",
              "       'growth_epi_365d', 'Quarter', 'gdppot_us_yoy', 'gdppot_us_qoq',\n",
              "       'cpi_core_yoy', 'cpi_core_mom', 'FEDFUNDS', 'DGS1', 'DGS5',\n",
              "       'DGS10', 'Adj Close_y', 'growth_gold_1d', 'growth_gold_3d',\n",
              "       'growth_gold_7d', 'growth_gold_30d', 'growth_gold_90d',\n",
              "       'growth_gold_365d', 'growth_wti_oil_1d', 'growth_wti_oil_3d',\n",
              "       'growth_wti_oil_7d', 'growth_wti_oil_30d', 'growth_wti_oil_90d',\n",
              "       'growth_wti_oil_365d', 'growth_brent_oil_1d',\n",
              "       'growth_brent_oil_3d', 'growth_brent_oil_7d',\n",
              "       'growth_brent_oil_30d', 'growth_brent_oil_90d',\n",
              "       'growth_brent_oil_365d', 'growth_btc_usd_1d', 'growth_btc_usd_3d',\n",
              "       'growth_btc_usd_7d', 'growth_btc_usd_30d', 'growth_btc_usd_90d',\n",
              "       'growth_btc_usd_365d'], dtype=object)"
            ]
          },
          "metadata": {},
          "execution_count": 79
        }
      ]
    },
    {
      "cell_type": "code",
      "source": [
        "df.Date.min(), df.Date.max()"
      ],
      "metadata": {
        "colab": {
          "base_uri": "https://localhost:8080/"
        },
        "id": "Q6opjp8wd_YW",
        "outputId": "6a2788e0-5797-439b-dcd4-039facaf8198"
      },
      "execution_count": 78,
      "outputs": [
        {
          "output_type": "execute_result",
          "data": {
            "text/plain": [
              "(Timestamp('2014-01-01 00:00:00'), Timestamp('2023-12-29 00:00:00'))"
            ]
          },
          "metadata": {},
          "execution_count": 78
        }
      ]
    },
    {
      "cell_type": "code",
      "source": [
        "# Step 1: Filter the DataFrame to include only records where CCI > 200\n",
        "cci_trades = df[df['cci'] > 200]\n",
        "\n",
        "# Step 2: Initialize gross profit\n",
        "gross_profit = 0\n",
        "\n",
        "# Step 3: Calculate profit/loss for each trade\n",
        "for index, row in cci_trades.iterrows():\n",
        "    buy_price = row['Adj Close_x']\n",
        "    sell_price = df.loc[index + 5, 'Adj Close_x']\n",
        "    profit_loss = (sell_price - buy_price)   # Assuming $1000 investment\n",
        "    gross_profit += profit_loss\n",
        "\n",
        "# Step 4: Convert gross profit to thousands of dollars\n",
        "gross_profit_thousands = int(gross_profit / 1000)\n",
        "\n",
        "print(\"Total gross profit (in THOUSANDS of $):\", gross_profit_thousands)"
      ],
      "metadata": {
        "colab": {
          "base_uri": "https://localhost:8080/"
        },
        "id": "HsNJOza7ea98",
        "outputId": "ae59647a-934b-4e4a-a9a7-aa7ae2a24023"
      },
      "execution_count": 85,
      "outputs": [
        {
          "output_type": "stream",
          "name": "stdout",
          "text": [
            "Total gross profit (in THOUSANDS of $): 2\n"
          ]
        }
      ]
    }
  ]
}